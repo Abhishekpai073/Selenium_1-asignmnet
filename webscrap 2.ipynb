{
 "cells": [
  {
   "cell_type": "code",
   "execution_count": 1517,
   "metadata": {},
   "outputs": [],
   "source": [
    "import selenium\n",
    "import pandas as pd\n",
    "from selenium import webdriver\n",
    "import time\n",
    "from selenium.common.exceptions import NoSuchElementException"
   ]
  },
  {
   "cell_type": "code",
   "execution_count": 1518,
   "metadata": {},
   "outputs": [],
   "source": [
    "driver=webdriver.Chrome(r'chromedriver.exe')"
   ]
  },
  {
   "cell_type": "code",
   "execution_count": 1519,
   "metadata": {},
   "outputs": [],
   "source": [
    "url='https://www.naukri.com/'\n",
    "driver.get(url)"
   ]
  },
  {
   "cell_type": "markdown",
   "metadata": {},
   "source": [
    "# Q1"
   ]
  },
  {
   "cell_type": "code",
   "execution_count": 1520,
   "metadata": {},
   "outputs": [
    {
     "data": {
      "text/plain": [
       "<selenium.webdriver.remote.webelement.WebElement (session=\"e8a0f3bf89867ef77a98b580bd5cc7cd\", element=\"ddbfd8fc-4ddc-4278-b58d-797d34545935\")>"
      ]
     },
     "execution_count": 1520,
     "metadata": {},
     "output_type": "execute_result"
    }
   ],
   "source": [
    "sj=driver.find_element_by_id('qsb-keyword-sugg')\n",
    "sj"
   ]
  },
  {
   "cell_type": "code",
   "execution_count": 1521,
   "metadata": {},
   "outputs": [],
   "source": [
    "sj.send_keys('Data Analyst')"
   ]
  },
  {
   "cell_type": "code",
   "execution_count": 1522,
   "metadata": {},
   "outputs": [],
   "source": [
    "sl=driver.find_element_by_id('qsb-location-sugg')\n",
    "sl.send_keys('Bangalore')"
   ]
  },
  {
   "cell_type": "code",
   "execution_count": 1523,
   "metadata": {},
   "outputs": [],
   "source": [
    "sb=driver.find_element_by_xpath(\"//button[@class='btn']\")\n",
    "sb.click()"
   ]
  },
  {
   "cell_type": "code",
   "execution_count": null,
   "metadata": {},
   "outputs": [],
   "source": []
  },
  {
   "cell_type": "code",
   "execution_count": 1524,
   "metadata": {},
   "outputs": [
    {
     "data": {
      "text/plain": [
       "[<selenium.webdriver.remote.webelement.WebElement (session=\"e8a0f3bf89867ef77a98b580bd5cc7cd\", element=\"daf85b31-70d3-49cd-a375-5eaeedb82d5c\")>,\n",
       " <selenium.webdriver.remote.webelement.WebElement (session=\"e8a0f3bf89867ef77a98b580bd5cc7cd\", element=\"d27f7592-d959-4a9e-be9e-92cd822219df\")>,\n",
       " <selenium.webdriver.remote.webelement.WebElement (session=\"e8a0f3bf89867ef77a98b580bd5cc7cd\", element=\"429fb0c5-7b9e-420c-b994-25721399b654\")>,\n",
       " <selenium.webdriver.remote.webelement.WebElement (session=\"e8a0f3bf89867ef77a98b580bd5cc7cd\", element=\"b4135b28-bc57-432a-a109-64e7e64b3380\")>,\n",
       " <selenium.webdriver.remote.webelement.WebElement (session=\"e8a0f3bf89867ef77a98b580bd5cc7cd\", element=\"7704fa98-242e-47fa-8291-9038c7dda3b9\")>,\n",
       " <selenium.webdriver.remote.webelement.WebElement (session=\"e8a0f3bf89867ef77a98b580bd5cc7cd\", element=\"e98b1c97-c05d-493f-bb23-70aba0ab7ec6\")>,\n",
       " <selenium.webdriver.remote.webelement.WebElement (session=\"e8a0f3bf89867ef77a98b580bd5cc7cd\", element=\"537b49e1-25e4-45cb-853e-d370dd9e3526\")>,\n",
       " <selenium.webdriver.remote.webelement.WebElement (session=\"e8a0f3bf89867ef77a98b580bd5cc7cd\", element=\"4ff88b51-ba7f-4c98-9c8b-0f3d63be9a84\")>,\n",
       " <selenium.webdriver.remote.webelement.WebElement (session=\"e8a0f3bf89867ef77a98b580bd5cc7cd\", element=\"d9b5dcac-c880-4d19-b1a7-c79a240a28b8\")>,\n",
       " <selenium.webdriver.remote.webelement.WebElement (session=\"e8a0f3bf89867ef77a98b580bd5cc7cd\", element=\"3c813402-a506-4089-97f4-4203c4cb2c2a\")>,\n",
       " <selenium.webdriver.remote.webelement.WebElement (session=\"e8a0f3bf89867ef77a98b580bd5cc7cd\", element=\"60c9703c-3df4-48fd-80ba-136049e23ff6\")>,\n",
       " <selenium.webdriver.remote.webelement.WebElement (session=\"e8a0f3bf89867ef77a98b580bd5cc7cd\", element=\"4d0facd4-2827-4267-8624-7345699ddb35\")>,\n",
       " <selenium.webdriver.remote.webelement.WebElement (session=\"e8a0f3bf89867ef77a98b580bd5cc7cd\", element=\"f580c631-49d9-42ef-baff-f74ff288c52f\")>,\n",
       " <selenium.webdriver.remote.webelement.WebElement (session=\"e8a0f3bf89867ef77a98b580bd5cc7cd\", element=\"96b5efdf-4389-4bad-8ef4-805e0a0af338\")>,\n",
       " <selenium.webdriver.remote.webelement.WebElement (session=\"e8a0f3bf89867ef77a98b580bd5cc7cd\", element=\"12513943-74d7-4ddb-b5d2-a18d6d1f14bb\")>,\n",
       " <selenium.webdriver.remote.webelement.WebElement (session=\"e8a0f3bf89867ef77a98b580bd5cc7cd\", element=\"a1439124-e24b-480a-8e54-b1ec77d0bdda\")>,\n",
       " <selenium.webdriver.remote.webelement.WebElement (session=\"e8a0f3bf89867ef77a98b580bd5cc7cd\", element=\"b0063942-1201-43e8-95c9-bbb088d1dff7\")>,\n",
       " <selenium.webdriver.remote.webelement.WebElement (session=\"e8a0f3bf89867ef77a98b580bd5cc7cd\", element=\"58c4754d-fa74-4933-8c6f-08ba342103c1\")>,\n",
       " <selenium.webdriver.remote.webelement.WebElement (session=\"e8a0f3bf89867ef77a98b580bd5cc7cd\", element=\"25f80240-d3df-44c5-badb-a4444cbbd417\")>,\n",
       " <selenium.webdriver.remote.webelement.WebElement (session=\"e8a0f3bf89867ef77a98b580bd5cc7cd\", element=\"4c55fb51-bec1-46bd-898c-e535049e58e0\")>]"
      ]
     },
     "execution_count": 1524,
     "metadata": {},
     "output_type": "execute_result"
    }
   ],
   "source": [
    "title_=driver.find_elements_by_xpath(\"//a[@class='title fw500 ellipsis']\")\n",
    "title_"
   ]
  },
  {
   "cell_type": "code",
   "execution_count": 1525,
   "metadata": {},
   "outputs": [
    {
     "data": {
      "text/plain": [
       "['Data Scientist / Data Analyst -Business Analyst',\n",
       " 'Data Analyst - Informatica MDM',\n",
       " 'Assistant Vice President - MIS & Reporting ( Business Data Analyst)',\n",
       " 'Data Analyst',\n",
       " 'Hiring For Data Analyst/ MIS Reporting Analyst - Bangalore',\n",
       " 'Consultant-Data Analyst -Bangalore',\n",
       " 'Data analyst - Google Analytics',\n",
       " 'SW Technologist I- Data Analyst',\n",
       " 'Data Analyst',\n",
       " 'Hiring For Data Analyst @ Flipkart on Contract']"
      ]
     },
     "execution_count": 1525,
     "metadata": {},
     "output_type": "execute_result"
    }
   ],
   "source": [
    "title=[]\n",
    "\n",
    "k=0\n",
    "for i in title_:\n",
    "    k=k+1\n",
    "    if k>=11:\n",
    "        break\n",
    "    \n",
    "   \n",
    "\n",
    "    title.append(i.text.replace('\\n',' '))\n",
    "    \n",
    "title"
   ]
  },
  {
   "cell_type": "code",
   "execution_count": 1526,
   "metadata": {
    "scrolled": true
   },
   "outputs": [
    {
     "data": {
      "text/plain": [
       "[<selenium.webdriver.remote.webelement.WebElement (session=\"e8a0f3bf89867ef77a98b580bd5cc7cd\", element=\"32a44a3b-8827-4a90-8f01-cfc7b56e38c5\")>,\n",
       " <selenium.webdriver.remote.webelement.WebElement (session=\"e8a0f3bf89867ef77a98b580bd5cc7cd\", element=\"6e43b736-69d6-475b-8594-ca1088a9d3f1\")>,\n",
       " <selenium.webdriver.remote.webelement.WebElement (session=\"e8a0f3bf89867ef77a98b580bd5cc7cd\", element=\"3a9366e3-6cd2-4aec-bf05-832ef704bc6e\")>,\n",
       " <selenium.webdriver.remote.webelement.WebElement (session=\"e8a0f3bf89867ef77a98b580bd5cc7cd\", element=\"d6666097-65c3-4f2b-b15f-8971643b0872\")>,\n",
       " <selenium.webdriver.remote.webelement.WebElement (session=\"e8a0f3bf89867ef77a98b580bd5cc7cd\", element=\"dec58931-a5f9-49b2-bfe0-3db80a197290\")>,\n",
       " <selenium.webdriver.remote.webelement.WebElement (session=\"e8a0f3bf89867ef77a98b580bd5cc7cd\", element=\"fb38cad8-b3db-4ce6-81e1-8757fced57c5\")>,\n",
       " <selenium.webdriver.remote.webelement.WebElement (session=\"e8a0f3bf89867ef77a98b580bd5cc7cd\", element=\"547f5351-7f33-4f71-90ca-7226df198eea\")>,\n",
       " <selenium.webdriver.remote.webelement.WebElement (session=\"e8a0f3bf89867ef77a98b580bd5cc7cd\", element=\"e1635a3c-e8c3-4dab-a7fe-5451a29f9809\")>,\n",
       " <selenium.webdriver.remote.webelement.WebElement (session=\"e8a0f3bf89867ef77a98b580bd5cc7cd\", element=\"6f340eeb-baa2-4022-8fea-6201f5ce4f6f\")>,\n",
       " <selenium.webdriver.remote.webelement.WebElement (session=\"e8a0f3bf89867ef77a98b580bd5cc7cd\", element=\"065efd9d-4143-4f25-ac05-8126abc2e0d9\")>,\n",
       " <selenium.webdriver.remote.webelement.WebElement (session=\"e8a0f3bf89867ef77a98b580bd5cc7cd\", element=\"154eaead-e918-4fc2-ad5e-4237fc052e0d\")>,\n",
       " <selenium.webdriver.remote.webelement.WebElement (session=\"e8a0f3bf89867ef77a98b580bd5cc7cd\", element=\"711c0514-b5f7-4266-8e1a-72d24f013181\")>,\n",
       " <selenium.webdriver.remote.webelement.WebElement (session=\"e8a0f3bf89867ef77a98b580bd5cc7cd\", element=\"e8d8e222-3838-405e-8b6a-56b54cceaf78\")>,\n",
       " <selenium.webdriver.remote.webelement.WebElement (session=\"e8a0f3bf89867ef77a98b580bd5cc7cd\", element=\"b572287d-2b37-4a64-aff6-ed6a99015199\")>,\n",
       " <selenium.webdriver.remote.webelement.WebElement (session=\"e8a0f3bf89867ef77a98b580bd5cc7cd\", element=\"10835ff3-0567-497e-b3be-754f639e4849\")>,\n",
       " <selenium.webdriver.remote.webelement.WebElement (session=\"e8a0f3bf89867ef77a98b580bd5cc7cd\", element=\"f36a1f8c-3074-49ec-bc0b-90aa107290ae\")>,\n",
       " <selenium.webdriver.remote.webelement.WebElement (session=\"e8a0f3bf89867ef77a98b580bd5cc7cd\", element=\"5aac8dc3-bec9-48fa-82a7-4f3e6c232eb0\")>,\n",
       " <selenium.webdriver.remote.webelement.WebElement (session=\"e8a0f3bf89867ef77a98b580bd5cc7cd\", element=\"46204322-3800-40ce-9b2d-cf3cafd5c794\")>,\n",
       " <selenium.webdriver.remote.webelement.WebElement (session=\"e8a0f3bf89867ef77a98b580bd5cc7cd\", element=\"c44fedba-a961-4639-80e5-b597ac9ddd04\")>,\n",
       " <selenium.webdriver.remote.webelement.WebElement (session=\"e8a0f3bf89867ef77a98b580bd5cc7cd\", element=\"05975849-f454-4c1f-85fa-b0dd650548f6\")>]"
      ]
     },
     "execution_count": 1526,
     "metadata": {},
     "output_type": "execute_result"
    }
   ],
   "source": [
    "company_name_=driver.find_elements_by_xpath(\"//a[@class='subTitle ellipsis fleft']\")\n",
    "company_name_"
   ]
  },
  {
   "cell_type": "code",
   "execution_count": 1527,
   "metadata": {},
   "outputs": [
    {
     "data": {
      "text/plain": [
       "['Inflexion Analytix Private Limited',\n",
       " 'Shell India Markets Private Limited',\n",
       " 'INTERTRUSTVITEOS CORPORATE AND FUND SERVICES PVT. LTD.',\n",
       " 'SA Tech Software (I) Pvt. Ltd.',\n",
       " 'PHARMACEUTICAL RESEARCH ASSOCIATES INDIA Pvt Ltd',\n",
       " 'Innovsource Services Private Limited',\n",
       " 'H and M Hennes and Mauritz (P) Ltd.',\n",
       " 'Philips India Limited',\n",
       " 'Flipkart Internet Private Limited',\n",
       " 'Flipkart Internet Private Limited']"
      ]
     },
     "execution_count": 1527,
     "metadata": {},
     "output_type": "execute_result"
    }
   ],
   "source": [
    "company_name=[]\n",
    "\n",
    "k=0\n",
    "for i in company_name_:\n",
    "    k=k+1\n",
    "    if k>=11:\n",
    "        break\n",
    "    \n",
    "   \n",
    "\n",
    "    company_name.append(i.text.replace('\\n',' '))\n",
    "    \n",
    "company_name"
   ]
  },
  {
   "cell_type": "code",
   "execution_count": 1528,
   "metadata": {},
   "outputs": [
    {
     "data": {
      "text/plain": [
       "[<selenium.webdriver.remote.webelement.WebElement (session=\"e8a0f3bf89867ef77a98b580bd5cc7cd\", element=\"ee67b29b-70fd-4c27-9375-5444e9318d49\")>,\n",
       " <selenium.webdriver.remote.webelement.WebElement (session=\"e8a0f3bf89867ef77a98b580bd5cc7cd\", element=\"1c30c6e7-fd64-4dd9-b444-a66f85e358b5\")>,\n",
       " <selenium.webdriver.remote.webelement.WebElement (session=\"e8a0f3bf89867ef77a98b580bd5cc7cd\", element=\"7ba971c3-afe7-482e-bb21-30e87e5c5e1d\")>,\n",
       " <selenium.webdriver.remote.webelement.WebElement (session=\"e8a0f3bf89867ef77a98b580bd5cc7cd\", element=\"e580b81b-c8aa-4471-a57c-147cb682dfbd\")>,\n",
       " <selenium.webdriver.remote.webelement.WebElement (session=\"e8a0f3bf89867ef77a98b580bd5cc7cd\", element=\"1f84c9ef-9c52-4e17-b15b-b8c97987d846\")>,\n",
       " <selenium.webdriver.remote.webelement.WebElement (session=\"e8a0f3bf89867ef77a98b580bd5cc7cd\", element=\"058a8fa2-5b87-497d-846a-f41f9e02945b\")>,\n",
       " <selenium.webdriver.remote.webelement.WebElement (session=\"e8a0f3bf89867ef77a98b580bd5cc7cd\", element=\"d478ba4f-86c2-4730-9806-98256e5f1712\")>,\n",
       " <selenium.webdriver.remote.webelement.WebElement (session=\"e8a0f3bf89867ef77a98b580bd5cc7cd\", element=\"b78d2d52-bbf9-45fd-95c6-4662df1ababb\")>,\n",
       " <selenium.webdriver.remote.webelement.WebElement (session=\"e8a0f3bf89867ef77a98b580bd5cc7cd\", element=\"69c6e555-de5b-4966-bda4-0439fe53fbb7\")>,\n",
       " <selenium.webdriver.remote.webelement.WebElement (session=\"e8a0f3bf89867ef77a98b580bd5cc7cd\", element=\"6b17eb11-7e9f-4ec3-bca8-a5f888922026\")>,\n",
       " <selenium.webdriver.remote.webelement.WebElement (session=\"e8a0f3bf89867ef77a98b580bd5cc7cd\", element=\"0774a53a-76b3-401f-b80e-b574d080b1c5\")>,\n",
       " <selenium.webdriver.remote.webelement.WebElement (session=\"e8a0f3bf89867ef77a98b580bd5cc7cd\", element=\"af0dc6d1-cc3f-4492-8c6b-3d1abbb81e0b\")>,\n",
       " <selenium.webdriver.remote.webelement.WebElement (session=\"e8a0f3bf89867ef77a98b580bd5cc7cd\", element=\"a11f0a80-f710-4de4-88cc-36ab779e5cc0\")>,\n",
       " <selenium.webdriver.remote.webelement.WebElement (session=\"e8a0f3bf89867ef77a98b580bd5cc7cd\", element=\"c7e54407-5b48-4749-a059-dd18f1d18f0f\")>,\n",
       " <selenium.webdriver.remote.webelement.WebElement (session=\"e8a0f3bf89867ef77a98b580bd5cc7cd\", element=\"1cac15af-b5e2-4963-b114-bafd7838fa4e\")>,\n",
       " <selenium.webdriver.remote.webelement.WebElement (session=\"e8a0f3bf89867ef77a98b580bd5cc7cd\", element=\"f631d374-347d-48db-847a-0878fca4f0b9\")>,\n",
       " <selenium.webdriver.remote.webelement.WebElement (session=\"e8a0f3bf89867ef77a98b580bd5cc7cd\", element=\"9db56ba8-16ea-42f7-b704-41dc78ecaad2\")>,\n",
       " <selenium.webdriver.remote.webelement.WebElement (session=\"e8a0f3bf89867ef77a98b580bd5cc7cd\", element=\"7bc5a19d-1597-4ecb-b98e-d5e50ede6996\")>,\n",
       " <selenium.webdriver.remote.webelement.WebElement (session=\"e8a0f3bf89867ef77a98b580bd5cc7cd\", element=\"23623faa-7b5d-4a95-955a-ff1b2d0af65a\")>,\n",
       " <selenium.webdriver.remote.webelement.WebElement (session=\"e8a0f3bf89867ef77a98b580bd5cc7cd\", element=\"1037db09-fe6e-4e20-b549-1bf01d44bb8a\")>]"
      ]
     },
     "execution_count": 1528,
     "metadata": {},
     "output_type": "execute_result"
    }
   ],
   "source": [
    "location_=driver.find_elements_by_xpath(\"//li[@class='fleft grey-text br2 placeHolderLi location']\")\n",
    "location_"
   ]
  },
  {
   "cell_type": "code",
   "execution_count": 1529,
   "metadata": {
    "scrolled": false
   },
   "outputs": [
    {
     "data": {
      "text/plain": [
       "['Mumbai, Hyderabad/Secunderabad, Pune, Gurgaon/Gurugram, Chennai, Bangalore/Bengaluru',\n",
       " 'Bangalore/Bengaluru',\n",
       " 'Mumbai, Bangalore/Bengaluru',\n",
       " 'Kolkata, Pune, Chennai, Bangalore/Bengaluru, Delhi / NCR, Mumbai (All Areas)',\n",
       " 'Bangalore/Bengaluru',\n",
       " 'Bangalore/Bengaluru',\n",
       " 'Bangalore/Bengaluru',\n",
       " 'Bangalore/Bengaluru',\n",
       " 'Bangalore/Bengaluru',\n",
       " 'Bangalore/Bengaluru']"
      ]
     },
     "execution_count": 1529,
     "metadata": {},
     "output_type": "execute_result"
    }
   ],
   "source": [
    "location=[]\n",
    "\n",
    "k=0\n",
    "for i in location_:\n",
    "    k=k+1\n",
    "    if k>=11:\n",
    "        break\n",
    "    \n",
    "   \n",
    "\n",
    "    location.append(i.text.replace('\\n',' '))\n",
    "    \n",
    "location"
   ]
  },
  {
   "cell_type": "code",
   "execution_count": 1530,
   "metadata": {},
   "outputs": [
    {
     "data": {
      "text/plain": [
       "[<selenium.webdriver.remote.webelement.WebElement (session=\"e8a0f3bf89867ef77a98b580bd5cc7cd\", element=\"99834f65-0753-412a-ad3c-367eec0abd7c\")>,\n",
       " <selenium.webdriver.remote.webelement.WebElement (session=\"e8a0f3bf89867ef77a98b580bd5cc7cd\", element=\"c3b0c8f0-dd45-4add-b29e-cea4f4528d38\")>,\n",
       " <selenium.webdriver.remote.webelement.WebElement (session=\"e8a0f3bf89867ef77a98b580bd5cc7cd\", element=\"72f96202-2b19-434b-986a-6eb629a15337\")>,\n",
       " <selenium.webdriver.remote.webelement.WebElement (session=\"e8a0f3bf89867ef77a98b580bd5cc7cd\", element=\"495d8440-6edd-4f84-acb9-b22926dc6c6c\")>,\n",
       " <selenium.webdriver.remote.webelement.WebElement (session=\"e8a0f3bf89867ef77a98b580bd5cc7cd\", element=\"f4c0f9cd-ac9a-4cdc-9bdf-07c033d188b9\")>,\n",
       " <selenium.webdriver.remote.webelement.WebElement (session=\"e8a0f3bf89867ef77a98b580bd5cc7cd\", element=\"f5a60c7e-d23d-4915-93a2-3b715bf3bf20\")>,\n",
       " <selenium.webdriver.remote.webelement.WebElement (session=\"e8a0f3bf89867ef77a98b580bd5cc7cd\", element=\"3e658f18-0c28-458a-81ab-67261250cf10\")>,\n",
       " <selenium.webdriver.remote.webelement.WebElement (session=\"e8a0f3bf89867ef77a98b580bd5cc7cd\", element=\"575ec33b-fac2-4f8e-bf70-41473fe8e79c\")>,\n",
       " <selenium.webdriver.remote.webelement.WebElement (session=\"e8a0f3bf89867ef77a98b580bd5cc7cd\", element=\"f5542aae-c538-47a5-9c5e-4da9b591f307\")>,\n",
       " <selenium.webdriver.remote.webelement.WebElement (session=\"e8a0f3bf89867ef77a98b580bd5cc7cd\", element=\"27a9c29e-31aa-4dc7-b13f-06ff094ca82b\")>,\n",
       " <selenium.webdriver.remote.webelement.WebElement (session=\"e8a0f3bf89867ef77a98b580bd5cc7cd\", element=\"e3a3b17c-b17b-4c1b-a83c-783fdb293faa\")>,\n",
       " <selenium.webdriver.remote.webelement.WebElement (session=\"e8a0f3bf89867ef77a98b580bd5cc7cd\", element=\"95415d4e-c254-4e33-9610-3c76e2ebe253\")>,\n",
       " <selenium.webdriver.remote.webelement.WebElement (session=\"e8a0f3bf89867ef77a98b580bd5cc7cd\", element=\"810079d0-02d4-4831-87b0-f3f084a22af3\")>,\n",
       " <selenium.webdriver.remote.webelement.WebElement (session=\"e8a0f3bf89867ef77a98b580bd5cc7cd\", element=\"11d9613b-558b-4d97-89cb-fba15afb993c\")>,\n",
       " <selenium.webdriver.remote.webelement.WebElement (session=\"e8a0f3bf89867ef77a98b580bd5cc7cd\", element=\"c08ef3d5-c17e-4e47-9b16-00776481cdb9\")>,\n",
       " <selenium.webdriver.remote.webelement.WebElement (session=\"e8a0f3bf89867ef77a98b580bd5cc7cd\", element=\"de61aadb-49e1-441f-97be-1f0733f823a3\")>,\n",
       " <selenium.webdriver.remote.webelement.WebElement (session=\"e8a0f3bf89867ef77a98b580bd5cc7cd\", element=\"aca93a4b-640f-4c4d-9788-a7c55f051075\")>,\n",
       " <selenium.webdriver.remote.webelement.WebElement (session=\"e8a0f3bf89867ef77a98b580bd5cc7cd\", element=\"efdeee9b-3f8a-46ca-b9a3-96469422252a\")>,\n",
       " <selenium.webdriver.remote.webelement.WebElement (session=\"e8a0f3bf89867ef77a98b580bd5cc7cd\", element=\"998d58a9-153c-4a1b-a130-480538bb3979\")>,\n",
       " <selenium.webdriver.remote.webelement.WebElement (session=\"e8a0f3bf89867ef77a98b580bd5cc7cd\", element=\"a306cf65-af55-4282-bc95-625301343c45\")>]"
      ]
     },
     "execution_count": 1530,
     "metadata": {},
     "output_type": "execute_result"
    }
   ],
   "source": [
    "exp_=driver.find_elements_by_xpath(\"//li[@class='fleft grey-text br2 placeHolderLi experience']\")\n",
    "exp_"
   ]
  },
  {
   "cell_type": "code",
   "execution_count": 1531,
   "metadata": {},
   "outputs": [
    {
     "data": {
      "text/plain": [
       "['0-3 Yrs',\n",
       " '6-9 Yrs',\n",
       " '12-18 Yrs',\n",
       " '1-3 Yrs',\n",
       " '2-4 Yrs',\n",
       " '2-7 Yrs',\n",
       " '4-7 Yrs',\n",
       " '5-10 Yrs',\n",
       " '1-3 Yrs',\n",
       " '2-6 Yrs']"
      ]
     },
     "execution_count": 1531,
     "metadata": {},
     "output_type": "execute_result"
    }
   ],
   "source": [
    "exp=[]\n",
    "\n",
    "k=0\n",
    "for i in exp_:\n",
    "    k=k+1\n",
    "    if k>=11:\n",
    "        break\n",
    "    \n",
    "   \n",
    "\n",
    "    exp.append(i.text.replace('\\n',' '))\n",
    "    \n",
    "exp"
   ]
  },
  {
   "cell_type": "code",
   "execution_count": 1532,
   "metadata": {},
   "outputs": [],
   "source": [
    "import numpy as np\n",
    "NK1=pd.DataFrame({})\n",
    "NK1['JOB TITLE']=title\n",
    "NK1['COMPANY NAME']=company_name\n",
    "NK1['EXPERIENCE']=exp\n",
    "NK1['LOCATION']=location"
   ]
  },
  {
   "cell_type": "code",
   "execution_count": 716,
   "metadata": {
    "scrolled": true
   },
   "outputs": [
    {
     "data": {
      "text/html": [
       "<div>\n",
       "<style scoped>\n",
       "    .dataframe tbody tr th:only-of-type {\n",
       "        vertical-align: middle;\n",
       "    }\n",
       "\n",
       "    .dataframe tbody tr th {\n",
       "        vertical-align: top;\n",
       "    }\n",
       "\n",
       "    .dataframe thead th {\n",
       "        text-align: right;\n",
       "    }\n",
       "</style>\n",
       "<table border=\"1\" class=\"dataframe\">\n",
       "  <thead>\n",
       "    <tr style=\"text-align: right;\">\n",
       "      <th></th>\n",
       "      <th>JOB TITLE</th>\n",
       "      <th>COMPANY NAME</th>\n",
       "      <th>EXPERIENCE</th>\n",
       "      <th>LOCATION</th>\n",
       "    </tr>\n",
       "  </thead>\n",
       "  <tbody>\n",
       "  </tbody>\n",
       "</table>\n",
       "</div>"
      ],
      "text/plain": [
       "Empty DataFrame\n",
       "Columns: [JOB TITLE, COMPANY NAME, EXPERIENCE, LOCATION]\n",
       "Index: []"
      ]
     },
     "execution_count": 716,
     "metadata": {},
     "output_type": "execute_result"
    }
   ],
   "source": [
    "NK1.head(10)\n"
   ]
  },
  {
   "cell_type": "code",
   "execution_count": 717,
   "metadata": {},
   "outputs": [],
   "source": [
    "NK1.to_csv('Data_Analyst.csv')"
   ]
  },
  {
   "cell_type": "code",
   "execution_count": null,
   "metadata": {},
   "outputs": [],
   "source": []
  },
  {
   "cell_type": "markdown",
   "metadata": {},
   "source": [
    "--------------m------------------------------------------------------------------------------------"
   ]
  },
  {
   "cell_type": "markdown",
   "metadata": {},
   "source": [
    "# Q2"
   ]
  },
  {
   "cell_type": "code",
   "execution_count": 1533,
   "metadata": {},
   "outputs": [],
   "source": [
    "driver=webdriver.Chrome(r'chromedriver.exe')\n",
    "\n",
    "url='https://www.naukri.com/'\n",
    "driver.get(url)\n",
    "sj=driver.find_element_by_id('qsb-keyword-sugg')\n",
    "\n",
    "sj.send_keys('Data Scientist')\n",
    "\n",
    "sl=driver.find_element_by_id('qsb-location-sugg')\n",
    "sl.send_keys('Bangalore')\n",
    "\n",
    "sb=driver.find_element_by_xpath(\"//button[@class='btn']\")\n",
    "sb.click()"
   ]
  },
  {
   "cell_type": "code",
   "execution_count": 1534,
   "metadata": {},
   "outputs": [
    {
     "data": {
      "text/plain": [
       "[<selenium.webdriver.remote.webelement.WebElement (session=\"fc6e063615b4af3f5909da4c573bd700\", element=\"b96c330f-619e-4766-a161-2ce8653116f3\")>,\n",
       " <selenium.webdriver.remote.webelement.WebElement (session=\"fc6e063615b4af3f5909da4c573bd700\", element=\"8794f1bb-c568-40b1-aab9-44ed2ca00b08\")>,\n",
       " <selenium.webdriver.remote.webelement.WebElement (session=\"fc6e063615b4af3f5909da4c573bd700\", element=\"4786a5c4-0299-4ada-9bdc-e1df2055bf9a\")>,\n",
       " <selenium.webdriver.remote.webelement.WebElement (session=\"fc6e063615b4af3f5909da4c573bd700\", element=\"a8ae5231-43bb-4acd-89bf-02686dbfc5fd\")>,\n",
       " <selenium.webdriver.remote.webelement.WebElement (session=\"fc6e063615b4af3f5909da4c573bd700\", element=\"e31e7c6f-c50b-4e97-aa7e-373d84ecb3c9\")>,\n",
       " <selenium.webdriver.remote.webelement.WebElement (session=\"fc6e063615b4af3f5909da4c573bd700\", element=\"3b682623-9ec3-47cb-9723-d60c6d27b229\")>,\n",
       " <selenium.webdriver.remote.webelement.WebElement (session=\"fc6e063615b4af3f5909da4c573bd700\", element=\"9620a62b-fc61-45f3-a1f9-415719490c65\")>,\n",
       " <selenium.webdriver.remote.webelement.WebElement (session=\"fc6e063615b4af3f5909da4c573bd700\", element=\"7e16adc4-3445-4d93-90ac-1e683827ce04\")>,\n",
       " <selenium.webdriver.remote.webelement.WebElement (session=\"fc6e063615b4af3f5909da4c573bd700\", element=\"c4117647-34f2-4d34-bad8-f7039a8d86e4\")>,\n",
       " <selenium.webdriver.remote.webelement.WebElement (session=\"fc6e063615b4af3f5909da4c573bd700\", element=\"a6df8710-947f-4505-9649-3481b58b6ae8\")>,\n",
       " <selenium.webdriver.remote.webelement.WebElement (session=\"fc6e063615b4af3f5909da4c573bd700\", element=\"2baa6b9a-c770-48f1-bd75-322c8b83f0e7\")>,\n",
       " <selenium.webdriver.remote.webelement.WebElement (session=\"fc6e063615b4af3f5909da4c573bd700\", element=\"8aa9a94f-26eb-4638-8df4-f095fef0cf87\")>,\n",
       " <selenium.webdriver.remote.webelement.WebElement (session=\"fc6e063615b4af3f5909da4c573bd700\", element=\"7c0e1109-a76c-4659-b35a-b4894189ca64\")>,\n",
       " <selenium.webdriver.remote.webelement.WebElement (session=\"fc6e063615b4af3f5909da4c573bd700\", element=\"326fe574-76e6-40f7-ab91-58d9fa329bb1\")>,\n",
       " <selenium.webdriver.remote.webelement.WebElement (session=\"fc6e063615b4af3f5909da4c573bd700\", element=\"e9d83e2b-6a69-4c6a-a289-72af9508839d\")>,\n",
       " <selenium.webdriver.remote.webelement.WebElement (session=\"fc6e063615b4af3f5909da4c573bd700\", element=\"483e0217-6be5-4cd0-8554-bfad08442727\")>,\n",
       " <selenium.webdriver.remote.webelement.WebElement (session=\"fc6e063615b4af3f5909da4c573bd700\", element=\"3e8b7531-947d-44f5-a54b-a275243548f5\")>,\n",
       " <selenium.webdriver.remote.webelement.WebElement (session=\"fc6e063615b4af3f5909da4c573bd700\", element=\"1ddc28d8-ca6b-4bdc-ac04-8aca9fe37188\")>,\n",
       " <selenium.webdriver.remote.webelement.WebElement (session=\"fc6e063615b4af3f5909da4c573bd700\", element=\"0c183041-f589-4237-ae2f-0cbb4cd75730\")>,\n",
       " <selenium.webdriver.remote.webelement.WebElement (session=\"fc6e063615b4af3f5909da4c573bd700\", element=\"60d8edbf-1c17-4509-ad0b-595bf8c35705\")>]"
      ]
     },
     "execution_count": 1534,
     "metadata": {},
     "output_type": "execute_result"
    }
   ],
   "source": [
    "title_=driver.find_elements_by_xpath(\"//a[@class='title fw500 ellipsis']\")\n",
    "title_\n",
    "\n",
    "company_name_=driver.find_elements_by_xpath(\"//a[@class='subTitle ellipsis fleft']\")\n",
    "company_name_\n",
    "\n",
    "location_=driver.find_elements_by_xpath(\"//li[@class='fleft grey-text br2 placeHolderLi location']\")\n",
    "location_\n",
    "\n",
    "\n"
   ]
  },
  {
   "cell_type": "code",
   "execution_count": 1535,
   "metadata": {},
   "outputs": [],
   "source": [
    "\n",
    "title=[]\n",
    "\n",
    "k=0\n",
    "for i in title_:\n",
    "    k=k+1\n",
    "    if k>=11:\n",
    "        break\n",
    "    \n",
    "   \n",
    "\n",
    "    title.append(i.text.replace('\\n',' '))\n",
    "    \n",
    "\n",
    "company_name=[]\n",
    "\n",
    "k=0\n",
    "for i in company_name_:\n",
    "    k=k+1\n",
    "    if k>=11:\n",
    "        break\n",
    "    \n",
    "   \n",
    "\n",
    "    company_name.append(i.text.replace('\\n',' '))\n",
    "\n",
    "\n",
    "location=[]\n",
    "k=0\n",
    "\n",
    "for i in location_:\n",
    "    k=k+1\n",
    "    if k>=11:\n",
    "        break\n",
    "    \n",
    "   \n",
    "\n",
    "    location.append(i.text.replace('\\n',' '))\n",
    "    \n",
    "\n"
   ]
  },
  {
   "cell_type": "code",
   "execution_count": 1536,
   "metadata": {},
   "outputs": [],
   "source": [
    "\n",
    "urls=[]\n",
    "for i in driver.find_elements_by_xpath(\"//a[@class='title fw500 ellipsis']\"):\n",
    "    urls.append(i.get_attribute(\"href\"))\n",
    "\n",
    "\n",
    "    \n",
    "job_description=[]\n",
    "k=0\n",
    "for i in urls:\n",
    "    k=k+1\n",
    "    if k>=11:\n",
    "        break\n",
    "    driver.get(i)\n",
    "    time.sleep(3)\n",
    "   \n",
    "    try:\n",
    "        try:\n",
    "            time.sleep(10)\n",
    "            job_desc=driver.find_element_by_xpath(\"//div[@class='dang-inner-html']\")\n",
    "            job_description.append(job_desc.text)\n",
    "            driver.quit()\n",
    "        except NoSuchElementException:\n",
    "            job_desc=driver.find_element_by_xpath(\"//div[@class='clearboth description']\")\n",
    "            job_description.append(job_desc.text)\n",
    "            driver.quit()\n",
    "            \n",
    "\n",
    "    except NoSuchElementException:\n",
    "        job_description.append('no information found')\n",
    "        driver.quit()\n",
    "        \n",
    "    driver=webdriver.Chrome(r'chromedriver.exe')\n",
    "   \n",
    "    url='https://www.naukri.com/'\n",
    "    driver.get(url)\n",
    "    sj=driver.find_element_by_id('qsb-keyword-sugg')\n",
    "\n",
    "    sj.send_keys('Data Scientist')\n",
    "\n",
    "    sl=driver.find_element_by_id('qsb-location-sugg')\n",
    "    sl.send_keys('Bangalore')\n",
    "\n",
    "    sb=driver.find_element_by_xpath(\"//button[@class='btn']\")\n",
    "    sb.click()"
   ]
  },
  {
   "cell_type": "code",
   "execution_count": null,
   "metadata": {},
   "outputs": [],
   "source": []
  },
  {
   "cell_type": "code",
   "execution_count": 1541,
   "metadata": {},
   "outputs": [
    {
     "data": {
      "text/plain": [
       "10"
      ]
     },
     "execution_count": 1541,
     "metadata": {},
     "output_type": "execute_result"
    }
   ],
   "source": [
    "len(job_description)"
   ]
  },
  {
   "cell_type": "code",
   "execution_count": 1538,
   "metadata": {},
   "outputs": [],
   "source": [
    "import numpy as np\n",
    "NK2=pd.DataFrame({})\n",
    "NK2['JOB TITLE']=title\n",
    "NK2['COMPANY NAME']=company_name\n",
    "\n",
    "NK2['LOCATION']=location\n",
    "NK2['JOB DESCRIPTION']=job_description"
   ]
  },
  {
   "cell_type": "code",
   "execution_count": 1539,
   "metadata": {},
   "outputs": [
    {
     "data": {
      "text/html": [
       "<div>\n",
       "<style scoped>\n",
       "    .dataframe tbody tr th:only-of-type {\n",
       "        vertical-align: middle;\n",
       "    }\n",
       "\n",
       "    .dataframe tbody tr th {\n",
       "        vertical-align: top;\n",
       "    }\n",
       "\n",
       "    .dataframe thead th {\n",
       "        text-align: right;\n",
       "    }\n",
       "</style>\n",
       "<table border=\"1\" class=\"dataframe\">\n",
       "  <thead>\n",
       "    <tr style=\"text-align: right;\">\n",
       "      <th></th>\n",
       "      <th>JOB TITLE</th>\n",
       "      <th>COMPANY NAME</th>\n",
       "      <th>LOCATION</th>\n",
       "      <th>JOB DESCRIPTION</th>\n",
       "    </tr>\n",
       "  </thead>\n",
       "  <tbody>\n",
       "    <tr>\n",
       "      <th>0</th>\n",
       "      <td>Data Scientist / Data Analyst -Business Analyst</td>\n",
       "      <td>Inflexion Analytix Private Limited</td>\n",
       "      <td>Mumbai, Hyderabad/Secunderabad, Pune, Gurgaon/...</td>\n",
       "      <td>Job Role : Data Scientist/Data Analyst /Busine...</td>\n",
       "    </tr>\n",
       "    <tr>\n",
       "      <th>1</th>\n",
       "      <td>Data Scientist</td>\n",
       "      <td>Wipro Limited</td>\n",
       "      <td>Kolkata, Hyderabad/Secunderabad, Chennai, Bang...</td>\n",
       "      <td>Role: Data Scientist\\n\\nRoles and Responsibili...</td>\n",
       "    </tr>\n",
       "    <tr>\n",
       "      <th>2</th>\n",
       "      <td>Big Data - Data Scientist</td>\n",
       "      <td>Xoriant Solutions Pvt Ltd</td>\n",
       "      <td>Kochi/Cochin, Indore, Hyderabad/Secunderabad, ...</td>\n",
       "      <td>Roles &amp; Responsibilities &amp; Key Skills:\\n\\nBig ...</td>\n",
       "    </tr>\n",
       "    <tr>\n",
       "      <th>3</th>\n",
       "      <td>Specialist I - Data Scientist</td>\n",
       "      <td>Philips India Limited</td>\n",
       "      <td>Bangalore/Bengaluru</td>\n",
       "      <td>Responsibilities and Key Result Areas\\nDesign ...</td>\n",
       "    </tr>\n",
       "    <tr>\n",
       "      <th>4</th>\n",
       "      <td>Data Scientist</td>\n",
       "      <td>IBM India Pvt. Limited</td>\n",
       "      <td>Bangalore/Bengaluru</td>\n",
       "      <td>The Data Warehousing Practitioner actively par...</td>\n",
       "    </tr>\n",
       "    <tr>\n",
       "      <th>5</th>\n",
       "      <td>Data Scientist</td>\n",
       "      <td>Oracle India Pvt. Ltd.</td>\n",
       "      <td>Bangalore/Bengaluru</td>\n",
       "      <td>Roles and Responsibilities\\nLooking for 6+ yrs...</td>\n",
       "    </tr>\n",
       "    <tr>\n",
       "      <th>6</th>\n",
       "      <td>SDE Lead Data Scientist-L3</td>\n",
       "      <td>Huawei Technologies India Pvt Ltd</td>\n",
       "      <td>Bangalore/Bengaluru</td>\n",
       "      <td>Business &amp; Team overview:\\nFounded in 1987, Hu...</td>\n",
       "    </tr>\n",
       "    <tr>\n",
       "      <th>7</th>\n",
       "      <td>Computational Design Lead Data Scientist-L3</td>\n",
       "      <td>Huawei Technologies India Pvt Ltd</td>\n",
       "      <td>Bangalore/Bengaluru</td>\n",
       "      <td>Business &amp; Team overview:\\nFounded in 1987, Hu...</td>\n",
       "    </tr>\n",
       "    <tr>\n",
       "      <th>8</th>\n",
       "      <td>Hiring For DATA Scientist - ON Contract Basis ...</td>\n",
       "      <td>GlobalEdx Learning and Technology Solution Pvt...</td>\n",
       "      <td>Hyderabad/Secunderabad, Bangalore/Bengaluru, M...</td>\n",
       "      <td>Dear Aspirant,\\n\\nGreetings from Globaledx\\n\\n...</td>\n",
       "    </tr>\n",
       "    <tr>\n",
       "      <th>9</th>\n",
       "      <td>Senior Data Scientist</td>\n",
       "      <td>GO-JEK India</td>\n",
       "      <td>Bangalore/Bengaluru</td>\n",
       "      <td>About the Role\\nFasten your helmet and climb o...</td>\n",
       "    </tr>\n",
       "  </tbody>\n",
       "</table>\n",
       "</div>"
      ],
      "text/plain": [
       "                                           JOB TITLE  \\\n",
       "0    Data Scientist / Data Analyst -Business Analyst   \n",
       "1                                     Data Scientist   \n",
       "2                          Big Data - Data Scientist   \n",
       "3                      Specialist I - Data Scientist   \n",
       "4                                     Data Scientist   \n",
       "5                                     Data Scientist   \n",
       "6                         SDE Lead Data Scientist-L3   \n",
       "7        Computational Design Lead Data Scientist-L3   \n",
       "8  Hiring For DATA Scientist - ON Contract Basis ...   \n",
       "9                              Senior Data Scientist   \n",
       "\n",
       "                                        COMPANY NAME  \\\n",
       "0                 Inflexion Analytix Private Limited   \n",
       "1                                      Wipro Limited   \n",
       "2                          Xoriant Solutions Pvt Ltd   \n",
       "3                              Philips India Limited   \n",
       "4                             IBM India Pvt. Limited   \n",
       "5                             Oracle India Pvt. Ltd.   \n",
       "6                  Huawei Technologies India Pvt Ltd   \n",
       "7                  Huawei Technologies India Pvt Ltd   \n",
       "8  GlobalEdx Learning and Technology Solution Pvt...   \n",
       "9                                       GO-JEK India   \n",
       "\n",
       "                                            LOCATION  \\\n",
       "0  Mumbai, Hyderabad/Secunderabad, Pune, Gurgaon/...   \n",
       "1  Kolkata, Hyderabad/Secunderabad, Chennai, Bang...   \n",
       "2  Kochi/Cochin, Indore, Hyderabad/Secunderabad, ...   \n",
       "3                                Bangalore/Bengaluru   \n",
       "4                                Bangalore/Bengaluru   \n",
       "5                                Bangalore/Bengaluru   \n",
       "6                                Bangalore/Bengaluru   \n",
       "7                                Bangalore/Bengaluru   \n",
       "8  Hyderabad/Secunderabad, Bangalore/Bengaluru, M...   \n",
       "9                                Bangalore/Bengaluru   \n",
       "\n",
       "                                     JOB DESCRIPTION  \n",
       "0  Job Role : Data Scientist/Data Analyst /Busine...  \n",
       "1  Role: Data Scientist\\n\\nRoles and Responsibili...  \n",
       "2  Roles & Responsibilities & Key Skills:\\n\\nBig ...  \n",
       "3  Responsibilities and Key Result Areas\\nDesign ...  \n",
       "4  The Data Warehousing Practitioner actively par...  \n",
       "5  Roles and Responsibilities\\nLooking for 6+ yrs...  \n",
       "6  Business & Team overview:\\nFounded in 1987, Hu...  \n",
       "7  Business & Team overview:\\nFounded in 1987, Hu...  \n",
       "8  Dear Aspirant,\\n\\nGreetings from Globaledx\\n\\n...  \n",
       "9  About the Role\\nFasten your helmet and climb o...  "
      ]
     },
     "execution_count": 1539,
     "metadata": {},
     "output_type": "execute_result"
    }
   ],
   "source": [
    "NK2.head(10)"
   ]
  },
  {
   "cell_type": "code",
   "execution_count": null,
   "metadata": {},
   "outputs": [],
   "source": []
  },
  {
   "cell_type": "code",
   "execution_count": 1542,
   "metadata": {},
   "outputs": [],
   "source": [
    "NK2.to_csv('naukri_2.csv')"
   ]
  },
  {
   "cell_type": "code",
   "execution_count": null,
   "metadata": {},
   "outputs": [],
   "source": []
  },
  {
   "cell_type": "markdown",
   "metadata": {},
   "source": [
    "-------------------------------------------------------------------------------------------------------"
   ]
  },
  {
   "cell_type": "markdown",
   "metadata": {},
   "source": [
    "# Q3"
   ]
  },
  {
   "cell_type": "code",
   "execution_count": null,
   "metadata": {},
   "outputs": [],
   "source": []
  },
  {
   "cell_type": "code",
   "execution_count": 1543,
   "metadata": {},
   "outputs": [],
   "source": [
    "driver=webdriver.Chrome(r'chromedriver.exe')\n",
    "\n",
    "url='https://www.naukri.com/'\n",
    "driver.get(url)\n",
    "sj=driver.find_element_by_id('qsb-keyword-sugg')\n",
    "\n",
    "sj.send_keys('Data Scientist')\n",
    "\n",
    "\n",
    "\n",
    "sb=driver.find_element_by_xpath(\"//button[@class='btn']\")\n",
    "sb.click()"
   ]
  },
  {
   "cell_type": "code",
   "execution_count": null,
   "metadata": {},
   "outputs": [],
   "source": []
  },
  {
   "cell_type": "code",
   "execution_count": 1544,
   "metadata": {},
   "outputs": [],
   "source": [
    "filter_button=driver.find_elements_by_xpath(\"//p[@class='grey-text lH20 fleft ml-8 txtLbl']/span\")\n",
    "for i in filter_button:\n",
    "    if i.text=='Delhi / NCR':\n",
    "        i.click()\n",
    "        break\n",
    "        \n",
    "        \n",
    "\n",
    "        "
   ]
  },
  {
   "cell_type": "code",
   "execution_count": null,
   "metadata": {},
   "outputs": [],
   "source": []
  },
  {
   "cell_type": "code",
   "execution_count": 1545,
   "metadata": {},
   "outputs": [],
   "source": [
    "filter_button=driver.find_elements_by_xpath(\"//p[@class='grey-text lH20 fleft ml-8 txtLbl']/span\")\n",
    "for i in filter_button:\n",
    "    if i.text=='3-6 Lakhs':\n",
    "        i.click()\n",
    "        break"
   ]
  },
  {
   "cell_type": "code",
   "execution_count": 1546,
   "metadata": {},
   "outputs": [
    {
     "data": {
      "text/plain": [
       "[<selenium.webdriver.remote.webelement.WebElement (session=\"73658ea0d6e89fd23fb25615734ee788\", element=\"2e7ba1e7-46f6-4c57-9aa0-1eba9c307851\")>,\n",
       " <selenium.webdriver.remote.webelement.WebElement (session=\"73658ea0d6e89fd23fb25615734ee788\", element=\"a8ae817a-d9eb-40d4-b9ee-763563f713a9\")>,\n",
       " <selenium.webdriver.remote.webelement.WebElement (session=\"73658ea0d6e89fd23fb25615734ee788\", element=\"2b600615-ef8a-43a2-9467-1cf503ddb50d\")>,\n",
       " <selenium.webdriver.remote.webelement.WebElement (session=\"73658ea0d6e89fd23fb25615734ee788\", element=\"b531f0ed-f9e2-4e9a-9e42-26131201414d\")>,\n",
       " <selenium.webdriver.remote.webelement.WebElement (session=\"73658ea0d6e89fd23fb25615734ee788\", element=\"644ebd9f-bafe-40ae-a129-da31a6b74f51\")>,\n",
       " <selenium.webdriver.remote.webelement.WebElement (session=\"73658ea0d6e89fd23fb25615734ee788\", element=\"b51f5b91-874d-47e9-b846-3e2cdb713bdf\")>,\n",
       " <selenium.webdriver.remote.webelement.WebElement (session=\"73658ea0d6e89fd23fb25615734ee788\", element=\"98697662-28b4-4d95-84b7-db154a648534\")>,\n",
       " <selenium.webdriver.remote.webelement.WebElement (session=\"73658ea0d6e89fd23fb25615734ee788\", element=\"c7ec4fc1-6c45-418f-ab1b-399c3bf8f282\")>,\n",
       " <selenium.webdriver.remote.webelement.WebElement (session=\"73658ea0d6e89fd23fb25615734ee788\", element=\"e2033e01-5cd4-4f75-94f3-70ff1dada62e\")>,\n",
       " <selenium.webdriver.remote.webelement.WebElement (session=\"73658ea0d6e89fd23fb25615734ee788\", element=\"8092920a-7df1-42c1-9405-e143f35c73a6\")>,\n",
       " <selenium.webdriver.remote.webelement.WebElement (session=\"73658ea0d6e89fd23fb25615734ee788\", element=\"12978767-8faf-4c71-b70e-c4f21003ab1a\")>,\n",
       " <selenium.webdriver.remote.webelement.WebElement (session=\"73658ea0d6e89fd23fb25615734ee788\", element=\"e054ac59-979f-4d53-a41e-e940b8c4b90b\")>,\n",
       " <selenium.webdriver.remote.webelement.WebElement (session=\"73658ea0d6e89fd23fb25615734ee788\", element=\"9c0d0909-5fe0-4abe-9d95-630918ee0cb7\")>,\n",
       " <selenium.webdriver.remote.webelement.WebElement (session=\"73658ea0d6e89fd23fb25615734ee788\", element=\"2b3c811c-db6f-4da5-b278-b08e975777ac\")>,\n",
       " <selenium.webdriver.remote.webelement.WebElement (session=\"73658ea0d6e89fd23fb25615734ee788\", element=\"895e7ea9-581b-4192-b4f2-feb21a939f01\")>,\n",
       " <selenium.webdriver.remote.webelement.WebElement (session=\"73658ea0d6e89fd23fb25615734ee788\", element=\"f8af1fb8-33bc-454d-a503-7d48f8396785\")>,\n",
       " <selenium.webdriver.remote.webelement.WebElement (session=\"73658ea0d6e89fd23fb25615734ee788\", element=\"2498cfc5-f715-4753-9e82-dc3f5c358e9a\")>,\n",
       " <selenium.webdriver.remote.webelement.WebElement (session=\"73658ea0d6e89fd23fb25615734ee788\", element=\"1e7e4b17-7afc-48d5-8054-3856876f283e\")>,\n",
       " <selenium.webdriver.remote.webelement.WebElement (session=\"73658ea0d6e89fd23fb25615734ee788\", element=\"65165218-1e5b-441c-b3ae-a791cbfec3da\")>,\n",
       " <selenium.webdriver.remote.webelement.WebElement (session=\"73658ea0d6e89fd23fb25615734ee788\", element=\"0c907f9e-31d0-4c76-8235-e5ddd37a22e9\")>]"
      ]
     },
     "execution_count": 1546,
     "metadata": {},
     "output_type": "execute_result"
    }
   ],
   "source": [
    "title_=driver.find_elements_by_xpath(\"//a[@class='title fw500 ellipsis']\")\n",
    "title_\n",
    "\n",
    "company_name_=driver.find_elements_by_xpath(\"//a[@class='subTitle ellipsis fleft']\")\n",
    "company_name_\n",
    "\n",
    "location_=driver.find_elements_by_xpath(\"//li[@class='fleft grey-text br2 placeHolderLi location']\")\n",
    "location_\n",
    "\n",
    "exp_=driver.find_elements_by_xpath(\"//li[@class='fleft grey-text br2 placeHolderLi experience']\")\n",
    "exp_\n"
   ]
  },
  {
   "cell_type": "code",
   "execution_count": 1547,
   "metadata": {},
   "outputs": [
    {
     "data": {
      "text/plain": [
       "['Data Scientist / Data Analyst -Business Analyst',\n",
       " 'Business Analyst- Data Scientist',\n",
       " 'Data Scientist - High growth VC backed Influencer Marketplace',\n",
       " 'DATA Scientist – Gurgaon (Exp 3-6 years)',\n",
       " 'DATA Scientist – Gurgaon (Exp 3-6 years)',\n",
       " 'Data Scientist - Noida',\n",
       " 'Data Scientist',\n",
       " 'Data Scientist',\n",
       " 'Data Scientist',\n",
       " 'Senior Data Scientist II 5+ yrs II Gurgaon']"
      ]
     },
     "execution_count": 1547,
     "metadata": {},
     "output_type": "execute_result"
    }
   ],
   "source": [
    "title=[]\n",
    "\n",
    "k=0\n",
    "for i in title_:\n",
    "    k=k+1\n",
    "    if k>=11:\n",
    "        break\n",
    "    \n",
    "   \n",
    "\n",
    "    title.append(i.text.replace('\\n',' '))\n",
    "    \n",
    "title"
   ]
  },
  {
   "cell_type": "code",
   "execution_count": 1548,
   "metadata": {},
   "outputs": [
    {
     "data": {
      "text/plain": [
       "['Inflexion Analytix Private Limited',\n",
       " 'Wipro',\n",
       " 'Ravgins International Pvt. Ltd.',\n",
       " 'CRESCENDO GLOBAL LEADERSHIP HIRING INDIA PRIVATE L IMITED',\n",
       " 'CRESCENDO GLOBAL LEADERSHIP HIRING INDIA PRIVATE L IMITED',\n",
       " 'Optum Global Solutions (India) Private Limited',\n",
       " 'IBM India Pvt. Limited',\n",
       " 'Blitz Jobs',\n",
       " 'Country Veggie',\n",
       " 'Zenatix Solutions Private Limited']"
      ]
     },
     "execution_count": 1548,
     "metadata": {},
     "output_type": "execute_result"
    }
   ],
   "source": [
    "company_name=[]\n",
    "\n",
    "k=0\n",
    "for i in company_name_:\n",
    "    k=k+1\n",
    "    if k>=11:\n",
    "        break\n",
    "    \n",
    "   \n",
    "\n",
    "    company_name.append(i.text.replace('\\n',' '))\n",
    "    \n",
    "company_name"
   ]
  },
  {
   "cell_type": "code",
   "execution_count": 1549,
   "metadata": {},
   "outputs": [
    {
     "data": {
      "text/plain": [
       "['Mumbai, Hyderabad/Secunderabad, Pune, Gurgaon/Gurugram, Chennai, Bangalore/Bengaluru',\n",
       " 'Noida, Gurgaon/Gurugram',\n",
       " 'Bangalore/Bengaluru, Delhi / NCR, Mumbai (All Areas)',\n",
       " 'Gurgaon/Gurugram, Delhi / NCR',\n",
       " 'Gurgaon/Gurugram, Delhi / NCR',\n",
       " 'Noida',\n",
       " 'Noida, Hyderabad/Secunderabad, Bangalore/Bengaluru',\n",
       " 'Noida',\n",
       " 'Bharuch, Jaipur, Bhopal, Mumbai, Jhansi, Nagpur, Ghaziabad, Jaunpur, Kanpur, New Delhi, Lucknow, Agra, Gurgaon/Gurugram, Rajkot, Bangalore/Bengaluru',\n",
       " 'Gurgaon/Gurugram']"
      ]
     },
     "execution_count": 1549,
     "metadata": {},
     "output_type": "execute_result"
    }
   ],
   "source": [
    "location=[]\n",
    "\n",
    "k=0\n",
    "for i in location_:\n",
    "    k=k+1\n",
    "    if k>=11:\n",
    "        break\n",
    "    \n",
    "   \n",
    "\n",
    "    location.append(i.text.replace('\\n',' '))\n",
    "    \n",
    "location"
   ]
  },
  {
   "cell_type": "code",
   "execution_count": 1550,
   "metadata": {},
   "outputs": [
    {
     "data": {
      "text/plain": [
       "['0-3 Yrs',\n",
       " '2-5 Yrs',\n",
       " '3-5 Yrs',\n",
       " '3-6 Yrs',\n",
       " '3-6 Yrs',\n",
       " '3-5 Yrs',\n",
       " '4-9 Yrs',\n",
       " '3-5 Yrs',\n",
       " '1-3 Yrs',\n",
       " '5-10 Yrs']"
      ]
     },
     "execution_count": 1550,
     "metadata": {},
     "output_type": "execute_result"
    }
   ],
   "source": [
    "exp=[]\n",
    "\n",
    "k=0\n",
    "for i in exp_:\n",
    "    k=k+1\n",
    "    if k>=11:\n",
    "        break\n",
    "    \n",
    "   \n",
    "\n",
    "    exp.append(i.text.replace('\\n',' '))\n",
    "    \n",
    "exp"
   ]
  },
  {
   "cell_type": "code",
   "execution_count": 1551,
   "metadata": {},
   "outputs": [],
   "source": [
    "import numpy as np\n",
    "NK3=pd.DataFrame({})\n",
    "NK3['JOB TITLE']=title\n",
    "NK3['COMPANY NAME']=company_name\n",
    "NK3['EXPERIENCE']=exp\n",
    "NK3['LOCATION']=location"
   ]
  },
  {
   "cell_type": "code",
   "execution_count": 1552,
   "metadata": {},
   "outputs": [
    {
     "data": {
      "text/html": [
       "<div>\n",
       "<style scoped>\n",
       "    .dataframe tbody tr th:only-of-type {\n",
       "        vertical-align: middle;\n",
       "    }\n",
       "\n",
       "    .dataframe tbody tr th {\n",
       "        vertical-align: top;\n",
       "    }\n",
       "\n",
       "    .dataframe thead th {\n",
       "        text-align: right;\n",
       "    }\n",
       "</style>\n",
       "<table border=\"1\" class=\"dataframe\">\n",
       "  <thead>\n",
       "    <tr style=\"text-align: right;\">\n",
       "      <th></th>\n",
       "      <th>JOB TITLE</th>\n",
       "      <th>COMPANY NAME</th>\n",
       "      <th>EXPERIENCE</th>\n",
       "      <th>LOCATION</th>\n",
       "    </tr>\n",
       "  </thead>\n",
       "  <tbody>\n",
       "    <tr>\n",
       "      <th>0</th>\n",
       "      <td>Data Scientist / Data Analyst -Business Analyst</td>\n",
       "      <td>Inflexion Analytix Private Limited</td>\n",
       "      <td>0-3 Yrs</td>\n",
       "      <td>Mumbai, Hyderabad/Secunderabad, Pune, Gurgaon/...</td>\n",
       "    </tr>\n",
       "    <tr>\n",
       "      <th>1</th>\n",
       "      <td>Business Analyst- Data Scientist</td>\n",
       "      <td>Wipro</td>\n",
       "      <td>2-5 Yrs</td>\n",
       "      <td>Noida, Gurgaon/Gurugram</td>\n",
       "    </tr>\n",
       "    <tr>\n",
       "      <th>2</th>\n",
       "      <td>Data Scientist - High growth VC backed Influen...</td>\n",
       "      <td>Ravgins International Pvt. Ltd.</td>\n",
       "      <td>3-5 Yrs</td>\n",
       "      <td>Bangalore/Bengaluru, Delhi / NCR, Mumbai (All ...</td>\n",
       "    </tr>\n",
       "    <tr>\n",
       "      <th>3</th>\n",
       "      <td>DATA Scientist – Gurgaon (Exp 3-6 years)</td>\n",
       "      <td>CRESCENDO GLOBAL LEADERSHIP HIRING INDIA PRIVA...</td>\n",
       "      <td>3-6 Yrs</td>\n",
       "      <td>Gurgaon/Gurugram, Delhi / NCR</td>\n",
       "    </tr>\n",
       "    <tr>\n",
       "      <th>4</th>\n",
       "      <td>DATA Scientist – Gurgaon (Exp 3-6 years)</td>\n",
       "      <td>CRESCENDO GLOBAL LEADERSHIP HIRING INDIA PRIVA...</td>\n",
       "      <td>3-6 Yrs</td>\n",
       "      <td>Gurgaon/Gurugram, Delhi / NCR</td>\n",
       "    </tr>\n",
       "    <tr>\n",
       "      <th>5</th>\n",
       "      <td>Data Scientist - Noida</td>\n",
       "      <td>Optum Global Solutions (India) Private Limited</td>\n",
       "      <td>3-5 Yrs</td>\n",
       "      <td>Noida</td>\n",
       "    </tr>\n",
       "    <tr>\n",
       "      <th>6</th>\n",
       "      <td>Data Scientist</td>\n",
       "      <td>IBM India Pvt. Limited</td>\n",
       "      <td>4-9 Yrs</td>\n",
       "      <td>Noida, Hyderabad/Secunderabad, Bangalore/Benga...</td>\n",
       "    </tr>\n",
       "    <tr>\n",
       "      <th>7</th>\n",
       "      <td>Data Scientist</td>\n",
       "      <td>Blitz Jobs</td>\n",
       "      <td>3-5 Yrs</td>\n",
       "      <td>Noida</td>\n",
       "    </tr>\n",
       "    <tr>\n",
       "      <th>8</th>\n",
       "      <td>Data Scientist</td>\n",
       "      <td>Country Veggie</td>\n",
       "      <td>1-3 Yrs</td>\n",
       "      <td>Bharuch, Jaipur, Bhopal, Mumbai, Jhansi, Nagpu...</td>\n",
       "    </tr>\n",
       "    <tr>\n",
       "      <th>9</th>\n",
       "      <td>Senior Data Scientist II 5+ yrs II Gurgaon</td>\n",
       "      <td>Zenatix Solutions Private Limited</td>\n",
       "      <td>5-10 Yrs</td>\n",
       "      <td>Gurgaon/Gurugram</td>\n",
       "    </tr>\n",
       "  </tbody>\n",
       "</table>\n",
       "</div>"
      ],
      "text/plain": [
       "                                           JOB TITLE  \\\n",
       "0    Data Scientist / Data Analyst -Business Analyst   \n",
       "1                   Business Analyst- Data Scientist   \n",
       "2  Data Scientist - High growth VC backed Influen...   \n",
       "3           DATA Scientist – Gurgaon (Exp 3-6 years)   \n",
       "4           DATA Scientist – Gurgaon (Exp 3-6 years)   \n",
       "5                             Data Scientist - Noida   \n",
       "6                                     Data Scientist   \n",
       "7                                     Data Scientist   \n",
       "8                                     Data Scientist   \n",
       "9         Senior Data Scientist II 5+ yrs II Gurgaon   \n",
       "\n",
       "                                        COMPANY NAME EXPERIENCE  \\\n",
       "0                 Inflexion Analytix Private Limited    0-3 Yrs   \n",
       "1                                              Wipro    2-5 Yrs   \n",
       "2                    Ravgins International Pvt. Ltd.    3-5 Yrs   \n",
       "3  CRESCENDO GLOBAL LEADERSHIP HIRING INDIA PRIVA...    3-6 Yrs   \n",
       "4  CRESCENDO GLOBAL LEADERSHIP HIRING INDIA PRIVA...    3-6 Yrs   \n",
       "5     Optum Global Solutions (India) Private Limited    3-5 Yrs   \n",
       "6                             IBM India Pvt. Limited    4-9 Yrs   \n",
       "7                                         Blitz Jobs    3-5 Yrs   \n",
       "8                                     Country Veggie    1-3 Yrs   \n",
       "9                  Zenatix Solutions Private Limited   5-10 Yrs   \n",
       "\n",
       "                                            LOCATION  \n",
       "0  Mumbai, Hyderabad/Secunderabad, Pune, Gurgaon/...  \n",
       "1                            Noida, Gurgaon/Gurugram  \n",
       "2  Bangalore/Bengaluru, Delhi / NCR, Mumbai (All ...  \n",
       "3                      Gurgaon/Gurugram, Delhi / NCR  \n",
       "4                      Gurgaon/Gurugram, Delhi / NCR  \n",
       "5                                              Noida  \n",
       "6  Noida, Hyderabad/Secunderabad, Bangalore/Benga...  \n",
       "7                                              Noida  \n",
       "8  Bharuch, Jaipur, Bhopal, Mumbai, Jhansi, Nagpu...  \n",
       "9                                   Gurgaon/Gurugram  "
      ]
     },
     "execution_count": 1552,
     "metadata": {},
     "output_type": "execute_result"
    }
   ],
   "source": [
    "NK3.head(10)\n"
   ]
  },
  {
   "cell_type": "code",
   "execution_count": 1553,
   "metadata": {},
   "outputs": [],
   "source": [
    "NK3.to_csv('Data_scientist.csv')"
   ]
  },
  {
   "cell_type": "code",
   "execution_count": null,
   "metadata": {},
   "outputs": [],
   "source": []
  },
  {
   "cell_type": "markdown",
   "metadata": {},
   "source": [
    "------------------------------------------------------------"
   ]
  },
  {
   "cell_type": "markdown",
   "metadata": {},
   "source": [
    "# Q4"
   ]
  },
  {
   "cell_type": "code",
   "execution_count": 1554,
   "metadata": {},
   "outputs": [],
   "source": [
    "driver=webdriver.Chrome(r'chromedriver.exe')\n",
    "\n",
    "url='https://www.glassdoor.co.in/index.htm'\n",
    "driver.get(url)\n"
   ]
  },
  {
   "cell_type": "code",
   "execution_count": 1555,
   "metadata": {},
   "outputs": [],
   "source": [
    "sj=driver.find_element_by_id('sc.keyword')\n",
    "\n",
    "sj.send_keys('Data Scientist')\n",
    "\n"
   ]
  },
  {
   "cell_type": "code",
   "execution_count": 1556,
   "metadata": {},
   "outputs": [],
   "source": [
    "sl=driver.find_element_by_id('sc.location')\n",
    "sl.send_keys('Noida')\n",
    "\n",
    "sb=driver.find_element_by_xpath(\"//button[@class='gd-ui-button ml-std col-auto SearchStyles__newSearchButton css-iixdfr']\")\n",
    "sb.click()"
   ]
  },
  {
   "cell_type": "code",
   "execution_count": 1557,
   "metadata": {},
   "outputs": [
    {
     "data": {
      "text/plain": [
       "[<selenium.webdriver.remote.webelement.WebElement (session=\"853709389123f92a89d8d62b5652030d\", element=\"0846e1bd-ac1c-40fe-91c3-1e011b8116f1\")>,\n",
       " <selenium.webdriver.remote.webelement.WebElement (session=\"853709389123f92a89d8d62b5652030d\", element=\"0b82da12-bf27-4b19-9972-7eb8b6481bd1\")>,\n",
       " <selenium.webdriver.remote.webelement.WebElement (session=\"853709389123f92a89d8d62b5652030d\", element=\"09458f19-1df4-4b0b-a6ec-6eb1526836a6\")>,\n",
       " <selenium.webdriver.remote.webelement.WebElement (session=\"853709389123f92a89d8d62b5652030d\", element=\"e0e248e8-cc91-4954-8293-f21154354458\")>,\n",
       " <selenium.webdriver.remote.webelement.WebElement (session=\"853709389123f92a89d8d62b5652030d\", element=\"d274edb9-33a3-4818-bdeb-2560a3d00df7\")>,\n",
       " <selenium.webdriver.remote.webelement.WebElement (session=\"853709389123f92a89d8d62b5652030d\", element=\"6357613d-1a42-43e3-b8a3-993ba8abfda3\")>,\n",
       " <selenium.webdriver.remote.webelement.WebElement (session=\"853709389123f92a89d8d62b5652030d\", element=\"c7734d43-502a-430b-93fe-6d23ac07a3cb\")>,\n",
       " <selenium.webdriver.remote.webelement.WebElement (session=\"853709389123f92a89d8d62b5652030d\", element=\"c76776fe-730b-42d4-ba9b-82cfa7c5deee\")>,\n",
       " <selenium.webdriver.remote.webelement.WebElement (session=\"853709389123f92a89d8d62b5652030d\", element=\"fb822001-97fa-457c-8d07-94b541cd33a8\")>,\n",
       " <selenium.webdriver.remote.webelement.WebElement (session=\"853709389123f92a89d8d62b5652030d\", element=\"deba53b7-cd86-4f39-aaae-2f79b9595399\")>,\n",
       " <selenium.webdriver.remote.webelement.WebElement (session=\"853709389123f92a89d8d62b5652030d\", element=\"57216213-afdd-4ffc-99e3-3a8d6dbdda2d\")>,\n",
       " <selenium.webdriver.remote.webelement.WebElement (session=\"853709389123f92a89d8d62b5652030d\", element=\"a1b60c8d-1e5d-4d30-a4b1-663b65ba4488\")>,\n",
       " <selenium.webdriver.remote.webelement.WebElement (session=\"853709389123f92a89d8d62b5652030d\", element=\"1c646c20-e8af-4b18-b6fa-efcbf0a4d295\")>,\n",
       " <selenium.webdriver.remote.webelement.WebElement (session=\"853709389123f92a89d8d62b5652030d\", element=\"16ee34db-2ff0-4fdb-b7b4-efc4256b17da\")>,\n",
       " <selenium.webdriver.remote.webelement.WebElement (session=\"853709389123f92a89d8d62b5652030d\", element=\"f181232d-97ce-4315-bea0-61f6b9c440b9\")>,\n",
       " <selenium.webdriver.remote.webelement.WebElement (session=\"853709389123f92a89d8d62b5652030d\", element=\"26c42dfe-743e-4da3-a912-777efbee963d\")>,\n",
       " <selenium.webdriver.remote.webelement.WebElement (session=\"853709389123f92a89d8d62b5652030d\", element=\"88759967-f309-4ff1-b55c-19e142637ab9\")>,\n",
       " <selenium.webdriver.remote.webelement.WebElement (session=\"853709389123f92a89d8d62b5652030d\", element=\"47829925-1684-4d8f-ab93-0ad4ba25891e\")>,\n",
       " <selenium.webdriver.remote.webelement.WebElement (session=\"853709389123f92a89d8d62b5652030d\", element=\"e61cf9d5-fa8e-490e-9493-6858d3a031b5\")>,\n",
       " <selenium.webdriver.remote.webelement.WebElement (session=\"853709389123f92a89d8d62b5652030d\", element=\"1f936341-4ad6-436c-889e-8bf06c5fe21a\")>,\n",
       " <selenium.webdriver.remote.webelement.WebElement (session=\"853709389123f92a89d8d62b5652030d\", element=\"e1006189-5f94-4967-b934-9a0edde29733\")>,\n",
       " <selenium.webdriver.remote.webelement.WebElement (session=\"853709389123f92a89d8d62b5652030d\", element=\"04d756e7-e888-4718-8079-f7a45761a7ba\")>,\n",
       " <selenium.webdriver.remote.webelement.WebElement (session=\"853709389123f92a89d8d62b5652030d\", element=\"72fe4c35-dd5b-4322-9be6-6b7f5a611f6a\")>,\n",
       " <selenium.webdriver.remote.webelement.WebElement (session=\"853709389123f92a89d8d62b5652030d\", element=\"231ce392-a074-4735-b9b0-56b6d735bb5e\")>,\n",
       " <selenium.webdriver.remote.webelement.WebElement (session=\"853709389123f92a89d8d62b5652030d\", element=\"8a0ac5f2-391c-4f51-a037-72c71f96b446\")>,\n",
       " <selenium.webdriver.remote.webelement.WebElement (session=\"853709389123f92a89d8d62b5652030d\", element=\"9647537e-bf1e-4e8b-90bd-b962630f927a\")>,\n",
       " <selenium.webdriver.remote.webelement.WebElement (session=\"853709389123f92a89d8d62b5652030d\", element=\"a35e3d19-afd6-4da9-96d3-d09f99aef5a4\")>,\n",
       " <selenium.webdriver.remote.webelement.WebElement (session=\"853709389123f92a89d8d62b5652030d\", element=\"f3d6b160-880e-4a8e-93f2-0806bc33acba\")>,\n",
       " <selenium.webdriver.remote.webelement.WebElement (session=\"853709389123f92a89d8d62b5652030d\", element=\"6850c580-6a86-4f81-a325-cbd824cb2687\")>,\n",
       " <selenium.webdriver.remote.webelement.WebElement (session=\"853709389123f92a89d8d62b5652030d\", element=\"1ae97f54-9335-4652-b67e-5b8612b50996\")>]"
      ]
     },
     "execution_count": 1557,
     "metadata": {},
     "output_type": "execute_result"
    }
   ],
   "source": [
    "company_name_=driver.find_elements_by_xpath(\"//div[@class='d-flex justify-content-between align-items-start']\")\n",
    "company_name_\n",
    "\n",
    "\n",
    "ratings_=driver.find_elements_by_xpath(\"//div[@class='d-flex flex-column css-x75kgh e1rrn5ka3']\")\n",
    "ratings_\n",
    "\n",
    "hrs_=driver.find_elements_by_xpath(\"//div[@class='d-flex align-items-end pl-std css-mi55ob']\")\n",
    "hrs_\n"
   ]
  },
  {
   "cell_type": "code",
   "execution_count": 1558,
   "metadata": {},
   "outputs": [
    {
     "data": {
      "text/plain": [
       "[<selenium.webdriver.remote.webelement.WebElement (session=\"853709389123f92a89d8d62b5652030d\", element=\"4d65eb6b-764d-4fe7-aa15-ea6d95b42d9f\")>,\n",
       " <selenium.webdriver.remote.webelement.WebElement (session=\"853709389123f92a89d8d62b5652030d\", element=\"fabf3025-d3cc-4e44-a8a5-2a34c017d859\")>,\n",
       " <selenium.webdriver.remote.webelement.WebElement (session=\"853709389123f92a89d8d62b5652030d\", element=\"e26531f7-1c06-402b-8577-556469f97499\")>,\n",
       " <selenium.webdriver.remote.webelement.WebElement (session=\"853709389123f92a89d8d62b5652030d\", element=\"59aa9606-a835-47b3-948e-7d20a216747e\")>,\n",
       " <selenium.webdriver.remote.webelement.WebElement (session=\"853709389123f92a89d8d62b5652030d\", element=\"c159fc08-0cb8-4aa6-bbfb-cfe3a5d0ecd8\")>,\n",
       " <selenium.webdriver.remote.webelement.WebElement (session=\"853709389123f92a89d8d62b5652030d\", element=\"86daa711-55e1-4c83-b9e5-6352d7a50e6d\")>,\n",
       " <selenium.webdriver.remote.webelement.WebElement (session=\"853709389123f92a89d8d62b5652030d\", element=\"1eca2587-cd8b-49a0-943a-6de776e90945\")>,\n",
       " <selenium.webdriver.remote.webelement.WebElement (session=\"853709389123f92a89d8d62b5652030d\", element=\"71074b61-cfb0-4c5d-ae53-0146fff77f29\")>,\n",
       " <selenium.webdriver.remote.webelement.WebElement (session=\"853709389123f92a89d8d62b5652030d\", element=\"cf598fa5-a7d3-4443-8cc3-0ac0b1ebcfa9\")>,\n",
       " <selenium.webdriver.remote.webelement.WebElement (session=\"853709389123f92a89d8d62b5652030d\", element=\"de9814f3-893d-4c71-9600-315c48b0b5d1\")>,\n",
       " <selenium.webdriver.remote.webelement.WebElement (session=\"853709389123f92a89d8d62b5652030d\", element=\"08fe17eb-b9a0-4aa5-9a11-f6b119669821\")>,\n",
       " <selenium.webdriver.remote.webelement.WebElement (session=\"853709389123f92a89d8d62b5652030d\", element=\"55dc015a-2bc8-4758-91aa-cf594452e860\")>,\n",
       " <selenium.webdriver.remote.webelement.WebElement (session=\"853709389123f92a89d8d62b5652030d\", element=\"82a355df-99ef-4e6c-a975-3703ebeba2e1\")>,\n",
       " <selenium.webdriver.remote.webelement.WebElement (session=\"853709389123f92a89d8d62b5652030d\", element=\"10c254dc-bc65-4686-81b1-a13e38a97f17\")>,\n",
       " <selenium.webdriver.remote.webelement.WebElement (session=\"853709389123f92a89d8d62b5652030d\", element=\"0f643909-52d0-4c31-a397-ccd57e58b4c5\")>,\n",
       " <selenium.webdriver.remote.webelement.WebElement (session=\"853709389123f92a89d8d62b5652030d\", element=\"4f3e47d7-1dae-4ad1-bc17-72767050b3b2\")>,\n",
       " <selenium.webdriver.remote.webelement.WebElement (session=\"853709389123f92a89d8d62b5652030d\", element=\"dbad9089-d25e-43ba-a55f-64d8e800c6a7\")>,\n",
       " <selenium.webdriver.remote.webelement.WebElement (session=\"853709389123f92a89d8d62b5652030d\", element=\"e667abc9-2cc1-412f-82a8-15839316f085\")>,\n",
       " <selenium.webdriver.remote.webelement.WebElement (session=\"853709389123f92a89d8d62b5652030d\", element=\"be3424c1-b9ae-42e5-a427-739bca26603b\")>,\n",
       " <selenium.webdriver.remote.webelement.WebElement (session=\"853709389123f92a89d8d62b5652030d\", element=\"50def55d-72af-4a2e-864c-60fe6eb088d8\")>,\n",
       " <selenium.webdriver.remote.webelement.WebElement (session=\"853709389123f92a89d8d62b5652030d\", element=\"93f64b85-d376-47a4-b98a-f219a79a8889\")>,\n",
       " <selenium.webdriver.remote.webelement.WebElement (session=\"853709389123f92a89d8d62b5652030d\", element=\"900b4e26-2d50-4b02-955a-e6eef1f66741\")>,\n",
       " <selenium.webdriver.remote.webelement.WebElement (session=\"853709389123f92a89d8d62b5652030d\", element=\"df158ad3-e13f-45ce-9977-4506b9458d73\")>,\n",
       " <selenium.webdriver.remote.webelement.WebElement (session=\"853709389123f92a89d8d62b5652030d\", element=\"ebfca365-720a-43e2-a91b-251d77f62320\")>,\n",
       " <selenium.webdriver.remote.webelement.WebElement (session=\"853709389123f92a89d8d62b5652030d\", element=\"2d19eae4-792e-4ea1-b1a7-4258b2f11bca\")>,\n",
       " <selenium.webdriver.remote.webelement.WebElement (session=\"853709389123f92a89d8d62b5652030d\", element=\"4e538ff7-8a8d-4008-b37e-ce59f7ecaa5e\")>,\n",
       " <selenium.webdriver.remote.webelement.WebElement (session=\"853709389123f92a89d8d62b5652030d\", element=\"de91f7e6-5c9e-41e7-8b5d-b229c90dd323\")>,\n",
       " <selenium.webdriver.remote.webelement.WebElement (session=\"853709389123f92a89d8d62b5652030d\", element=\"674f9555-1d75-4311-b192-468d27a41740\")>,\n",
       " <selenium.webdriver.remote.webelement.WebElement (session=\"853709389123f92a89d8d62b5652030d\", element=\"134cf581-174e-4c49-9d1e-b041aef7b977\")>,\n",
       " <selenium.webdriver.remote.webelement.WebElement (session=\"853709389123f92a89d8d62b5652030d\", element=\"f1f0998b-876f-47a9-8f62-5d82f5771537\")>]"
      ]
     },
     "execution_count": 1558,
     "metadata": {},
     "output_type": "execute_result"
    }
   ],
   "source": [
    "company_name_"
   ]
  },
  {
   "cell_type": "code",
   "execution_count": 1559,
   "metadata": {},
   "outputs": [
    {
     "data": {
      "text/plain": [
       "[<selenium.webdriver.remote.webelement.WebElement (session=\"853709389123f92a89d8d62b5652030d\", element=\"c4082f8d-6d2e-4d06-89b5-82a67c6d20ee\")>,\n",
       " <selenium.webdriver.remote.webelement.WebElement (session=\"853709389123f92a89d8d62b5652030d\", element=\"4aa2af47-488c-4d64-b7be-258bd71fccd7\")>,\n",
       " <selenium.webdriver.remote.webelement.WebElement (session=\"853709389123f92a89d8d62b5652030d\", element=\"9ccd1cbc-7774-443a-89ee-e3345ad5beec\")>,\n",
       " <selenium.webdriver.remote.webelement.WebElement (session=\"853709389123f92a89d8d62b5652030d\", element=\"f2fb1620-956a-439b-82c7-f1d1824ecb93\")>,\n",
       " <selenium.webdriver.remote.webelement.WebElement (session=\"853709389123f92a89d8d62b5652030d\", element=\"aa6c9f2c-c22f-4388-baac-fc35c8b44b81\")>,\n",
       " <selenium.webdriver.remote.webelement.WebElement (session=\"853709389123f92a89d8d62b5652030d\", element=\"b4e5c602-380a-4524-8825-1e0df1db2bb6\")>,\n",
       " <selenium.webdriver.remote.webelement.WebElement (session=\"853709389123f92a89d8d62b5652030d\", element=\"d8640f33-81ff-482a-b66d-25c12dc74cbc\")>,\n",
       " <selenium.webdriver.remote.webelement.WebElement (session=\"853709389123f92a89d8d62b5652030d\", element=\"2215b890-4f2c-4dbc-af0b-e2fc004469fa\")>,\n",
       " <selenium.webdriver.remote.webelement.WebElement (session=\"853709389123f92a89d8d62b5652030d\", element=\"47cdb066-3730-4990-b5ca-d170565c4853\")>,\n",
       " <selenium.webdriver.remote.webelement.WebElement (session=\"853709389123f92a89d8d62b5652030d\", element=\"28154cd1-bc7d-493f-8ad4-72e925469c5a\")>,\n",
       " <selenium.webdriver.remote.webelement.WebElement (session=\"853709389123f92a89d8d62b5652030d\", element=\"ff1b8c6a-d00c-4d5b-97c1-55d881f1978f\")>,\n",
       " <selenium.webdriver.remote.webelement.WebElement (session=\"853709389123f92a89d8d62b5652030d\", element=\"3a59b2e0-bafe-42f5-b7e3-4d246211acf4\")>,\n",
       " <selenium.webdriver.remote.webelement.WebElement (session=\"853709389123f92a89d8d62b5652030d\", element=\"51d3fc6c-6c4e-4e3a-acf3-d2311223ac72\")>,\n",
       " <selenium.webdriver.remote.webelement.WebElement (session=\"853709389123f92a89d8d62b5652030d\", element=\"ec43ddfb-93c6-43cf-acd3-1499087ed45c\")>,\n",
       " <selenium.webdriver.remote.webelement.WebElement (session=\"853709389123f92a89d8d62b5652030d\", element=\"d84018dd-5535-4e00-a4e1-18ac39dfddbf\")>,\n",
       " <selenium.webdriver.remote.webelement.WebElement (session=\"853709389123f92a89d8d62b5652030d\", element=\"acefeb55-0bab-4c14-b373-dd1b8da29959\")>,\n",
       " <selenium.webdriver.remote.webelement.WebElement (session=\"853709389123f92a89d8d62b5652030d\", element=\"1f3881b8-cd3c-4da5-9ba6-ed2dda81f47d\")>,\n",
       " <selenium.webdriver.remote.webelement.WebElement (session=\"853709389123f92a89d8d62b5652030d\", element=\"08d0bc38-38e5-4009-9a0a-f58e7d28fdea\")>,\n",
       " <selenium.webdriver.remote.webelement.WebElement (session=\"853709389123f92a89d8d62b5652030d\", element=\"17aea0af-333a-40a4-9650-d9eb7504e613\")>,\n",
       " <selenium.webdriver.remote.webelement.WebElement (session=\"853709389123f92a89d8d62b5652030d\", element=\"e72f5a9e-409a-4ccf-b498-9680eea75975\")>,\n",
       " <selenium.webdriver.remote.webelement.WebElement (session=\"853709389123f92a89d8d62b5652030d\", element=\"b15aad3c-cdd2-4f20-b7fe-cb3072212a17\")>,\n",
       " <selenium.webdriver.remote.webelement.WebElement (session=\"853709389123f92a89d8d62b5652030d\", element=\"e23042eb-76c3-42d5-a888-9e2c7d91045d\")>,\n",
       " <selenium.webdriver.remote.webelement.WebElement (session=\"853709389123f92a89d8d62b5652030d\", element=\"52d8c8a6-3010-40fe-84c1-3a1fc803db21\")>,\n",
       " <selenium.webdriver.remote.webelement.WebElement (session=\"853709389123f92a89d8d62b5652030d\", element=\"b14c06d6-50ad-4829-a943-3b7307e6c242\")>,\n",
       " <selenium.webdriver.remote.webelement.WebElement (session=\"853709389123f92a89d8d62b5652030d\", element=\"13067dc4-8ad4-41f5-99e1-c1497f8fd31f\")>,\n",
       " <selenium.webdriver.remote.webelement.WebElement (session=\"853709389123f92a89d8d62b5652030d\", element=\"7e7ffb5e-ca67-4f41-841f-18e42365096b\")>,\n",
       " <selenium.webdriver.remote.webelement.WebElement (session=\"853709389123f92a89d8d62b5652030d\", element=\"4f4f8c40-d0df-4bcb-9efc-0a0aa95b5053\")>,\n",
       " <selenium.webdriver.remote.webelement.WebElement (session=\"853709389123f92a89d8d62b5652030d\", element=\"d420e8ac-4590-44f6-9fce-855582d192ca\")>,\n",
       " <selenium.webdriver.remote.webelement.WebElement (session=\"853709389123f92a89d8d62b5652030d\", element=\"2c65e961-6f3a-46dd-a70b-a7de49bb3911\")>,\n",
       " <selenium.webdriver.remote.webelement.WebElement (session=\"853709389123f92a89d8d62b5652030d\", element=\"82096f3d-6d54-4ad5-9941-818aaff5e02c\")>]"
      ]
     },
     "execution_count": 1559,
     "metadata": {},
     "output_type": "execute_result"
    }
   ],
   "source": [
    "ratings_"
   ]
  },
  {
   "cell_type": "code",
   "execution_count": 1560,
   "metadata": {},
   "outputs": [
    {
     "data": {
      "text/plain": [
       "[<selenium.webdriver.remote.webelement.WebElement (session=\"853709389123f92a89d8d62b5652030d\", element=\"0846e1bd-ac1c-40fe-91c3-1e011b8116f1\")>,\n",
       " <selenium.webdriver.remote.webelement.WebElement (session=\"853709389123f92a89d8d62b5652030d\", element=\"0b82da12-bf27-4b19-9972-7eb8b6481bd1\")>,\n",
       " <selenium.webdriver.remote.webelement.WebElement (session=\"853709389123f92a89d8d62b5652030d\", element=\"09458f19-1df4-4b0b-a6ec-6eb1526836a6\")>,\n",
       " <selenium.webdriver.remote.webelement.WebElement (session=\"853709389123f92a89d8d62b5652030d\", element=\"e0e248e8-cc91-4954-8293-f21154354458\")>,\n",
       " <selenium.webdriver.remote.webelement.WebElement (session=\"853709389123f92a89d8d62b5652030d\", element=\"d274edb9-33a3-4818-bdeb-2560a3d00df7\")>,\n",
       " <selenium.webdriver.remote.webelement.WebElement (session=\"853709389123f92a89d8d62b5652030d\", element=\"6357613d-1a42-43e3-b8a3-993ba8abfda3\")>,\n",
       " <selenium.webdriver.remote.webelement.WebElement (session=\"853709389123f92a89d8d62b5652030d\", element=\"c7734d43-502a-430b-93fe-6d23ac07a3cb\")>,\n",
       " <selenium.webdriver.remote.webelement.WebElement (session=\"853709389123f92a89d8d62b5652030d\", element=\"c76776fe-730b-42d4-ba9b-82cfa7c5deee\")>,\n",
       " <selenium.webdriver.remote.webelement.WebElement (session=\"853709389123f92a89d8d62b5652030d\", element=\"fb822001-97fa-457c-8d07-94b541cd33a8\")>,\n",
       " <selenium.webdriver.remote.webelement.WebElement (session=\"853709389123f92a89d8d62b5652030d\", element=\"deba53b7-cd86-4f39-aaae-2f79b9595399\")>,\n",
       " <selenium.webdriver.remote.webelement.WebElement (session=\"853709389123f92a89d8d62b5652030d\", element=\"57216213-afdd-4ffc-99e3-3a8d6dbdda2d\")>,\n",
       " <selenium.webdriver.remote.webelement.WebElement (session=\"853709389123f92a89d8d62b5652030d\", element=\"a1b60c8d-1e5d-4d30-a4b1-663b65ba4488\")>,\n",
       " <selenium.webdriver.remote.webelement.WebElement (session=\"853709389123f92a89d8d62b5652030d\", element=\"1c646c20-e8af-4b18-b6fa-efcbf0a4d295\")>,\n",
       " <selenium.webdriver.remote.webelement.WebElement (session=\"853709389123f92a89d8d62b5652030d\", element=\"16ee34db-2ff0-4fdb-b7b4-efc4256b17da\")>,\n",
       " <selenium.webdriver.remote.webelement.WebElement (session=\"853709389123f92a89d8d62b5652030d\", element=\"f181232d-97ce-4315-bea0-61f6b9c440b9\")>,\n",
       " <selenium.webdriver.remote.webelement.WebElement (session=\"853709389123f92a89d8d62b5652030d\", element=\"26c42dfe-743e-4da3-a912-777efbee963d\")>,\n",
       " <selenium.webdriver.remote.webelement.WebElement (session=\"853709389123f92a89d8d62b5652030d\", element=\"88759967-f309-4ff1-b55c-19e142637ab9\")>,\n",
       " <selenium.webdriver.remote.webelement.WebElement (session=\"853709389123f92a89d8d62b5652030d\", element=\"47829925-1684-4d8f-ab93-0ad4ba25891e\")>,\n",
       " <selenium.webdriver.remote.webelement.WebElement (session=\"853709389123f92a89d8d62b5652030d\", element=\"e61cf9d5-fa8e-490e-9493-6858d3a031b5\")>,\n",
       " <selenium.webdriver.remote.webelement.WebElement (session=\"853709389123f92a89d8d62b5652030d\", element=\"1f936341-4ad6-436c-889e-8bf06c5fe21a\")>,\n",
       " <selenium.webdriver.remote.webelement.WebElement (session=\"853709389123f92a89d8d62b5652030d\", element=\"e1006189-5f94-4967-b934-9a0edde29733\")>,\n",
       " <selenium.webdriver.remote.webelement.WebElement (session=\"853709389123f92a89d8d62b5652030d\", element=\"04d756e7-e888-4718-8079-f7a45761a7ba\")>,\n",
       " <selenium.webdriver.remote.webelement.WebElement (session=\"853709389123f92a89d8d62b5652030d\", element=\"72fe4c35-dd5b-4322-9be6-6b7f5a611f6a\")>,\n",
       " <selenium.webdriver.remote.webelement.WebElement (session=\"853709389123f92a89d8d62b5652030d\", element=\"231ce392-a074-4735-b9b0-56b6d735bb5e\")>,\n",
       " <selenium.webdriver.remote.webelement.WebElement (session=\"853709389123f92a89d8d62b5652030d\", element=\"8a0ac5f2-391c-4f51-a037-72c71f96b446\")>,\n",
       " <selenium.webdriver.remote.webelement.WebElement (session=\"853709389123f92a89d8d62b5652030d\", element=\"9647537e-bf1e-4e8b-90bd-b962630f927a\")>,\n",
       " <selenium.webdriver.remote.webelement.WebElement (session=\"853709389123f92a89d8d62b5652030d\", element=\"a35e3d19-afd6-4da9-96d3-d09f99aef5a4\")>,\n",
       " <selenium.webdriver.remote.webelement.WebElement (session=\"853709389123f92a89d8d62b5652030d\", element=\"f3d6b160-880e-4a8e-93f2-0806bc33acba\")>,\n",
       " <selenium.webdriver.remote.webelement.WebElement (session=\"853709389123f92a89d8d62b5652030d\", element=\"6850c580-6a86-4f81-a325-cbd824cb2687\")>,\n",
       " <selenium.webdriver.remote.webelement.WebElement (session=\"853709389123f92a89d8d62b5652030d\", element=\"1ae97f54-9335-4652-b67e-5b8612b50996\")>]"
      ]
     },
     "execution_count": 1560,
     "metadata": {},
     "output_type": "execute_result"
    }
   ],
   "source": [
    "hrs_"
   ]
  },
  {
   "cell_type": "code",
   "execution_count": 1561,
   "metadata": {},
   "outputs": [
    {
     "data": {
      "text/plain": [
       "['3.6', '3.6', '4.0', '', '4.3', '3.9', '4.3', '4.0', '3.8', '2.5']"
      ]
     },
     "execution_count": 1561,
     "metadata": {},
     "output_type": "execute_result"
    }
   ],
   "source": [
    "ratings=[]\n",
    "\n",
    "k=0\n",
    "for i in ratings_:\n",
    "    k=k+1\n",
    "    if k>=11:\n",
    "        break\n",
    "    \n",
    "   \n",
    "\n",
    "    ratings.append(i.text.replace('\\n',' '))\n",
    "    \n",
    "\n",
    "ratings"
   ]
  },
  {
   "cell_type": "code",
   "execution_count": 1562,
   "metadata": {},
   "outputs": [
    {
     "data": {
      "text/plain": [
       "['12d', '30d+', '13d', '6d', '30d+', '18d', '2d', '11d', '30d+', '30d+']"
      ]
     },
     "execution_count": 1562,
     "metadata": {},
     "output_type": "execute_result"
    }
   ],
   "source": [
    "hrs=[]\n",
    "\n",
    "k=0\n",
    "for i in hrs_:\n",
    "    k=k+1\n",
    "    if k>=11:\n",
    "        break\n",
    "    \n",
    "   \n",
    "\n",
    "    hrs.append(i.text.replace('\\n',' '))\n",
    "    \n",
    "hrs"
   ]
  },
  {
   "cell_type": "code",
   "execution_count": 1563,
   "metadata": {
    "scrolled": true
   },
   "outputs": [
    {
     "data": {
      "text/plain": [
       "['IDFC FIRST Bank',\n",
       " 'HDFC Bank',\n",
       " 'Mondelēz International',\n",
       " 'Aitechnohub',\n",
       " 'Colgate-Palmolive',\n",
       " 'Deloitte',\n",
       " '',\n",
       " 'Fractal.ai',\n",
       " 'Deutsche Bank',\n",
       " 'Exeliq Consulting']"
      ]
     },
     "execution_count": 1563,
     "metadata": {},
     "output_type": "execute_result"
    }
   ],
   "source": [
    "company_name=[]\n",
    "\n",
    "k=0\n",
    "for i in company_name_:\n",
    "    k=k+1\n",
    "    if k>=11:\n",
    "        break\n",
    "    \n",
    "   \n",
    "\n",
    "    company_name.append(i.text.replace('\\n',' '))\n",
    "    \n",
    "company_name"
   ]
  },
  {
   "cell_type": "code",
   "execution_count": 1565,
   "metadata": {},
   "outputs": [],
   "source": [
    "import numpy as np\n",
    "NK4=pd.DataFrame({})\n",
    "NK4['COMPANY NAME']=company_name\n",
    "NK4['TIME/DAYS']=hrs\n",
    "NK4['RATINGS']=ratings"
   ]
  },
  {
   "cell_type": "code",
   "execution_count": 1567,
   "metadata": {},
   "outputs": [],
   "source": [
    "NK4['RATINGS']=NK4['RATINGS'].replace('','no ratings')"
   ]
  },
  {
   "cell_type": "code",
   "execution_count": 1568,
   "metadata": {},
   "outputs": [
    {
     "data": {
      "text/html": [
       "<div>\n",
       "<style scoped>\n",
       "    .dataframe tbody tr th:only-of-type {\n",
       "        vertical-align: middle;\n",
       "    }\n",
       "\n",
       "    .dataframe tbody tr th {\n",
       "        vertical-align: top;\n",
       "    }\n",
       "\n",
       "    .dataframe thead th {\n",
       "        text-align: right;\n",
       "    }\n",
       "</style>\n",
       "<table border=\"1\" class=\"dataframe\">\n",
       "  <thead>\n",
       "    <tr style=\"text-align: right;\">\n",
       "      <th></th>\n",
       "      <th>COMPANY NAME</th>\n",
       "      <th>TIME/DAYS</th>\n",
       "      <th>RATINGS</th>\n",
       "    </tr>\n",
       "  </thead>\n",
       "  <tbody>\n",
       "    <tr>\n",
       "      <th>0</th>\n",
       "      <td>IDFC FIRST Bank</td>\n",
       "      <td>12d</td>\n",
       "      <td>3.6</td>\n",
       "    </tr>\n",
       "    <tr>\n",
       "      <th>1</th>\n",
       "      <td>HDFC Bank</td>\n",
       "      <td>30d+</td>\n",
       "      <td>3.6</td>\n",
       "    </tr>\n",
       "    <tr>\n",
       "      <th>2</th>\n",
       "      <td>Mondelēz International</td>\n",
       "      <td>13d</td>\n",
       "      <td>4.0</td>\n",
       "    </tr>\n",
       "    <tr>\n",
       "      <th>3</th>\n",
       "      <td>Aitechnohub</td>\n",
       "      <td>6d</td>\n",
       "      <td>no ratings</td>\n",
       "    </tr>\n",
       "    <tr>\n",
       "      <th>4</th>\n",
       "      <td>Colgate-Palmolive</td>\n",
       "      <td>30d+</td>\n",
       "      <td>4.3</td>\n",
       "    </tr>\n",
       "    <tr>\n",
       "      <th>5</th>\n",
       "      <td>Deloitte</td>\n",
       "      <td>18d</td>\n",
       "      <td>3.9</td>\n",
       "    </tr>\n",
       "    <tr>\n",
       "      <th>6</th>\n",
       "      <td></td>\n",
       "      <td>2d</td>\n",
       "      <td>4.3</td>\n",
       "    </tr>\n",
       "    <tr>\n",
       "      <th>7</th>\n",
       "      <td>Fractal.ai</td>\n",
       "      <td>11d</td>\n",
       "      <td>4.0</td>\n",
       "    </tr>\n",
       "    <tr>\n",
       "      <th>8</th>\n",
       "      <td>Deutsche Bank</td>\n",
       "      <td>30d+</td>\n",
       "      <td>3.8</td>\n",
       "    </tr>\n",
       "    <tr>\n",
       "      <th>9</th>\n",
       "      <td>Exeliq Consulting</td>\n",
       "      <td>30d+</td>\n",
       "      <td>2.5</td>\n",
       "    </tr>\n",
       "  </tbody>\n",
       "</table>\n",
       "</div>"
      ],
      "text/plain": [
       "             COMPANY NAME TIME/DAYS     RATINGS\n",
       "0         IDFC FIRST Bank       12d         3.6\n",
       "1               HDFC Bank      30d+         3.6\n",
       "2  Mondelēz International       13d         4.0\n",
       "3             Aitechnohub        6d  no ratings\n",
       "4       Colgate-Palmolive      30d+         4.3\n",
       "5                Deloitte       18d         3.9\n",
       "6                                2d         4.3\n",
       "7              Fractal.ai       11d         4.0\n",
       "8           Deutsche Bank      30d+         3.8\n",
       "9       Exeliq Consulting      30d+         2.5"
      ]
     },
     "execution_count": 1568,
     "metadata": {},
     "output_type": "execute_result"
    }
   ],
   "source": [
    "NK4.head(10)"
   ]
  },
  {
   "cell_type": "code",
   "execution_count": 1569,
   "metadata": {},
   "outputs": [],
   "source": [
    "NK4.to_csv('Glass_door_1.csv')"
   ]
  },
  {
   "cell_type": "code",
   "execution_count": null,
   "metadata": {},
   "outputs": [],
   "source": []
  },
  {
   "cell_type": "code",
   "execution_count": null,
   "metadata": {},
   "outputs": [],
   "source": []
  },
  {
   "cell_type": "markdown",
   "metadata": {},
   "source": [
    "---------------------------------------------------------------------------------------------------"
   ]
  },
  {
   "cell_type": "markdown",
   "metadata": {},
   "source": [
    "# Q5"
   ]
  },
  {
   "cell_type": "code",
   "execution_count": 1584,
   "metadata": {},
   "outputs": [],
   "source": [
    "driver=webdriver.Chrome(r'chromedriver.exe')\n",
    "\n",
    "url='https://www.glassdoor.co.in/Salaries/index.htm'\n",
    "driver.get(url)\n"
   ]
  },
  {
   "cell_type": "code",
   "execution_count": 1585,
   "metadata": {},
   "outputs": [],
   "source": [
    "sj=driver.find_element_by_id('KeywordSearch')\n",
    "\n",
    "sj.send_keys('Data Scientist')\n"
   ]
  },
  {
   "cell_type": "code",
   "execution_count": 1586,
   "metadata": {
    "scrolled": false
   },
   "outputs": [],
   "source": [
    "sl=driver.find_element_by_id('LocationSearch')\n",
    "sl.send_keys('Noida')\n",
    "\n"
   ]
  },
  {
   "cell_type": "code",
   "execution_count": 1587,
   "metadata": {},
   "outputs": [],
   "source": [
    "sb=driver.find_element_by_xpath(\"//button[@id='HeroSearchButton']\")\n",
    "sb.click()"
   ]
  },
  {
   "cell_type": "code",
   "execution_count": 1597,
   "metadata": {},
   "outputs": [
    {
     "data": {
      "text/plain": [
       "[]"
      ]
     },
     "execution_count": 1597,
     "metadata": {},
     "output_type": "execute_result"
    }
   ],
   "source": []
  },
  {
   "cell_type": "code",
   "execution_count": 1598,
   "metadata": {},
   "outputs": [
    {
     "data": {
      "text/plain": [
       "[<selenium.webdriver.remote.webelement.WebElement (session=\"fbfc5dbf12de96d17c88147b244047b1\", element=\"b9b38fd6-f091-4ac0-ad14-00f6af2b39aa\")>,\n",
       " <selenium.webdriver.remote.webelement.WebElement (session=\"fbfc5dbf12de96d17c88147b244047b1\", element=\"a0de5db6-c7de-4da5-b7a8-8fdac241017c\")>,\n",
       " <selenium.webdriver.remote.webelement.WebElement (session=\"fbfc5dbf12de96d17c88147b244047b1\", element=\"49ad62a2-ed3d-4420-9096-e20db6244ec1\")>,\n",
       " <selenium.webdriver.remote.webelement.WebElement (session=\"fbfc5dbf12de96d17c88147b244047b1\", element=\"37a1298a-8093-4a37-be89-8e06af12ee74\")>,\n",
       " <selenium.webdriver.remote.webelement.WebElement (session=\"fbfc5dbf12de96d17c88147b244047b1\", element=\"9d3c5d67-8944-4989-bc26-239542e3053e\")>,\n",
       " <selenium.webdriver.remote.webelement.WebElement (session=\"fbfc5dbf12de96d17c88147b244047b1\", element=\"91f33c20-c4b9-43f2-9898-024743749483\")>,\n",
       " <selenium.webdriver.remote.webelement.WebElement (session=\"fbfc5dbf12de96d17c88147b244047b1\", element=\"1a0b0e87-9113-4646-b609-b0914a989917\")>,\n",
       " <selenium.webdriver.remote.webelement.WebElement (session=\"fbfc5dbf12de96d17c88147b244047b1\", element=\"26c40553-eb11-4ea5-b294-ca1f1b0f65e2\")>,\n",
       " <selenium.webdriver.remote.webelement.WebElement (session=\"fbfc5dbf12de96d17c88147b244047b1\", element=\"ef624dce-14f5-4d5e-b61a-c3d9ee260776\")>,\n",
       " <selenium.webdriver.remote.webelement.WebElement (session=\"fbfc5dbf12de96d17c88147b244047b1\", element=\"6721b440-aeb0-4e47-9727-c6f6f271050f\")>,\n",
       " <selenium.webdriver.remote.webelement.WebElement (session=\"fbfc5dbf12de96d17c88147b244047b1\", element=\"6a63377f-e361-4c3e-8772-b56419488067\")>,\n",
       " <selenium.webdriver.remote.webelement.WebElement (session=\"fbfc5dbf12de96d17c88147b244047b1\", element=\"9364ab9b-e950-4463-949e-d186dbf8617f\")>,\n",
       " <selenium.webdriver.remote.webelement.WebElement (session=\"fbfc5dbf12de96d17c88147b244047b1\", element=\"be38bd94-caf7-419e-913a-94bc7908818c\")>,\n",
       " <selenium.webdriver.remote.webelement.WebElement (session=\"fbfc5dbf12de96d17c88147b244047b1\", element=\"d2302b5d-21bd-48de-9a6f-9e21b3713731\")>,\n",
       " <selenium.webdriver.remote.webelement.WebElement (session=\"fbfc5dbf12de96d17c88147b244047b1\", element=\"b6f13e8b-9c9f-4d4d-ac2a-871873f00e31\")>,\n",
       " <selenium.webdriver.remote.webelement.WebElement (session=\"fbfc5dbf12de96d17c88147b244047b1\", element=\"82d4b474-0122-479f-870d-974c6fbef88b\")>,\n",
       " <selenium.webdriver.remote.webelement.WebElement (session=\"fbfc5dbf12de96d17c88147b244047b1\", element=\"35802653-aa6b-49c5-af73-c3119c4ba32a\")>,\n",
       " <selenium.webdriver.remote.webelement.WebElement (session=\"fbfc5dbf12de96d17c88147b244047b1\", element=\"3db3e5bc-7f6e-45e4-a22f-d97985a1e6a2\")>,\n",
       " <selenium.webdriver.remote.webelement.WebElement (session=\"fbfc5dbf12de96d17c88147b244047b1\", element=\"96ee6c1f-ea96-43f8-9869-2982e9ab0031\")>,\n",
       " <selenium.webdriver.remote.webelement.WebElement (session=\"fbfc5dbf12de96d17c88147b244047b1\", element=\"4aa630e2-0b08-4db1-ad40-1e25a96402b5\")>,\n",
       " <selenium.webdriver.remote.webelement.WebElement (session=\"fbfc5dbf12de96d17c88147b244047b1\", element=\"88728d55-62de-48b5-9a73-8268f2ddecb7\")>,\n",
       " <selenium.webdriver.remote.webelement.WebElement (session=\"fbfc5dbf12de96d17c88147b244047b1\", element=\"5d6d2e1a-d481-47b5-815a-52c5ed355876\")>,\n",
       " <selenium.webdriver.remote.webelement.WebElement (session=\"fbfc5dbf12de96d17c88147b244047b1\", element=\"5396739d-82fe-4334-9efa-b8fec4fe6095\")>,\n",
       " <selenium.webdriver.remote.webelement.WebElement (session=\"fbfc5dbf12de96d17c88147b244047b1\", element=\"bcab16cd-9070-4e7b-a3e1-6968765d5022\")>,\n",
       " <selenium.webdriver.remote.webelement.WebElement (session=\"fbfc5dbf12de96d17c88147b244047b1\", element=\"eba32bc0-616b-469d-8f99-7a8283e03d89\")>,\n",
       " <selenium.webdriver.remote.webelement.WebElement (session=\"fbfc5dbf12de96d17c88147b244047b1\", element=\"bdf337c7-71e3-4058-b8e8-39c9b3cf78be\")>,\n",
       " <selenium.webdriver.remote.webelement.WebElement (session=\"fbfc5dbf12de96d17c88147b244047b1\", element=\"7010b0e9-1b45-43cb-92e0-edb6b7352811\")>,\n",
       " <selenium.webdriver.remote.webelement.WebElement (session=\"fbfc5dbf12de96d17c88147b244047b1\", element=\"143b1892-8367-43e2-84d8-8b3799e22603\")>,\n",
       " <selenium.webdriver.remote.webelement.WebElement (session=\"fbfc5dbf12de96d17c88147b244047b1\", element=\"da4f8bae-f656-4435-a8e7-8cd88e6dab24\")>,\n",
       " <selenium.webdriver.remote.webelement.WebElement (session=\"fbfc5dbf12de96d17c88147b244047b1\", element=\"0fe49378-1f1e-4bba-8e93-5cf7ab78c28d\")>,\n",
       " <selenium.webdriver.remote.webelement.WebElement (session=\"fbfc5dbf12de96d17c88147b244047b1\", element=\"b7c21a16-ba52-42d8-bbe4-f6dbb20a0f49\")>,\n",
       " <selenium.webdriver.remote.webelement.WebElement (session=\"fbfc5dbf12de96d17c88147b244047b1\", element=\"4df602fa-8438-4014-bd84-376ff4006801\")>,\n",
       " <selenium.webdriver.remote.webelement.WebElement (session=\"fbfc5dbf12de96d17c88147b244047b1\", element=\"445b50ac-4592-4c25-b20d-45cf94d600b7\")>,\n",
       " <selenium.webdriver.remote.webelement.WebElement (session=\"fbfc5dbf12de96d17c88147b244047b1\", element=\"06ff4780-4ed9-432f-8881-060dba177d73\")>,\n",
       " <selenium.webdriver.remote.webelement.WebElement (session=\"fbfc5dbf12de96d17c88147b244047b1\", element=\"9866aeaf-d588-47f2-8085-17c3a02903ab\")>,\n",
       " <selenium.webdriver.remote.webelement.WebElement (session=\"fbfc5dbf12de96d17c88147b244047b1\", element=\"11e32535-5e7f-4c4f-b524-02d958bfd08f\")>,\n",
       " <selenium.webdriver.remote.webelement.WebElement (session=\"fbfc5dbf12de96d17c88147b244047b1\", element=\"631706ac-de0f-4e65-9254-10bf956bd0cd\")>,\n",
       " <selenium.webdriver.remote.webelement.WebElement (session=\"fbfc5dbf12de96d17c88147b244047b1\", element=\"2c1a4c06-755a-40b7-9a2b-6dc2d329c366\")>,\n",
       " <selenium.webdriver.remote.webelement.WebElement (session=\"fbfc5dbf12de96d17c88147b244047b1\", element=\"28d4429d-b430-443a-85d2-0b09b24517c3\")>,\n",
       " <selenium.webdriver.remote.webelement.WebElement (session=\"fbfc5dbf12de96d17c88147b244047b1\", element=\"a9a75ffc-a3ce-4fd7-9130-979a2ba5c33d\")>]"
      ]
     },
     "execution_count": 1598,
     "metadata": {},
     "output_type": "execute_result"
    }
   ],
   "source": []
  },
  {
   "cell_type": "code",
   "execution_count": null,
   "metadata": {},
   "outputs": [],
   "source": []
  },
  {
   "cell_type": "code",
   "execution_count": null,
   "metadata": {},
   "outputs": [],
   "source": [
    "\n",
    "x=[]\n",
    "k=0\n",
    "for i in box:\n",
    "    k=k+1\n",
    "    if k>=11:\n",
    "        break\n",
    "    \n",
    "   \n",
    "\n",
    "    x.append(i.split(\"Data Scientist\",6)[1])\n",
    "    \n",
    "x"
   ]
  },
  {
   "cell_type": "code",
   "execution_count": null,
   "metadata": {},
   "outputs": [],
   "source": []
  },
  {
   "cell_type": "code",
   "execution_count": 1599,
   "metadata": {},
   "outputs": [
    {
     "data": {
      "text/plain": [
       "[<selenium.webdriver.remote.webelement.WebElement (session=\"fbfc5dbf12de96d17c88147b244047b1\", element=\"039ffef6-7ec4-4a68-87a0-f9373f2648a2\")>,\n",
       " <selenium.webdriver.remote.webelement.WebElement (session=\"fbfc5dbf12de96d17c88147b244047b1\", element=\"480142d9-7e76-4fad-9f24-7fb995773a37\")>,\n",
       " <selenium.webdriver.remote.webelement.WebElement (session=\"fbfc5dbf12de96d17c88147b244047b1\", element=\"bee755c7-33d2-43ca-a59e-600f630ffc83\")>,\n",
       " <selenium.webdriver.remote.webelement.WebElement (session=\"fbfc5dbf12de96d17c88147b244047b1\", element=\"b9256470-07dd-414c-a0a5-1df1a823391c\")>,\n",
       " <selenium.webdriver.remote.webelement.WebElement (session=\"fbfc5dbf12de96d17c88147b244047b1\", element=\"6b5e3ea0-98ce-4508-992a-d18eee7c16ae\")>,\n",
       " <selenium.webdriver.remote.webelement.WebElement (session=\"fbfc5dbf12de96d17c88147b244047b1\", element=\"51a573e7-27f5-409a-9604-58caa7fb756e\")>,\n",
       " <selenium.webdriver.remote.webelement.WebElement (session=\"fbfc5dbf12de96d17c88147b244047b1\", element=\"05511be7-3a1b-45bf-ab36-268ac8fc9ddd\")>,\n",
       " <selenium.webdriver.remote.webelement.WebElement (session=\"fbfc5dbf12de96d17c88147b244047b1\", element=\"91633d39-18f6-4fcf-8540-09e1a39ceb49\")>,\n",
       " <selenium.webdriver.remote.webelement.WebElement (session=\"fbfc5dbf12de96d17c88147b244047b1\", element=\"2e85bc84-f0c5-4549-8dff-c26d70f286c2\")>,\n",
       " <selenium.webdriver.remote.webelement.WebElement (session=\"fbfc5dbf12de96d17c88147b244047b1\", element=\"41fb0ced-3ad6-4271-ad2c-cb6993162f9d\")>,\n",
       " <selenium.webdriver.remote.webelement.WebElement (session=\"fbfc5dbf12de96d17c88147b244047b1\", element=\"e97f5251-39c6-4a0f-bb3e-f39e2a52b111\")>,\n",
       " <selenium.webdriver.remote.webelement.WebElement (session=\"fbfc5dbf12de96d17c88147b244047b1\", element=\"d1724312-bdb7-4bc7-999b-adce9a0f844d\")>,\n",
       " <selenium.webdriver.remote.webelement.WebElement (session=\"fbfc5dbf12de96d17c88147b244047b1\", element=\"cfbe1441-1b89-43e2-9166-4c30b44955d9\")>,\n",
       " <selenium.webdriver.remote.webelement.WebElement (session=\"fbfc5dbf12de96d17c88147b244047b1\", element=\"bf6cd21f-d197-430a-aa32-16e9d1a256e3\")>,\n",
       " <selenium.webdriver.remote.webelement.WebElement (session=\"fbfc5dbf12de96d17c88147b244047b1\", element=\"169e8761-e185-4ead-a75b-ae8e5d57b0af\")>,\n",
       " <selenium.webdriver.remote.webelement.WebElement (session=\"fbfc5dbf12de96d17c88147b244047b1\", element=\"134b4718-d413-4bcd-a166-d5fcf76225c6\")>,\n",
       " <selenium.webdriver.remote.webelement.WebElement (session=\"fbfc5dbf12de96d17c88147b244047b1\", element=\"fb4ad884-eb8e-4340-90d4-5b79ac8e85d4\")>,\n",
       " <selenium.webdriver.remote.webelement.WebElement (session=\"fbfc5dbf12de96d17c88147b244047b1\", element=\"41c07663-7b61-4097-9303-a3709262cb59\")>,\n",
       " <selenium.webdriver.remote.webelement.WebElement (session=\"fbfc5dbf12de96d17c88147b244047b1\", element=\"f1048822-94da-4b4f-83b2-98d62132f764\")>,\n",
       " <selenium.webdriver.remote.webelement.WebElement (session=\"fbfc5dbf12de96d17c88147b244047b1\", element=\"b6327fb9-1092-45ac-b5b1-c549cabbb1d3\")>]"
      ]
     },
     "execution_count": 1599,
     "metadata": {},
     "output_type": "execute_result"
    }
   ],
   "source": [
    "company_name_=driver.find_elements_by_xpath(\"//p[@class='m-0 ']\")\n",
    "company_name_"
   ]
  },
  {
   "cell_type": "code",
   "execution_count": 1600,
   "metadata": {
    "scrolled": true
   },
   "outputs": [
    {
     "data": {
      "text/plain": [
       "['Tata Consultancy Services',\n",
       " 'IBM',\n",
       " 'Accenture',\n",
       " 'Ericsson-Worldwide',\n",
       " 'Delhivery',\n",
       " 'UnitedHealth Group',\n",
       " 'Valiance Solutions',\n",
       " 'ZS Associates',\n",
       " 'EXL Service',\n",
       " 'Optum Global Solutions']"
      ]
     },
     "execution_count": 1600,
     "metadata": {},
     "output_type": "execute_result"
    }
   ],
   "source": [
    "company_name=[]\n",
    "k=0\n",
    "for i in company_name_:\n",
    "    k=k+1\n",
    "    if k>=11:\n",
    "        break\n",
    "    \n",
    "   \n",
    "\n",
    "    company_name.append(i.text.replace('\\n',' '))\n",
    "    \n",
    "company_name"
   ]
  },
  {
   "cell_type": "code",
   "execution_count": 1601,
   "metadata": {},
   "outputs": [
    {
     "data": {
      "text/plain": [
       "[<selenium.webdriver.remote.webelement.WebElement (session=\"fbfc5dbf12de96d17c88147b244047b1\", element=\"57592252-4125-499d-8129-cb66a69c5a99\")>,\n",
       " <selenium.webdriver.remote.webelement.WebElement (session=\"fbfc5dbf12de96d17c88147b244047b1\", element=\"7296ea3a-f02b-42ba-809e-4c12de53b603\")>,\n",
       " <selenium.webdriver.remote.webelement.WebElement (session=\"fbfc5dbf12de96d17c88147b244047b1\", element=\"55754eab-5b0d-4a9e-9346-614dd631f024\")>,\n",
       " <selenium.webdriver.remote.webelement.WebElement (session=\"fbfc5dbf12de96d17c88147b244047b1\", element=\"b2451112-7eb6-4aca-8d42-a916d04e3652\")>,\n",
       " <selenium.webdriver.remote.webelement.WebElement (session=\"fbfc5dbf12de96d17c88147b244047b1\", element=\"d1c682b2-0e41-44fe-82c0-53b55034769c\")>,\n",
       " <selenium.webdriver.remote.webelement.WebElement (session=\"fbfc5dbf12de96d17c88147b244047b1\", element=\"f363450c-00a9-460f-8ee1-3827c7f17e2a\")>,\n",
       " <selenium.webdriver.remote.webelement.WebElement (session=\"fbfc5dbf12de96d17c88147b244047b1\", element=\"721d2840-e9b9-4408-87c5-f3c6634ed349\")>,\n",
       " <selenium.webdriver.remote.webelement.WebElement (session=\"fbfc5dbf12de96d17c88147b244047b1\", element=\"1c218ac9-6209-4f6b-a274-4b760eb32ba4\")>,\n",
       " <selenium.webdriver.remote.webelement.WebElement (session=\"fbfc5dbf12de96d17c88147b244047b1\", element=\"16fd6cbd-666a-400c-b32e-20ecb659046a\")>,\n",
       " <selenium.webdriver.remote.webelement.WebElement (session=\"fbfc5dbf12de96d17c88147b244047b1\", element=\"ef18081a-4f8f-4ce5-83c0-870694a2588f\")>,\n",
       " <selenium.webdriver.remote.webelement.WebElement (session=\"fbfc5dbf12de96d17c88147b244047b1\", element=\"9d478fc9-eb28-4ecd-9722-069c7ec4538d\")>,\n",
       " <selenium.webdriver.remote.webelement.WebElement (session=\"fbfc5dbf12de96d17c88147b244047b1\", element=\"2eb8290b-300a-4eea-91b8-6e1328ef7347\")>,\n",
       " <selenium.webdriver.remote.webelement.WebElement (session=\"fbfc5dbf12de96d17c88147b244047b1\", element=\"1fb382fa-e67f-489d-8d12-bea80c2e0c4b\")>,\n",
       " <selenium.webdriver.remote.webelement.WebElement (session=\"fbfc5dbf12de96d17c88147b244047b1\", element=\"65b274bd-cb35-4a08-917f-5f1a060b8d46\")>,\n",
       " <selenium.webdriver.remote.webelement.WebElement (session=\"fbfc5dbf12de96d17c88147b244047b1\", element=\"2b41e88a-303c-426a-9314-4cabef9a7d38\")>,\n",
       " <selenium.webdriver.remote.webelement.WebElement (session=\"fbfc5dbf12de96d17c88147b244047b1\", element=\"a8a805e4-def2-4204-93f7-d2736c0253db\")>,\n",
       " <selenium.webdriver.remote.webelement.WebElement (session=\"fbfc5dbf12de96d17c88147b244047b1\", element=\"c351bd1e-e6fc-4f37-8015-2aad15cab442\")>,\n",
       " <selenium.webdriver.remote.webelement.WebElement (session=\"fbfc5dbf12de96d17c88147b244047b1\", element=\"0c9b8876-3fd4-4d05-9cdf-50d75c96455a\")>,\n",
       " <selenium.webdriver.remote.webelement.WebElement (session=\"fbfc5dbf12de96d17c88147b244047b1\", element=\"890914a4-fc0b-4dd4-837e-8d6212a5f531\")>,\n",
       " <selenium.webdriver.remote.webelement.WebElement (session=\"fbfc5dbf12de96d17c88147b244047b1\", element=\"c4c0470f-bf2f-47f7-acb2-03828f0f4b10\")>]"
      ]
     },
     "execution_count": 1601,
     "metadata": {},
     "output_type": "execute_result"
    }
   ],
   "source": [
    "avg_sal_=driver.find_elements_by_xpath(\"//div[@class='col-2 d-none d-md-flex flex-row justify-content-end']\")\n",
    "avg_sal_"
   ]
  },
  {
   "cell_type": "code",
   "execution_count": 1602,
   "metadata": {},
   "outputs": [
    {
     "data": {
      "text/plain": [
       "['₹ 6,14,306 /yr',\n",
       " '₹ 9,00,000 /yr',\n",
       " '₹ 11,46,533 /yr',\n",
       " '₹ 7,38,057 /yr',\n",
       " '₹ 12,39,781 /yr',\n",
       " '₹ 13,36,142 /yr',\n",
       " '₹ 8,15,192 /yr',\n",
       " '₹ 11,35,221 /yr',\n",
       " '₹ 11,44,243 /yr',\n",
       " '₹ 14,13,288 /yr']"
      ]
     },
     "execution_count": 1602,
     "metadata": {},
     "output_type": "execute_result"
    }
   ],
   "source": [
    "avg_sal=[]\n",
    "k=0\n",
    "for i in avg_sal_:\n",
    "    k=k+1\n",
    "    if k>=11:\n",
    "        break\n",
    "    \n",
    "   \n",
    "\n",
    "    avg_sal.append(i.text.replace('\\n',' '))\n",
    "    \n",
    "avg_sal"
   ]
  },
  {
   "cell_type": "code",
   "execution_count": 1603,
   "metadata": {},
   "outputs": [
    {
     "data": {
      "text/plain": [
       "[<selenium.webdriver.remote.webelement.WebElement (session=\"fbfc5dbf12de96d17c88147b244047b1\", element=\"15371fde-3b1b-468d-840e-ae23de76c084\")>,\n",
       " <selenium.webdriver.remote.webelement.WebElement (session=\"fbfc5dbf12de96d17c88147b244047b1\", element=\"5c5a60b2-c3df-431e-b77a-d30189e164a2\")>,\n",
       " <selenium.webdriver.remote.webelement.WebElement (session=\"fbfc5dbf12de96d17c88147b244047b1\", element=\"93f779a0-f8f9-40dc-a984-4d841f213c5a\")>,\n",
       " <selenium.webdriver.remote.webelement.WebElement (session=\"fbfc5dbf12de96d17c88147b244047b1\", element=\"a276c3a0-532b-47d0-ae3b-d630142df2ec\")>,\n",
       " <selenium.webdriver.remote.webelement.WebElement (session=\"fbfc5dbf12de96d17c88147b244047b1\", element=\"e8da0b32-1f79-4857-a7d5-98db45fb12ac\")>,\n",
       " <selenium.webdriver.remote.webelement.WebElement (session=\"fbfc5dbf12de96d17c88147b244047b1\", element=\"c46cdb68-53a5-4748-87e8-057442c7a536\")>,\n",
       " <selenium.webdriver.remote.webelement.WebElement (session=\"fbfc5dbf12de96d17c88147b244047b1\", element=\"ccd22a8f-7a38-42cf-88b3-61fbe8b96aff\")>,\n",
       " <selenium.webdriver.remote.webelement.WebElement (session=\"fbfc5dbf12de96d17c88147b244047b1\", element=\"69e1c800-1800-46ac-a818-733f786c4da0\")>,\n",
       " <selenium.webdriver.remote.webelement.WebElement (session=\"fbfc5dbf12de96d17c88147b244047b1\", element=\"73359a30-ff3e-4163-9b60-a5ca029f1c30\")>,\n",
       " <selenium.webdriver.remote.webelement.WebElement (session=\"fbfc5dbf12de96d17c88147b244047b1\", element=\"3296ccb4-ac07-46cb-973e-45119ca1d2cc\")>,\n",
       " <selenium.webdriver.remote.webelement.WebElement (session=\"fbfc5dbf12de96d17c88147b244047b1\", element=\"39020872-e008-4c0e-a5f9-496ac26ebec4\")>,\n",
       " <selenium.webdriver.remote.webelement.WebElement (session=\"fbfc5dbf12de96d17c88147b244047b1\", element=\"a7562d75-82ee-4b23-be81-637c2a57b6af\")>,\n",
       " <selenium.webdriver.remote.webelement.WebElement (session=\"fbfc5dbf12de96d17c88147b244047b1\", element=\"0c6cfba4-202f-4468-9c61-85f0be4a62f4\")>,\n",
       " <selenium.webdriver.remote.webelement.WebElement (session=\"fbfc5dbf12de96d17c88147b244047b1\", element=\"fba20a67-3e81-497a-9b62-ffad673e8ec7\")>,\n",
       " <selenium.webdriver.remote.webelement.WebElement (session=\"fbfc5dbf12de96d17c88147b244047b1\", element=\"0dbf3f13-4495-49e1-9397-ef65d8461eb5\")>,\n",
       " <selenium.webdriver.remote.webelement.WebElement (session=\"fbfc5dbf12de96d17c88147b244047b1\", element=\"f387a8ea-fe65-4614-80eb-33b58fa6934c\")>,\n",
       " <selenium.webdriver.remote.webelement.WebElement (session=\"fbfc5dbf12de96d17c88147b244047b1\", element=\"c1ba04bb-139b-49c9-a9d1-76cf7d249884\")>,\n",
       " <selenium.webdriver.remote.webelement.WebElement (session=\"fbfc5dbf12de96d17c88147b244047b1\", element=\"8eab632e-49f5-4fd4-a8f6-ae7971ae1ea8\")>,\n",
       " <selenium.webdriver.remote.webelement.WebElement (session=\"fbfc5dbf12de96d17c88147b244047b1\", element=\"033a2d51-4097-4a35-8b39-564b6d307c33\")>,\n",
       " <selenium.webdriver.remote.webelement.WebElement (session=\"fbfc5dbf12de96d17c88147b244047b1\", element=\"f61deb25-cf72-41d6-b83a-f74205f2df34\")>]"
      ]
     },
     "execution_count": 1603,
     "metadata": {},
     "output_type": "execute_result"
    }
   ],
   "source": [
    "salaries_=driver.find_elements_by_xpath(\"//p[@class='css-1uyte9r css-1kuy7z7 m-0 ']\")\n",
    "salaries_"
   ]
  },
  {
   "cell_type": "code",
   "execution_count": 1604,
   "metadata": {},
   "outputs": [
    {
     "data": {
      "text/plain": [
       "['17 salaries',\n",
       " '15 salaries',\n",
       " '14 salaries',\n",
       " '14 salaries',\n",
       " '14 salaries',\n",
       " '11 salaries',\n",
       " '9 salaries',\n",
       " '8 salaries',\n",
       " '8 salaries',\n",
       " '8 salaries']"
      ]
     },
     "execution_count": 1604,
     "metadata": {},
     "output_type": "execute_result"
    }
   ],
   "source": [
    "salaries=[]\n",
    "k=0\n",
    "for i in salaries_:\n",
    "    k=k+1\n",
    "    if k>=11:\n",
    "        break\n",
    "    \n",
    "   \n",
    "\n",
    "    salaries.append(i.text.replace('\\n',' '))\n",
    "    \n",
    "salaries"
   ]
  },
  {
   "cell_type": "code",
   "execution_count": 1605,
   "metadata": {},
   "outputs": [
    {
     "data": {
      "text/plain": [
       "[<selenium.webdriver.remote.webelement.WebElement (session=\"fbfc5dbf12de96d17c88147b244047b1\", element=\"cbe64c73-496f-46e6-a878-185c73d57dff\")>,\n",
       " <selenium.webdriver.remote.webelement.WebElement (session=\"fbfc5dbf12de96d17c88147b244047b1\", element=\"f6b2c675-39dd-45a7-bff5-6560afa208cb\")>,\n",
       " <selenium.webdriver.remote.webelement.WebElement (session=\"fbfc5dbf12de96d17c88147b244047b1\", element=\"93fa9fd5-df0d-458f-bbc5-b31e55d7004e\")>,\n",
       " <selenium.webdriver.remote.webelement.WebElement (session=\"fbfc5dbf12de96d17c88147b244047b1\", element=\"ec4f5c2b-da3b-45d2-8d56-a6d5e1500a78\")>,\n",
       " <selenium.webdriver.remote.webelement.WebElement (session=\"fbfc5dbf12de96d17c88147b244047b1\", element=\"dae0d3b0-4a35-4d9b-a4d2-23f461fcb268\")>,\n",
       " <selenium.webdriver.remote.webelement.WebElement (session=\"fbfc5dbf12de96d17c88147b244047b1\", element=\"501a81db-26d3-43d3-b753-97536e94977a\")>,\n",
       " <selenium.webdriver.remote.webelement.WebElement (session=\"fbfc5dbf12de96d17c88147b244047b1\", element=\"a8d93bcd-0c1f-444c-a126-b61c0d915f38\")>,\n",
       " <selenium.webdriver.remote.webelement.WebElement (session=\"fbfc5dbf12de96d17c88147b244047b1\", element=\"86447af4-85da-4c4b-8162-cc2eb6e2b699\")>,\n",
       " <selenium.webdriver.remote.webelement.WebElement (session=\"fbfc5dbf12de96d17c88147b244047b1\", element=\"4ee101f9-1009-4c7c-a7f5-556aeaeda38c\")>,\n",
       " <selenium.webdriver.remote.webelement.WebElement (session=\"fbfc5dbf12de96d17c88147b244047b1\", element=\"ef3568af-e4c7-4472-b32a-cfe7199858d9\")>,\n",
       " <selenium.webdriver.remote.webelement.WebElement (session=\"fbfc5dbf12de96d17c88147b244047b1\", element=\"a6c231f0-f677-4a80-889e-50e3d6af8696\")>,\n",
       " <selenium.webdriver.remote.webelement.WebElement (session=\"fbfc5dbf12de96d17c88147b244047b1\", element=\"c0e03ec9-7e67-42f5-a976-2a02e7d6ace7\")>,\n",
       " <selenium.webdriver.remote.webelement.WebElement (session=\"fbfc5dbf12de96d17c88147b244047b1\", element=\"bb65019a-89b7-4cb7-8c89-f11c18cce065\")>,\n",
       " <selenium.webdriver.remote.webelement.WebElement (session=\"fbfc5dbf12de96d17c88147b244047b1\", element=\"daf56be7-c333-437d-8ee3-0eef0d9e1109\")>,\n",
       " <selenium.webdriver.remote.webelement.WebElement (session=\"fbfc5dbf12de96d17c88147b244047b1\", element=\"2a65dbd0-27cc-40f4-ac84-00b0b342f654\")>,\n",
       " <selenium.webdriver.remote.webelement.WebElement (session=\"fbfc5dbf12de96d17c88147b244047b1\", element=\"6fe6c86c-b0b1-488a-9d49-38fddfd45b1c\")>,\n",
       " <selenium.webdriver.remote.webelement.WebElement (session=\"fbfc5dbf12de96d17c88147b244047b1\", element=\"0f5a1669-92cf-4530-8d28-3d9ec230941c\")>,\n",
       " <selenium.webdriver.remote.webelement.WebElement (session=\"fbfc5dbf12de96d17c88147b244047b1\", element=\"2265bb58-68ce-451a-b577-19724c6ae52d\")>,\n",
       " <selenium.webdriver.remote.webelement.WebElement (session=\"fbfc5dbf12de96d17c88147b244047b1\", element=\"1c7a49f2-498d-49b3-a810-510156bb406c\")>,\n",
       " <selenium.webdriver.remote.webelement.WebElement (session=\"fbfc5dbf12de96d17c88147b244047b1\", element=\"0a60a351-0367-44fc-910d-36eabe95085e\")>]"
      ]
     },
     "execution_count": 1605,
     "metadata": {},
     "output_type": "execute_result"
    }
   ],
   "source": [
    "Mn_max_=driver.find_elements_by_xpath(\"//div[@class='common__RangeBarStyle__values d-flex justify-content-between ']\")\n",
    "Mn_max_"
   ]
  },
  {
   "cell_type": "code",
   "execution_count": 1606,
   "metadata": {},
   "outputs": [],
   "source": [
    "Mn_max=[]\n",
    "minumum=[]\n",
    "maximum=[]\n",
    "k=0\n",
    "for i in Mn_max_:\n",
    "    k=k+1\n",
    "    if k>=11:\n",
    "        break\n",
    "    \n",
    "   \n",
    "\n",
    "    Mn_max.append(i.text.replace('\\n',' '))\n",
    "    \n",
    "\n",
    "\n",
    "\n",
    "\n",
    "\n",
    "    \n",
    "    \n",
    "\n",
    "\n"
   ]
  },
  {
   "cell_type": "code",
   "execution_count": 1607,
   "metadata": {},
   "outputs": [
    {
     "data": {
      "text/plain": [
       "['₹343K ₹1,250K',\n",
       " '₹586K ₹2,730K',\n",
       " '₹577K ₹2,213K',\n",
       " '₹355K ₹1,613K',\n",
       " '₹450K ₹11,622K',\n",
       " '₹1,069K ₹1,520K',\n",
       " '₹502K ₹1,465K',\n",
       " '₹202K ₹1,809K',\n",
       " '₹575K ₹1,520K',\n",
       " '₹1,014K ₹2,149K']"
      ]
     },
     "execution_count": 1607,
     "metadata": {},
     "output_type": "execute_result"
    }
   ],
   "source": [
    "Mn_max"
   ]
  },
  {
   "cell_type": "code",
   "execution_count": 1608,
   "metadata": {},
   "outputs": [
    {
     "data": {
      "text/plain": [
       "[]"
      ]
     },
     "execution_count": 1608,
     "metadata": {},
     "output_type": "execute_result"
    }
   ],
   "source": []
  },
  {
   "cell_type": "code",
   "execution_count": 1609,
   "metadata": {},
   "outputs": [],
   "source": [
    "minumum=[]\n",
    "maximum=[]\n",
    "k=0\n",
    "for i in Mn_max:\n",
    "    k=k+1\n",
    "    if k>=11:\n",
    "        break\n",
    "    \n",
    "   \n",
    "\n",
    "    minumum.append(i.split(\" \",6)[0])\n",
    "    maximum.append(i.split(\" \",6)[1])"
   ]
  },
  {
   "cell_type": "code",
   "execution_count": 1610,
   "metadata": {
    "scrolled": true
   },
   "outputs": [],
   "source": [
    "import numpy as np\n",
    "NK5=pd.DataFrame({})\n",
    "NK5['COMPANY NAME']=company_name\n",
    "NK5['NO. SALARIES']=salaries\n",
    "NK5['AVG. SALARY']=avg_sal\n",
    "NK5['MINIMUM SALARY']=minumum\n",
    "NK5['MAXIMUM SALARY']=maximum"
   ]
  },
  {
   "cell_type": "code",
   "execution_count": 1611,
   "metadata": {},
   "outputs": [
    {
     "data": {
      "text/html": [
       "<div>\n",
       "<style scoped>\n",
       "    .dataframe tbody tr th:only-of-type {\n",
       "        vertical-align: middle;\n",
       "    }\n",
       "\n",
       "    .dataframe tbody tr th {\n",
       "        vertical-align: top;\n",
       "    }\n",
       "\n",
       "    .dataframe thead th {\n",
       "        text-align: right;\n",
       "    }\n",
       "</style>\n",
       "<table border=\"1\" class=\"dataframe\">\n",
       "  <thead>\n",
       "    <tr style=\"text-align: right;\">\n",
       "      <th></th>\n",
       "      <th>COMPANY NAME</th>\n",
       "      <th>NO. SALARIES</th>\n",
       "      <th>AVG. SALARY</th>\n",
       "      <th>MINIMUM SALARY</th>\n",
       "      <th>MAXIMUM SALARY</th>\n",
       "    </tr>\n",
       "  </thead>\n",
       "  <tbody>\n",
       "    <tr>\n",
       "      <th>0</th>\n",
       "      <td>Tata Consultancy Services</td>\n",
       "      <td>17 salaries</td>\n",
       "      <td>₹ 6,14,306 /yr</td>\n",
       "      <td>₹343K</td>\n",
       "      <td>₹1,250K</td>\n",
       "    </tr>\n",
       "    <tr>\n",
       "      <th>1</th>\n",
       "      <td>IBM</td>\n",
       "      <td>15 salaries</td>\n",
       "      <td>₹ 9,00,000 /yr</td>\n",
       "      <td>₹586K</td>\n",
       "      <td>₹2,730K</td>\n",
       "    </tr>\n",
       "    <tr>\n",
       "      <th>2</th>\n",
       "      <td>Accenture</td>\n",
       "      <td>14 salaries</td>\n",
       "      <td>₹ 11,46,533 /yr</td>\n",
       "      <td>₹577K</td>\n",
       "      <td>₹2,213K</td>\n",
       "    </tr>\n",
       "    <tr>\n",
       "      <th>3</th>\n",
       "      <td>Ericsson-Worldwide</td>\n",
       "      <td>14 salaries</td>\n",
       "      <td>₹ 7,38,057 /yr</td>\n",
       "      <td>₹355K</td>\n",
       "      <td>₹1,613K</td>\n",
       "    </tr>\n",
       "    <tr>\n",
       "      <th>4</th>\n",
       "      <td>Delhivery</td>\n",
       "      <td>14 salaries</td>\n",
       "      <td>₹ 12,39,781 /yr</td>\n",
       "      <td>₹450K</td>\n",
       "      <td>₹11,622K</td>\n",
       "    </tr>\n",
       "    <tr>\n",
       "      <th>5</th>\n",
       "      <td>UnitedHealth Group</td>\n",
       "      <td>11 salaries</td>\n",
       "      <td>₹ 13,36,142 /yr</td>\n",
       "      <td>₹1,069K</td>\n",
       "      <td>₹1,520K</td>\n",
       "    </tr>\n",
       "    <tr>\n",
       "      <th>6</th>\n",
       "      <td>Valiance Solutions</td>\n",
       "      <td>9 salaries</td>\n",
       "      <td>₹ 8,15,192 /yr</td>\n",
       "      <td>₹502K</td>\n",
       "      <td>₹1,465K</td>\n",
       "    </tr>\n",
       "    <tr>\n",
       "      <th>7</th>\n",
       "      <td>ZS Associates</td>\n",
       "      <td>8 salaries</td>\n",
       "      <td>₹ 11,35,221 /yr</td>\n",
       "      <td>₹202K</td>\n",
       "      <td>₹1,809K</td>\n",
       "    </tr>\n",
       "    <tr>\n",
       "      <th>8</th>\n",
       "      <td>EXL Service</td>\n",
       "      <td>8 salaries</td>\n",
       "      <td>₹ 11,44,243 /yr</td>\n",
       "      <td>₹575K</td>\n",
       "      <td>₹1,520K</td>\n",
       "    </tr>\n",
       "    <tr>\n",
       "      <th>9</th>\n",
       "      <td>Optum Global Solutions</td>\n",
       "      <td>8 salaries</td>\n",
       "      <td>₹ 14,13,288 /yr</td>\n",
       "      <td>₹1,014K</td>\n",
       "      <td>₹2,149K</td>\n",
       "    </tr>\n",
       "  </tbody>\n",
       "</table>\n",
       "</div>"
      ],
      "text/plain": [
       "                COMPANY NAME NO. SALARIES      AVG. SALARY MINIMUM SALARY  \\\n",
       "0  Tata Consultancy Services  17 salaries   ₹ 6,14,306 /yr          ₹343K   \n",
       "1                        IBM  15 salaries   ₹ 9,00,000 /yr          ₹586K   \n",
       "2                  Accenture  14 salaries  ₹ 11,46,533 /yr          ₹577K   \n",
       "3         Ericsson-Worldwide  14 salaries   ₹ 7,38,057 /yr          ₹355K   \n",
       "4                  Delhivery  14 salaries  ₹ 12,39,781 /yr          ₹450K   \n",
       "5         UnitedHealth Group  11 salaries  ₹ 13,36,142 /yr        ₹1,069K   \n",
       "6         Valiance Solutions   9 salaries   ₹ 8,15,192 /yr          ₹502K   \n",
       "7              ZS Associates   8 salaries  ₹ 11,35,221 /yr          ₹202K   \n",
       "8                EXL Service   8 salaries  ₹ 11,44,243 /yr          ₹575K   \n",
       "9     Optum Global Solutions   8 salaries  ₹ 14,13,288 /yr        ₹1,014K   \n",
       "\n",
       "  MAXIMUM SALARY  \n",
       "0        ₹1,250K  \n",
       "1        ₹2,730K  \n",
       "2        ₹2,213K  \n",
       "3        ₹1,613K  \n",
       "4       ₹11,622K  \n",
       "5        ₹1,520K  \n",
       "6        ₹1,465K  \n",
       "7        ₹1,809K  \n",
       "8        ₹1,520K  \n",
       "9        ₹2,149K  "
      ]
     },
     "execution_count": 1611,
     "metadata": {},
     "output_type": "execute_result"
    }
   ],
   "source": [
    "NK5.head(10)"
   ]
  },
  {
   "cell_type": "code",
   "execution_count": 1612,
   "metadata": {},
   "outputs": [],
   "source": [
    "NK5.to_csv('Glass_door_2.csv')"
   ]
  },
  {
   "cell_type": "code",
   "execution_count": null,
   "metadata": {},
   "outputs": [],
   "source": []
  },
  {
   "cell_type": "markdown",
   "metadata": {},
   "source": [
    "--------------------------------------------------------------------------------------------------"
   ]
  },
  {
   "cell_type": "markdown",
   "metadata": {},
   "source": [
    "# Q6"
   ]
  },
  {
   "cell_type": "code",
   "execution_count": 1614,
   "metadata": {},
   "outputs": [],
   "source": [
    "def coll_flip_(count,link):\n",
    "    list=driver.find_elements_by_xpath(link)\n",
    "    out_list=[]\n",
    "    index=1\n",
    "    \n",
    "    for i in list:\n",
    "        \n",
    "        out_list.append(i.text.replace('\\n',' '))\n",
    "        \n",
    "        if index==count :\n",
    "            break\n",
    "        index=index+1\n",
    "    return out_list\n",
    "\n",
    "\n",
    "    "
   ]
  },
  {
   "cell_type": "code",
   "execution_count": 1626,
   "metadata": {},
   "outputs": [],
   "source": [
    "driver=webdriver.Chrome(r'chromedriver.exe')\n",
    "\n",
    "\n",
    "url='https://www.flipkart.com/'\n",
    "driver.get(url)\n"
   ]
  },
  {
   "cell_type": "code",
   "execution_count": 1627,
   "metadata": {},
   "outputs": [],
   "source": [
    "sj=driver.find_element_by_name('q')\n",
    "\n",
    "sj.send_keys('sunglasses')\n"
   ]
  },
  {
   "cell_type": "code",
   "execution_count": 1628,
   "metadata": {},
   "outputs": [],
   "source": [
    "time.sleep(10)\n",
    "sb=driver.find_element_by_xpath(\"//button[@class='L0Z3Pu']\")\n",
    "sb.click()\n"
   ]
  },
  {
   "cell_type": "code",
   "execution_count": 1618,
   "metadata": {},
   "outputs": [],
   "source": [
    "\n",
    "\n"
   ]
  },
  {
   "cell_type": "code",
   "execution_count": 1635,
   "metadata": {},
   "outputs": [],
   "source": [
    "brand=[]\n",
    "prod_desc=[]\n",
    "price=[]\n",
    "discount=[]\n",
    "\n",
    "    \n",
    "brand=coll_flip_(50,\"//div[@class='_2WkVRV']\")\n",
    "prod_desc=coll_flip_(50,\"//a[@class='IRpwTa']\")\n",
    "price=coll_flip_(40,\"//div[@class='_30jeq3']\")\n",
    "discount=coll_flip_(40,\"//div[@class='_3Ay6Sb']\")"
   ]
  },
  {
   "cell_type": "code",
   "execution_count": null,
   "metadata": {},
   "outputs": [],
   "source": []
  },
  {
   "cell_type": "code",
   "execution_count": 1636,
   "metadata": {},
   "outputs": [
    {
     "data": {
      "text/plain": [
       "40"
      ]
     },
     "execution_count": 1636,
     "metadata": {},
     "output_type": "execute_result"
    }
   ],
   "source": [
    "len(brand)"
   ]
  },
  {
   "cell_type": "code",
   "execution_count": 1637,
   "metadata": {
    "scrolled": true
   },
   "outputs": [
    {
     "name": "stdout",
     "output_type": "stream",
     "text": [
      "40\n",
      "40\n",
      "20\n"
     ]
    }
   ],
   "source": [
    "page_index=1\n",
    "\n",
    "prev_count=len(brand)\n",
    "next_count=0\n",
    "print(len(prod_desc))\n",
    "while 1:\n",
    "    \n",
    "    \n",
    "    \n",
    "    count=100-len(brand)\n",
    "    if count==0 or prev_count==next_count:\n",
    "        break\n",
    "    \n",
    "\n",
    "    if page_index==1:\n",
    "\n",
    "        nxt=driver.find_element_by_xpath(\"//a[@class='_1LKTO3']\")\n",
    "        nxt.click()\n",
    "\n",
    "    else:\n",
    "        try:\n",
    "            nxt=driver.find_element_by_xpath(\"//a[@class='_1LKTO3'][2]\")\n",
    "            nxt.click()\n",
    "        except NoSuchElementException:\n",
    "            break\n",
    "    \n",
    "   \n",
    "    time.sleep(5)\n",
    "    prev_count=len(brand)\n",
    "    \n",
    "    \n",
    "    \n",
    "    brand_temp=coll_flip_(count,\"//div[@class='_2WkVRV']\")\n",
    "    prod_desc_temp=coll_flip_(count,\"//a[@class='IRpwTa']\")\n",
    "    price_temp=coll_flip_(count,\"//div[@class='_30jeq3']\")\n",
    "    discount_temp=coll_flip_(count,\"//div[@class='_3Ay6Sb']\")\n",
    "    print(len(prod_desc_temp))\n",
    "    \n",
    "    \n",
    "    brand=brand+brand_temp\n",
    "    \n",
    "    prod_desc=prod_desc+prod_desc_temp\n",
    "    price=price+price_temp\n",
    "    discount=discount+discount_temp\n",
    "    next_count=len(brand)\n",
    "    page_index=page_index+1\n",
    "\n"
   ]
  },
  {
   "cell_type": "code",
   "execution_count": 1622,
   "metadata": {
    "scrolled": true
   },
   "outputs": [
    {
     "data": {
      "text/plain": [
       "100"
      ]
     },
     "execution_count": 1622,
     "metadata": {},
     "output_type": "execute_result"
    }
   ],
   "source": [
    "len(prod_desc)"
   ]
  },
  {
   "cell_type": "code",
   "execution_count": 1638,
   "metadata": {},
   "outputs": [],
   "source": [
    "import numpy as np\n",
    "NK6=pd.DataFrame({})\n",
    "NK6['Brand']=brand\n",
    "NK6['Ratings']=prod_desc\n",
    "NK6['Price']=price\n",
    "NK6['Discount']=discount\n"
   ]
  },
  {
   "cell_type": "code",
   "execution_count": 1639,
   "metadata": {},
   "outputs": [
    {
     "data": {
      "text/html": [
       "<div>\n",
       "<style scoped>\n",
       "    .dataframe tbody tr th:only-of-type {\n",
       "        vertical-align: middle;\n",
       "    }\n",
       "\n",
       "    .dataframe tbody tr th {\n",
       "        vertical-align: top;\n",
       "    }\n",
       "\n",
       "    .dataframe thead th {\n",
       "        text-align: right;\n",
       "    }\n",
       "</style>\n",
       "<table border=\"1\" class=\"dataframe\">\n",
       "  <thead>\n",
       "    <tr style=\"text-align: right;\">\n",
       "      <th></th>\n",
       "      <th>Brand</th>\n",
       "      <th>Ratings</th>\n",
       "      <th>Price</th>\n",
       "      <th>Discount</th>\n",
       "    </tr>\n",
       "  </thead>\n",
       "  <tbody>\n",
       "    <tr>\n",
       "      <th>0</th>\n",
       "      <td>ROZZETTA CRAFT</td>\n",
       "      <td>UV Protection Retro Square Sunglasses (Free Size)</td>\n",
       "      <td>₹499</td>\n",
       "      <td>77% off</td>\n",
       "    </tr>\n",
       "    <tr>\n",
       "      <th>1</th>\n",
       "      <td>Fastrack</td>\n",
       "      <td>UV Protection Rectangular Sunglasses (Free Size)</td>\n",
       "      <td>₹570</td>\n",
       "      <td>28% off</td>\n",
       "    </tr>\n",
       "    <tr>\n",
       "      <th>2</th>\n",
       "      <td>Fastrack</td>\n",
       "      <td>UV Protection Wayfarer Sunglasses (Free Size)</td>\n",
       "      <td>₹733</td>\n",
       "      <td>18% off</td>\n",
       "    </tr>\n",
       "    <tr>\n",
       "      <th>3</th>\n",
       "      <td>PIRASO</td>\n",
       "      <td>UV Protection Aviator Sunglasses (Free Size)</td>\n",
       "      <td>₹349</td>\n",
       "      <td>78% off</td>\n",
       "    </tr>\n",
       "    <tr>\n",
       "      <th>4</th>\n",
       "      <td>ROZZETTA CRAFT</td>\n",
       "      <td>UV Protection, Gradient Rectangular Sunglasses...</td>\n",
       "      <td>₹404</td>\n",
       "      <td>79% off</td>\n",
       "    </tr>\n",
       "  </tbody>\n",
       "</table>\n",
       "</div>"
      ],
      "text/plain": [
       "            Brand                                            Ratings Price  \\\n",
       "0  ROZZETTA CRAFT  UV Protection Retro Square Sunglasses (Free Size)  ₹499   \n",
       "1        Fastrack   UV Protection Rectangular Sunglasses (Free Size)  ₹570   \n",
       "2        Fastrack      UV Protection Wayfarer Sunglasses (Free Size)  ₹733   \n",
       "3          PIRASO       UV Protection Aviator Sunglasses (Free Size)  ₹349   \n",
       "4  ROZZETTA CRAFT  UV Protection, Gradient Rectangular Sunglasses...  ₹404   \n",
       "\n",
       "  Discount  \n",
       "0  77% off  \n",
       "1  28% off  \n",
       "2  18% off  \n",
       "3  78% off  \n",
       "4  79% off  "
      ]
     },
     "execution_count": 1639,
     "metadata": {},
     "output_type": "execute_result"
    }
   ],
   "source": [
    "NK6.head()"
   ]
  },
  {
   "cell_type": "code",
   "execution_count": 1640,
   "metadata": {},
   "outputs": [],
   "source": [
    "NK6.to_csv('Question_6.csv')"
   ]
  },
  {
   "cell_type": "code",
   "execution_count": null,
   "metadata": {},
   "outputs": [],
   "source": []
  },
  {
   "cell_type": "markdown",
   "metadata": {},
   "source": [
    "-----------------------------"
   ]
  },
  {
   "cell_type": "markdown",
   "metadata": {},
   "source": [
    "# Q7"
   ]
  },
  {
   "cell_type": "code",
   "execution_count": 1641,
   "metadata": {},
   "outputs": [],
   "source": [
    "def dataf(row_,count):\n",
    "    ratings=[]\n",
    "    review_sum=[]\n",
    "    k=0\n",
    "    index=0\n",
    "    for i in row_:\n",
    "        if index==count:\n",
    "            break\n",
    "        k=k+1\n",
    "    \n",
    "    \n",
    "        if k%2==0 and k%4!=0:\n",
    "            ratings.append(i[0:1])\n",
    "            \n",
    "            review_sum.append(i[2:])\n",
    "            index=index+1\n",
    "    return ratings,review_sum"
   ]
  },
  {
   "cell_type": "code",
   "execution_count": 1642,
   "metadata": {},
   "outputs": [],
   "source": [
    "driver=webdriver.Chrome(r'chromedriver.exe')\n",
    "\n",
    "url='https://www.flipkart.com/apple-iphone-11-black-64-gb-includes%02earpods-power%02adapter/p/itm0f37c2240b217?pid=MOBFKCTSVZAXUHGR&lid=LSTMOBFKC%20TSVZAXUHGREPBFGI&marketplace'\n",
    "driver.get(url)\n"
   ]
  },
  {
   "cell_type": "code",
   "execution_count": 1643,
   "metadata": {},
   "outputs": [],
   "source": [
    "time.sleep(5)\n",
    "sb=driver.find_element_by_xpath(\"//div[@class='_3UAT2v _16PBlm']\")\n",
    "sb.click()"
   ]
  },
  {
   "cell_type": "code",
   "execution_count": null,
   "metadata": {},
   "outputs": [],
   "source": [
    "\n"
   ]
  },
  {
   "cell_type": "code",
   "execution_count": 1644,
   "metadata": {},
   "outputs": [],
   "source": [
    "time.sleep(10)\n",
    "\n",
    "f_review=coll_flip_(40,\"//div[@class='t-ZTKy']\")\n",
    "row_=coll_flip_(40,\"//div[@class='row']\")\n",
    "\n"
   ]
  },
  {
   "cell_type": "code",
   "execution_count": 1645,
   "metadata": {
    "scrolled": true
   },
   "outputs": [
    {
     "data": {
      "text/plain": [
       "['The Best Phone for the Money  The iPhone 11 offers superb cameras, a more durable design and excellent battery life for an affordable price.  Compelling ultra-wide camera New Night mode is excellent Long battery life',\n",
       " 'Amazing phone with great cameras and better battery which gives you the best performance. I just love the camera .',\n",
       " 'Amazing Powerful and Durable Gadget.  I’m am very happy with the camera picture quality, Amazing face id unlocked in dark room, Strong battery with perfect screen size as you can carry easily in pocket. This is my third iPhone.  I shifted from android Samsung Note series to iPhone because of the strong build quality and peace of mind for next 3-4 years.  Don’t think to much just go for it and I suggest you to go for minimum 128gb variant or more 256gb.  I’ve attached my puppy pics and no fi... READ MORE',\n",
       " 'Previously I was using one plus 3t it was a great phone And then I decided to upgrade I am stuck between Samsung s10 plus or iPhone 11 I have seen the specs and everything were good except the display it’s somewhere between 720-1080 and it’s not even an amoled it’s an LCD display But I decided to go with iPhone because I have never used an IOS device I have Been an android user from the past 9 years I ordered IPhone 11 (128gb) product red My experience after using 3 weeks 1. The delivery ... READ MORE',\n",
       " 'So far it’s been an AMAZING experience coming back to iOS after nearly a decade but it’s not as versatile as android though phone is sturdy dropped it accidentally a couple of times and nothing happened fortunately camera is awesome',\n",
       " 'iphone 11 is a very good phone to buy only if you can compromise for the display. The display on this is device is pretty good but you can get other options with better displays in this price segment. If you can survive with an HD+ LCD panel with thicker bezels and a notch up top then this is a very good phone for you. Cameras are awesome, battery backup excellent, great performance and a decent premium look. Good job Apple !',\n",
       " 'It’s a must buy who is looking for an upgrade from previous generation of iPhones. If you are using XR then still you can hold on for sometime and upgrade to 2020 model else this phone is a must buy . Camera quality is amazing and wide angle is something to count upon. Performance wise it’s amazing and feels premium while holding in hand. So a big YES for this device. Go for 128 GB variant as the 4K videos will occupy lots of space and the storage can get over very quickly. Try to buy it with... READ MORE',\n",
       " 'This is my first iOS phone. I am very happy with this product. Very much satisfied with this. I love this phone.',\n",
       " 'Value for money❤️❤️ Its awesome mobile phone in the world ... Display was very good and bright .. Trust me freinds you r never regret after Buying.. Just go for it.... I love this phone and i switch to iphone x to 11',\n",
       " 'Best budget Iphone till date ❤️ go for it guys without second thought. Let me explain you guys about Camera, Display, battery, and performance.  Camera: at this price range there is no comparison of camera, you’ll love the picture quality as well as video quality. I am a Vlogger I wanted an iPhone with 4k video by front camera and I got this phone and I am more than happy 😃  Battery: I use this phone roughly as I am active social media person and I have a youtube channel. so the battery ba... READ MORE']"
      ]
     },
     "execution_count": 1645,
     "metadata": {},
     "output_type": "execute_result"
    }
   ],
   "source": [
    "f_review"
   ]
  },
  {
   "cell_type": "code",
   "execution_count": 1646,
   "metadata": {},
   "outputs": [],
   "source": [
    "rev,rsum=dataf(row_,10)\n",
    "    "
   ]
  },
  {
   "cell_type": "code",
   "execution_count": 1647,
   "metadata": {},
   "outputs": [
    {
     "data": {
      "text/plain": [
       "40"
      ]
     },
     "execution_count": 1647,
     "metadata": {},
     "output_type": "execute_result"
    }
   ],
   "source": [
    "len(row_)"
   ]
  },
  {
   "cell_type": "code",
   "execution_count": 1648,
   "metadata": {},
   "outputs": [
    {
     "data": {
      "text/plain": [
       "10"
      ]
     },
     "execution_count": 1648,
     "metadata": {},
     "output_type": "execute_result"
    }
   ],
   "source": [
    "len(f_review)"
   ]
  },
  {
   "cell_type": "code",
   "execution_count": 1649,
   "metadata": {},
   "outputs": [
    {
     "data": {
      "text/plain": [
       "['5', '5', '5', '5', '4', '5', '5', '5', '5', '5']"
      ]
     },
     "execution_count": 1649,
     "metadata": {},
     "output_type": "execute_result"
    }
   ],
   "source": [
    "rev\n"
   ]
  },
  {
   "cell_type": "code",
   "execution_count": 1650,
   "metadata": {
    "scrolled": true
   },
   "outputs": [
    {
     "data": {
      "text/plain": [
       "['Brilliant',\n",
       " 'Perfect product!',\n",
       " 'Great product',\n",
       " 'Worth every penny',\n",
       " 'Good choice',\n",
       " 'Highly recommended',\n",
       " 'Perfect product!',\n",
       " 'Fabulous!',\n",
       " 'Perfect product!',\n",
       " 'Worth every penny']"
      ]
     },
     "execution_count": 1650,
     "metadata": {},
     "output_type": "execute_result"
    }
   ],
   "source": [
    "rsum"
   ]
  },
  {
   "cell_type": "code",
   "execution_count": null,
   "metadata": {},
   "outputs": [],
   "source": []
  },
  {
   "cell_type": "code",
   "execution_count": null,
   "metadata": {},
   "outputs": [],
   "source": []
  },
  {
   "cell_type": "code",
   "execution_count": 1651,
   "metadata": {},
   "outputs": [
    {
     "name": "stdout",
     "output_type": "stream",
     "text": [
      "10\n",
      "page 1\n",
      "10\n",
      "10\n",
      "10\n",
      "10\n",
      "10\n",
      "10\n",
      "10\n",
      "10\n",
      "10\n",
      "10\n",
      "10\n",
      "10\n",
      "10\n",
      "10\n",
      "10\n",
      "10\n",
      "10\n",
      "10\n",
      "10\n",
      "10\n",
      "10\n",
      "10\n",
      "10\n",
      "10\n",
      "10\n",
      "10\n",
      "10\n"
     ]
    }
   ],
   "source": [
    "\n",
    "\n",
    "page_index=1\n",
    "\n",
    "prev_count=len(rev)\n",
    "next_count=0\n",
    "print(len(rev))\n",
    "while 1:\n",
    "    \n",
    "    \n",
    "    \n",
    "    count=100-len(rev)\n",
    "    \n",
    "    \n",
    "    if count==0 or prev_count==next_count:\n",
    "        break\n",
    "    \n",
    "\n",
    "    if page_index==1:\n",
    "        print('page 1')\n",
    "\n",
    "        nxt=driver.find_element_by_xpath(\"//a[@class='_1LKTO3']\")\n",
    "        nxt.click()\n",
    "        nxt.click()\n",
    "\n",
    "    else:\n",
    "        try:\n",
    "            nxt=driver.find_element_by_xpath(\"//a[@class='_1LKTO3'][2]\")\n",
    "            nxt.click()\n",
    "            \n",
    "        except NoSuchElementException:\n",
    "            print('no volue ')\n",
    "            break\n",
    "    \n",
    "   \n",
    "    time.sleep(5)\n",
    "    prev_count=len(rev)\n",
    "    \n",
    "    \n",
    "    row_=coll_flip_(40,\"//div[@class='row']\")\n",
    "    rating_temp,review_s_temp=dataf(row_,count)\n",
    "    \n",
    "    f_review_temp=coll_flip_(count,\"//div[@class='t-ZTKy']\")\n",
    "    \n",
    "    rev=rev+rating_temp\n",
    "    rsum=rsum+review_s_temp\n",
    "    f_review=f_review+f_review_temp\n",
    "    \n",
    "    print(len(rating_temp))\n",
    "    print(len(review_s_temp))\n",
    "    print(len(f_review_temp))\n",
    "    \n",
    "    next_count=len(rev)\n",
    "    page_index=page_index+1"
   ]
  },
  {
   "cell_type": "code",
   "execution_count": null,
   "metadata": {},
   "outputs": [],
   "source": [
    "\n"
   ]
  },
  {
   "cell_type": "code",
   "execution_count": 1653,
   "metadata": {},
   "outputs": [
    {
     "data": {
      "text/plain": [
       "100"
      ]
     },
     "execution_count": 1653,
     "metadata": {},
     "output_type": "execute_result"
    }
   ],
   "source": [
    "len(rsum)"
   ]
  },
  {
   "cell_type": "code",
   "execution_count": null,
   "metadata": {},
   "outputs": [],
   "source": []
  },
  {
   "cell_type": "code",
   "execution_count": 1655,
   "metadata": {},
   "outputs": [],
   "source": [
    "import numpy as np\n",
    "NK7=pd.DataFrame({})\n",
    "NK7['Ratings']=rev\n",
    "NK7['Review Summary']=rsum\n",
    "NK7['Full review']=f_review\n"
   ]
  },
  {
   "cell_type": "code",
   "execution_count": 1656,
   "metadata": {},
   "outputs": [
    {
     "data": {
      "text/html": [
       "<div>\n",
       "<style scoped>\n",
       "    .dataframe tbody tr th:only-of-type {\n",
       "        vertical-align: middle;\n",
       "    }\n",
       "\n",
       "    .dataframe tbody tr th {\n",
       "        vertical-align: top;\n",
       "    }\n",
       "\n",
       "    .dataframe thead th {\n",
       "        text-align: right;\n",
       "    }\n",
       "</style>\n",
       "<table border=\"1\" class=\"dataframe\">\n",
       "  <thead>\n",
       "    <tr style=\"text-align: right;\">\n",
       "      <th></th>\n",
       "      <th>Ratings</th>\n",
       "      <th>Review Summary</th>\n",
       "      <th>Full review</th>\n",
       "    </tr>\n",
       "  </thead>\n",
       "  <tbody>\n",
       "    <tr>\n",
       "      <th>0</th>\n",
       "      <td>5</td>\n",
       "      <td>Brilliant</td>\n",
       "      <td>The Best Phone for the Money  The iPhone 11 of...</td>\n",
       "    </tr>\n",
       "    <tr>\n",
       "      <th>1</th>\n",
       "      <td>5</td>\n",
       "      <td>Perfect product!</td>\n",
       "      <td>Amazing phone with great cameras and better ba...</td>\n",
       "    </tr>\n",
       "    <tr>\n",
       "      <th>2</th>\n",
       "      <td>5</td>\n",
       "      <td>Great product</td>\n",
       "      <td>Amazing Powerful and Durable Gadget.  I’m am v...</td>\n",
       "    </tr>\n",
       "    <tr>\n",
       "      <th>3</th>\n",
       "      <td>5</td>\n",
       "      <td>Worth every penny</td>\n",
       "      <td>Previously I was using one plus 3t it was a gr...</td>\n",
       "    </tr>\n",
       "    <tr>\n",
       "      <th>4</th>\n",
       "      <td>4</td>\n",
       "      <td>Good choice</td>\n",
       "      <td>So far it’s been an AMAZING experience coming ...</td>\n",
       "    </tr>\n",
       "  </tbody>\n",
       "</table>\n",
       "</div>"
      ],
      "text/plain": [
       "  Ratings     Review Summary  \\\n",
       "0       5          Brilliant   \n",
       "1       5   Perfect product!   \n",
       "2       5      Great product   \n",
       "3       5  Worth every penny   \n",
       "4       4        Good choice   \n",
       "\n",
       "                                         Full review  \n",
       "0  The Best Phone for the Money  The iPhone 11 of...  \n",
       "1  Amazing phone with great cameras and better ba...  \n",
       "2  Amazing Powerful and Durable Gadget.  I’m am v...  \n",
       "3  Previously I was using one plus 3t it was a gr...  \n",
       "4  So far it’s been an AMAZING experience coming ...  "
      ]
     },
     "execution_count": 1656,
     "metadata": {},
     "output_type": "execute_result"
    }
   ],
   "source": [
    "NK7.head()"
   ]
  },
  {
   "cell_type": "code",
   "execution_count": 1677,
   "metadata": {},
   "outputs": [],
   "source": [
    "NK7.to_csv('Question_7.csv')"
   ]
  },
  {
   "cell_type": "code",
   "execution_count": null,
   "metadata": {},
   "outputs": [],
   "source": []
  },
  {
   "cell_type": "markdown",
   "metadata": {},
   "source": [
    "-------------------------------------------------------------------------------------------------"
   ]
  },
  {
   "cell_type": "markdown",
   "metadata": {},
   "source": [
    "# Q8"
   ]
  },
  {
   "cell_type": "code",
   "execution_count": 1658,
   "metadata": {},
   "outputs": [],
   "source": [
    "def coll_flip_(count,link):\n",
    "    list=driver.find_elements_by_xpath(link)\n",
    "    out_list=[]\n",
    "    index=1\n",
    "    \n",
    "    for i in list:\n",
    "        \n",
    "        out_list.append(i.text.replace('\\n',' '))\n",
    "        \n",
    "        if index==count :\n",
    "            break\n",
    "        index=index+1\n",
    "    return out_list\n",
    "\n"
   ]
  },
  {
   "cell_type": "code",
   "execution_count": 1659,
   "metadata": {},
   "outputs": [],
   "source": [
    "driver=webdriver.Chrome(r'chromedriver.exe')\n",
    "\n",
    "\n",
    "url='https://www.flipkart.com/'\n",
    "driver.get(url)\n"
   ]
  },
  {
   "cell_type": "code",
   "execution_count": 1660,
   "metadata": {},
   "outputs": [],
   "source": [
    "try:\n",
    "    time.sleep(4)\n",
    "    kk=driver.find_element_by_xpath(\"//button[@class='_2KpZ6l _2doB4z']\")\n",
    "    kk.click()\n",
    "    sj=driver.find_element_by_name('q')\n",
    "    sj.send_keys('sneakers')\n",
    "except NoSuchElementException:\n",
    "    sj=driver.find_element_by_name('q')\n",
    "    sj.send_keys('sneakers')\n",
    "\n",
    "\n",
    "    \n",
    "    \n",
    "    "
   ]
  },
  {
   "cell_type": "code",
   "execution_count": null,
   "metadata": {},
   "outputs": [],
   "source": []
  },
  {
   "cell_type": "code",
   "execution_count": 1667,
   "metadata": {},
   "outputs": [],
   "source": [
    "time.sleep(10)\n",
    "sb=driver.find_element_by_xpath(\"//button[@class='L0Z3Pu']\")\n",
    "sb.click()"
   ]
  },
  {
   "cell_type": "code",
   "execution_count": 1668,
   "metadata": {},
   "outputs": [],
   "source": [
    "time.sleep(5)\n",
    "brand=coll_flip_(40,\"//div[@class='_2WkVRV']\")\n",
    "prod_desc=coll_flip_(40,\"//a[@class='IRpwTa']\")\n",
    "price=coll_flip_(40,\"//div[@class='_30jeq3']\")\n",
    "discount=coll_flip_(40,\"//div[@class='_3Ay6Sb']\")\n"
   ]
  },
  {
   "cell_type": "code",
   "execution_count": 1669,
   "metadata": {},
   "outputs": [
    {
     "name": "stdout",
     "output_type": "stream",
     "text": [
      "40\n",
      "80\n"
     ]
    }
   ],
   "source": [
    "page_index=1\n",
    "\n",
    "prev_count=len(brand)\n",
    "next_count=0\n",
    "\n",
    "while 1:\n",
    "    \n",
    "    \n",
    "    \n",
    "    count=100-len(brand)\n",
    "    if count==0 or prev_count==next_count:\n",
    "        break\n",
    "    \n",
    "\n",
    "    if page_index==1:\n",
    "\n",
    "        nxt=driver.find_element_by_xpath(\"//a[@class='_1LKTO3']\")\n",
    "        nxt.click()\n",
    "\n",
    "    else:\n",
    "        try:\n",
    "            nxt=driver.find_element_by_xpath(\"//a[@class='_1LKTO3'][2]\")\n",
    "            nxt.click()\n",
    "        except NoSuchElementException:\n",
    "            break\n",
    "    \n",
    "   \n",
    "    time.sleep(5)\n",
    "    prev_count=len(brand)\n",
    "    \n",
    "    print(len(brand))\n",
    "    \n",
    "    brand_temp=coll_flip_(count,\"//div[@class='_2WkVRV']\")\n",
    "    prod_desc_temp=coll_flip_(count,\"//a[@class='IRpwTa']\")\n",
    "    price_temp=coll_flip_(count,\"//div[@class='_30jeq3']\")\n",
    "    discount_temp=coll_flip_(count,\"//div[@class='_3Ay6Sb']\")\n",
    "    \n",
    "    brand=brand+brand_temp\n",
    "    \n",
    "    prod_desc=prod_desc+prod_desc_temp\n",
    "    price=price+price_temp\n",
    "    discount=discount+discount_temp\n",
    "    next_count=len(brand)\n",
    "    page_index=page_index+1\n",
    "\n"
   ]
  },
  {
   "cell_type": "code",
   "execution_count": 1670,
   "metadata": {},
   "outputs": [
    {
     "data": {
      "text/plain": [
       "100"
      ]
     },
     "execution_count": 1670,
     "metadata": {},
     "output_type": "execute_result"
    }
   ],
   "source": [
    "len(brand)"
   ]
  },
  {
   "cell_type": "code",
   "execution_count": 1671,
   "metadata": {},
   "outputs": [
    {
     "data": {
      "text/plain": [
       "86"
      ]
     },
     "execution_count": 1671,
     "metadata": {},
     "output_type": "execute_result"
    }
   ],
   "source": [
    "len(prod_desc)"
   ]
  },
  {
   "cell_type": "code",
   "execution_count": 1672,
   "metadata": {},
   "outputs": [
    {
     "data": {
      "text/plain": [
       "99"
      ]
     },
     "execution_count": 1672,
     "metadata": {},
     "output_type": "execute_result"
    }
   ],
   "source": [
    "len(discount)"
   ]
  },
  {
   "cell_type": "code",
   "execution_count": 1673,
   "metadata": {
    "scrolled": true
   },
   "outputs": [
    {
     "data": {
      "text/plain": [
       "100"
      ]
     },
     "execution_count": 1673,
     "metadata": {},
     "output_type": "execute_result"
    }
   ],
   "source": [
    "len(price)"
   ]
  },
  {
   "cell_type": "code",
   "execution_count": 1674,
   "metadata": {},
   "outputs": [],
   "source": [
    "# 2 attributes are skipped as data scrapped are not consistant\n",
    "import numpy as np\n",
    "NK8=pd.DataFrame({})\n",
    "NK8['Brand']=brand\n",
    "#NK8['Prod Description']=prod_desc\n",
    "#NK8['Discount']=discount\n",
    "NK8['Price']=price"
   ]
  },
  {
   "cell_type": "code",
   "execution_count": 1675,
   "metadata": {},
   "outputs": [
    {
     "data": {
      "text/html": [
       "<div>\n",
       "<style scoped>\n",
       "    .dataframe tbody tr th:only-of-type {\n",
       "        vertical-align: middle;\n",
       "    }\n",
       "\n",
       "    .dataframe tbody tr th {\n",
       "        vertical-align: top;\n",
       "    }\n",
       "\n",
       "    .dataframe thead th {\n",
       "        text-align: right;\n",
       "    }\n",
       "</style>\n",
       "<table border=\"1\" class=\"dataframe\">\n",
       "  <thead>\n",
       "    <tr style=\"text-align: right;\">\n",
       "      <th></th>\n",
       "      <th>Brand</th>\n",
       "      <th>Price</th>\n",
       "    </tr>\n",
       "  </thead>\n",
       "  <tbody>\n",
       "    <tr>\n",
       "      <th>0</th>\n",
       "      <td>HARMEET</td>\n",
       "      <td>₹599</td>\n",
       "    </tr>\n",
       "    <tr>\n",
       "      <th>1</th>\n",
       "      <td>bluemaker</td>\n",
       "      <td>₹474</td>\n",
       "    </tr>\n",
       "    <tr>\n",
       "      <th>2</th>\n",
       "      <td>Wika</td>\n",
       "      <td>₹449</td>\n",
       "    </tr>\n",
       "    <tr>\n",
       "      <th>3</th>\n",
       "      <td>Robbie jones</td>\n",
       "      <td>₹379</td>\n",
       "    </tr>\n",
       "    <tr>\n",
       "      <th>4</th>\n",
       "      <td>Numenzo</td>\n",
       "      <td>₹399</td>\n",
       "    </tr>\n",
       "  </tbody>\n",
       "</table>\n",
       "</div>"
      ],
      "text/plain": [
       "          Brand Price\n",
       "0       HARMEET  ₹599\n",
       "1     bluemaker  ₹474\n",
       "2          Wika  ₹449\n",
       "3  Robbie jones  ₹379\n",
       "4       Numenzo  ₹399"
      ]
     },
     "execution_count": 1675,
     "metadata": {},
     "output_type": "execute_result"
    }
   ],
   "source": [
    "NK8.head()"
   ]
  },
  {
   "cell_type": "code",
   "execution_count": 1679,
   "metadata": {},
   "outputs": [],
   "source": [
    "NK7.to_csv('Question_8.csv')"
   ]
  },
  {
   "cell_type": "code",
   "execution_count": null,
   "metadata": {},
   "outputs": [],
   "source": []
  },
  {
   "cell_type": "code",
   "execution_count": null,
   "metadata": {},
   "outputs": [],
   "source": []
  },
  {
   "cell_type": "code",
   "execution_count": null,
   "metadata": {},
   "outputs": [],
   "source": []
  },
  {
   "cell_type": "markdown",
   "metadata": {},
   "source": [
    "# ----------------------------------------------------------------"
   ]
  },
  {
   "cell_type": "markdown",
   "metadata": {},
   "source": [
    "# Q9"
   ]
  },
  {
   "cell_type": "code",
   "execution_count": 1680,
   "metadata": {},
   "outputs": [],
   "source": [
    "def coll_split(count,link):\n",
    "    list=driver.find_elements_by_xpath(link)\n",
    "    out_list=[]\n",
    "    index=1\n",
    "    \n",
    "    for i in list:\n",
    "        z=i.text.replace('\\n',' ')\n",
    "        kk=z.rfind('Rs')\n",
    "        if kk==0:\n",
    "            \n",
    "            out_list.append(z)\n",
    "        else:\n",
    "            out_list.append(z[0:kk])\n",
    "        \n",
    "        if index==count :\n",
    "            break\n",
    "        index=index+1\n",
    "    return out_list\n",
    "\n"
   ]
  },
  {
   "cell_type": "code",
   "execution_count": 1681,
   "metadata": {},
   "outputs": [],
   "source": [
    "driver=webdriver.Chrome(r'chromedriver.exe')\n",
    "\n",
    "\n",
    "url='https://www.myntra.com/shoes'\n",
    "driver.get(url)\n"
   ]
  },
  {
   "cell_type": "code",
   "execution_count": null,
   "metadata": {},
   "outputs": [],
   "source": []
  },
  {
   "cell_type": "code",
   "execution_count": 1682,
   "metadata": {},
   "outputs": [],
   "source": [
    "time.sleep(5)\n",
    "filter_button=driver.find_elements_by_xpath(\"//label[@class='common-customCheckbox']\")\n",
    "for i in filter_button:\n",
    "    \n",
    "    if i.text.split(' (')[0]=='Black':\n",
    "        \n",
    "        i.click()\n",
    "        break\n",
    "        "
   ]
  },
  {
   "cell_type": "code",
   "execution_count": null,
   "metadata": {},
   "outputs": [],
   "source": []
  },
  {
   "cell_type": "code",
   "execution_count": 1683,
   "metadata": {},
   "outputs": [],
   "source": [
    "time.sleep(15)\n",
    "\n",
    "filter_button=driver.find_elements_by_xpath(\"//label[@class='common-customCheckbox vertical-filters-label']\")\n",
    "for p in filter_button:\n",
    "    \n",
    "    \n",
    "    if p.text.split('(')[0]=='Rs. 6657 to Rs. 13105':\n",
    "        \n",
    "        p.click()\n",
    "        break\n",
    "        \n",
    "        "
   ]
  },
  {
   "cell_type": "code",
   "execution_count": 1684,
   "metadata": {},
   "outputs": [],
   "source": [
    "time.sleep(5)\n",
    "brand=coll_flip_(100,\"//h3[@class='product-brand']\")\n",
    "desc=coll_flip_(100,\"//h4[@class='product-product']\")\n",
    "\n",
    "price=coll_split(100,\"//div[@class='product-price']\")\n",
    "\n",
    "\n"
   ]
  },
  {
   "cell_type": "code",
   "execution_count": 1686,
   "metadata": {},
   "outputs": [],
   "source": [
    "\n",
    "\n",
    "prev_count=len(brand)\n",
    "next_count=0\n",
    "\n",
    "while 1:\n",
    "    \n",
    "    \n",
    "    \n",
    "    count=100-len(brand)\n",
    "    if count==0 or prev_count==next_count:\n",
    "        break\n",
    "        \n",
    "        \n",
    "    nxt=driver.find_element_by_xpath(\"//li[@class='pagination-next']/a\")\n",
    "    nxt.click()\n",
    "    \n",
    "\n",
    "    \n",
    "\n",
    "        \n",
    "\n",
    "    \n",
    "    \n",
    "   \n",
    "    time.sleep(5)\n",
    "    prev_count=len(brand)\n",
    "    \n",
    "    \n",
    "    brand_temp=coll_flip_(count,\"//h3[@class='product-brand']\")\n",
    "    prod_desc_temp=coll_flip_(count,\"//h4[@class='product-product']\")\n",
    "\n",
    "    price_temp=coll_split(count,\"//div[@class='product-price']\")\n",
    "\n",
    "    \n",
    "   \n",
    "   \n",
    "    brand=brand+brand_temp\n",
    "    \n",
    "    desc=desc+prod_desc_temp\n",
    "    price=price+price_temp\n",
    "    \n",
    "    next_count=len(brand)\n",
    "    \n"
   ]
  },
  {
   "cell_type": "code",
   "execution_count": 1687,
   "metadata": {},
   "outputs": [
    {
     "data": {
      "text/plain": [
       "100"
      ]
     },
     "execution_count": 1687,
     "metadata": {},
     "output_type": "execute_result"
    }
   ],
   "source": [
    "len(brand)"
   ]
  },
  {
   "cell_type": "code",
   "execution_count": 1688,
   "metadata": {},
   "outputs": [],
   "source": [
    "import numpy as np\n",
    "NK9=pd.DataFrame({})\n",
    "NK9['Brand']=brand\n",
    "NK9['Description']=desc\n",
    "NK9['Price']=price\n"
   ]
  },
  {
   "cell_type": "code",
   "execution_count": 1689,
   "metadata": {},
   "outputs": [
    {
     "data": {
      "text/html": [
       "<div>\n",
       "<style scoped>\n",
       "    .dataframe tbody tr th:only-of-type {\n",
       "        vertical-align: middle;\n",
       "    }\n",
       "\n",
       "    .dataframe tbody tr th {\n",
       "        vertical-align: top;\n",
       "    }\n",
       "\n",
       "    .dataframe thead th {\n",
       "        text-align: right;\n",
       "    }\n",
       "</style>\n",
       "<table border=\"1\" class=\"dataframe\">\n",
       "  <thead>\n",
       "    <tr style=\"text-align: right;\">\n",
       "      <th></th>\n",
       "      <th>Brand</th>\n",
       "      <th>Description</th>\n",
       "      <th>Price</th>\n",
       "    </tr>\n",
       "  </thead>\n",
       "  <tbody>\n",
       "    <tr>\n",
       "      <th>0</th>\n",
       "      <td>Nike</td>\n",
       "      <td>Men JOYRIDE Running Shoes</td>\n",
       "      <td>Rs. 11246</td>\n",
       "    </tr>\n",
       "    <tr>\n",
       "      <th>1</th>\n",
       "      <td>Nike</td>\n",
       "      <td>AIR ZOOM PEGASUS Running Shoes</td>\n",
       "      <td>Rs. 11495</td>\n",
       "    </tr>\n",
       "    <tr>\n",
       "      <th>2</th>\n",
       "      <td>Nike</td>\n",
       "      <td>Men KD13 EP Basketball Shoes</td>\n",
       "      <td>Rs. 12995</td>\n",
       "    </tr>\n",
       "    <tr>\n",
       "      <th>3</th>\n",
       "      <td>ALDO</td>\n",
       "      <td>Men Sneakers</td>\n",
       "      <td>Rs. 9999</td>\n",
       "    </tr>\n",
       "    <tr>\n",
       "      <th>4</th>\n",
       "      <td>Nike</td>\n",
       "      <td>Men JORDAN DELTA Basketball</td>\n",
       "      <td>Rs. 12495</td>\n",
       "    </tr>\n",
       "    <tr>\n",
       "      <th>5</th>\n",
       "      <td>ALDO</td>\n",
       "      <td>Men Textured Sneakers</td>\n",
       "      <td>Rs. 7199</td>\n",
       "    </tr>\n",
       "    <tr>\n",
       "      <th>6</th>\n",
       "      <td>Nike</td>\n",
       "      <td>Men REACT MILER Running Shoes</td>\n",
       "      <td>Rs. 8796</td>\n",
       "    </tr>\n",
       "    <tr>\n",
       "      <th>7</th>\n",
       "      <td>Nike</td>\n",
       "      <td>Men AIR ZOOM Running Shoes</td>\n",
       "      <td>Rs. 7721</td>\n",
       "    </tr>\n",
       "    <tr>\n",
       "      <th>8</th>\n",
       "      <td>Nike</td>\n",
       "      <td>Women PEGASUS 37 Running Shoes</td>\n",
       "      <td>Rs. 7496</td>\n",
       "    </tr>\n",
       "    <tr>\n",
       "      <th>9</th>\n",
       "      <td>Saint G</td>\n",
       "      <td>Men Leather Chelsea Boots</td>\n",
       "      <td>Rs. 11305</td>\n",
       "    </tr>\n",
       "  </tbody>\n",
       "</table>\n",
       "</div>"
      ],
      "text/plain": [
       "     Brand                     Description      Price\n",
       "0     Nike       Men JOYRIDE Running Shoes  Rs. 11246\n",
       "1     Nike  AIR ZOOM PEGASUS Running Shoes  Rs. 11495\n",
       "2     Nike    Men KD13 EP Basketball Shoes  Rs. 12995\n",
       "3     ALDO                    Men Sneakers   Rs. 9999\n",
       "4     Nike     Men JORDAN DELTA Basketball  Rs. 12495\n",
       "5     ALDO           Men Textured Sneakers   Rs. 7199\n",
       "6     Nike   Men REACT MILER Running Shoes   Rs. 8796\n",
       "7     Nike      Men AIR ZOOM Running Shoes   Rs. 7721\n",
       "8     Nike  Women PEGASUS 37 Running Shoes   Rs. 7496\n",
       "9  Saint G       Men Leather Chelsea Boots  Rs. 11305"
      ]
     },
     "execution_count": 1689,
     "metadata": {},
     "output_type": "execute_result"
    }
   ],
   "source": [
    "NK9.head(10)"
   ]
  },
  {
   "cell_type": "code",
   "execution_count": 1690,
   "metadata": {},
   "outputs": [],
   "source": [
    "NK9.to_csv('Question_9.csv')"
   ]
  },
  {
   "cell_type": "code",
   "execution_count": null,
   "metadata": {},
   "outputs": [],
   "source": []
  },
  {
   "cell_type": "markdown",
   "metadata": {},
   "source": [
    "# -------------------------------------------------------------------------"
   ]
  },
  {
   "cell_type": "markdown",
   "metadata": {},
   "source": [
    "# Q10"
   ]
  },
  {
   "cell_type": "code",
   "execution_count": 1816,
   "metadata": {},
   "outputs": [],
   "source": [
    "driver=webdriver.Chrome(r'chromedriver.exe')\n",
    "\n",
    "\n",
    "url='https://www.amazon.in/'\n",
    "driver.get(url)\n"
   ]
  },
  {
   "cell_type": "code",
   "execution_count": 1817,
   "metadata": {},
   "outputs": [],
   "source": [
    "sj=driver.find_element_by_name('field-keywords')\n",
    "\n",
    "sj.send_keys('laptops')\n"
   ]
  },
  {
   "cell_type": "code",
   "execution_count": 1818,
   "metadata": {},
   "outputs": [],
   "source": [
    "time.sleep(2)\n",
    "sb=driver.find_element_by_xpath(\"//div[@class='nav-search-submit nav-sprite']\")\n",
    "sb.click()\n"
   ]
  },
  {
   "cell_type": "code",
   "execution_count": 1819,
   "metadata": {},
   "outputs": [],
   "source": [
    "time.sleep(5)\n",
    "filter_button=driver.find_elements_by_xpath(\"//span[@class='a-size-base a-color-base']\")\n",
    "for i in filter_button:\n",
    "    \n",
    "    if i.text=='Intel Core i9':\n",
    "       \n",
    "        i.click()\n",
    "        break\n",
    "        "
   ]
  },
  {
   "cell_type": "code",
   "execution_count": 1820,
   "metadata": {},
   "outputs": [],
   "source": [
    "time.sleep(5)\n",
    "title=coll_flip_(10,\"//span[@class='a-size-medium a-color-base a-text-normal']\")\n",
    "#ratings=coll_flip_(10,\"//i[@class='a-icon-alt']/span\")\n",
    "price=coll_flip_(10,\"//span[@class='a-price-whole']\")\n",
    "\n"
   ]
  },
  {
   "cell_type": "code",
   "execution_count": 1821,
   "metadata": {},
   "outputs": [],
   "source": [
    "time.sleep(5)\n",
    "df=driver.find_element_by_xpath(\"//a[@class='a-link-normal s-navigation-item s-navigation-clear-link']\")\n",
    "df.click()\n"
   ]
  },
  {
   "cell_type": "code",
   "execution_count": 1822,
   "metadata": {},
   "outputs": [],
   "source": [
    "\n",
    "time.sleep(5)\n",
    "filter_button=driver.find_elements_by_xpath(\"//span[@class='a-size-base a-color-base']\")\n",
    "for i in filter_button:\n",
    "    \n",
    "     if i.text=='Intel Core i7':\n",
    "       \n",
    "        i.click()\n",
    "        break\n",
    "        \n",
    "\n",
    "        \n",
    "\n",
    "        "
   ]
  },
  {
   "cell_type": "code",
   "execution_count": 1823,
   "metadata": {},
   "outputs": [],
   "source": [
    "\n",
    "time.sleep(10)\n",
    "title_t=coll_flip_(10,\"//span[@class='a-size-medium a-color-base a-text-normal']\")\n",
    "        #ratings=coll_flip_(10,\"//i[@class='a-icon-alt']/span\")\n",
    "price_t=coll_flip_(10,\"//span[@class='a-price-whole']\")"
   ]
  },
  {
   "cell_type": "code",
   "execution_count": 1824,
   "metadata": {},
   "outputs": [],
   "source": [
    "title=title+title_t\n",
    "price=price+price_t\n",
    "    "
   ]
  },
  {
   "cell_type": "code",
   "execution_count": 1825,
   "metadata": {},
   "outputs": [
    {
     "data": {
      "text/plain": [
       "19"
      ]
     },
     "execution_count": 1825,
     "metadata": {},
     "output_type": "execute_result"
    }
   ],
   "source": [
    "len(price)"
   ]
  },
  {
   "cell_type": "code",
   "execution_count": 1826,
   "metadata": {},
   "outputs": [
    {
     "data": {
      "text/plain": [
       "['ASUS ROG Zephyrus Duo 15, 15.6\" FHD 300Hz/3ms, Intel Core i9-10980HK 10th Gen, RTX 2080 SUPER Max-Q 8GB Graphic, Gaming Laptop (32GB/2TB RAID 0 SSD/Office 2019/Windows 10/Gray/2.4 Kg) GX550LXS-HF168TS',\n",
       " 'Dell G7 7500 15.6inch FHD 300 Hz Display Gaming Laptop (10th Gen i9-10885H / 16 GB / 1TB SSD / NVIDIA RTX 2070 8GB Graphics / 1Yr Premium Warranty / Win 10 + MS Office H&S 2019) D560233WIN9B, Black',\n",
       " 'Lenovo Legion 7 10th Gen Intel Core i9 15.6 inch Full HD Gaming Laptop (16GB/1TB SSD/Windows 10/MS Office 2019/144 Hz/NVIDIA RTX 2080 8GB GDDR6 Graphics/Slate Grey/2.25Kg), 81YU006HIN',\n",
       " 'ASUS ROG Strix Scar 17 (2020), 17.3\" FHD 300Hz/3ms, Intel Core i9-10980HK 10th Gen, RTX 2080 Super GDDR6 8GB Graphics, Gaming Laptop (32GB/2TB RAID 0 SSD/Windows 10/Black/2.99 Kg), G732LXS-HG059T',\n",
       " '(Renewed) Dell G Series G7  7588 15.6-inch FHD Laptop (8th gen Core i9-8950HK/16GB/1TB + 128GB SSD/Windows 10/MS Office/6 GB Nvidia GeForce GTX 1060 Graphics)',\n",
       " 'ASUS ZenBook Pro Duo Intel Core i9-10980HK 10th Gen 15.6\" 4K UHD OLED Touchscreen Laptop (32GB RAM/1TB NVMe SSD/Windows 10/6GB NVIDIA GeForce RTX 2060 Graphics/Celestial Blue/2.5 Kg), UX581LV-H2035T',\n",
       " '(Renewed) Dell XPS 9570 Laptop|i9-8950HK|32GB DDR4|1TB SSD|15.6\" 4K Touch|NVIDIA GTX 1050Ti 4GB|Win 10 HSL|Backlit',\n",
       " 'Dell XPS 9570 15.6\" (39.62cms) UHD Laptop (8th Gen i9-8950HK/32GB/1TB SSD/Win 10 + MS Office/Integrated Graphics), Silver',\n",
       " 'Apple MacBook Pro (16-inch, 16GB RAM, 1TB Storage, 2.3GHz 9th Gen Intel Core i9) - Silver',\n",
       " 'HP Z4 Workstation, Intel Core i9-7900X, RAM 32GB (4x8GB), 2TB Hard Disk, GFX NVIDIA Quadro P2000 5GB (4) DP, Windows 10 Pro, DVDRW, 3 Yrs Onsite Warranty by HP',\n",
       " 'HP Pavilion x360 (2021) 14\" (35.56cms) FHD Touchscreen Laptop, 11th Gen Core i7, 8 GB RAM, 512GB SSD, 2-in-1 Convertible, Windows 10, MS Office, Finger Print Reader (14-dw1040TU)',\n",
       " 'Lenovo Yoga Slim 7i 11th Gen Intel Core i7 14\" FHD IPS Thin and Light Laptop (16GB/1TB SSD/Win 10/Office/Intel Iris Xe Graphics/Fingerprint/HD IR Camera/Aluminium Surface/Slate Grey/1.36Kg) 82A3009QIN',\n",
       " 'Life Digital Laptop 15.6-inch (39.62 cms) (Intel Core i7, 8GB RAM, 512GB SSD, Windows 10), ZED AIR CX7',\n",
       " 'HP Pavilion Gaming 10th Gen Intel Core i7 Processor 15.6-inch FHD Gaming Laptop (16GB/512GB SSD + 32GB Intel Optane/Windows 10/NVIDIA 1650Ti 4GB/Shadow Black), 15-dk1509TX',\n",
       " 'Mi Notebook Horizon Edition 14 Intel Core i5-10210U 10th Gen 14-inch (35.56 cms) Thin and Light Laptop(8GB/512GB SSD/Windows 10/Nvidia MX350 2GB Graphics/Grey/1.35Kg), XMA1904-AR+Webcam',\n",
       " 'CUK VivoBook K571 by ASUS 15 Inch Gaming Laptop (Intel Core i7, 16GB RAM, 256GB NVMe SSD + 1TB HDD, NVIDIA GeForce GTX 1650 Ti 4GB, 15.6\" FHD, Windows 10 Home) Thin Notebook Computer',\n",
       " 'Dell Inspiron 5406 14\" FHD Touch Display 2in1 Laptop (11th Gen i7-1165G7 / 8Gb / 512Gb SSD / Integrated Graphics / Win 10 + MSO / Titan Grey Color / FPR/ Active Pen) D560414WIN9S',\n",
       " '(Renewed) Dell Intel 6th Gen Core i7-6820HQ 15-Inch (38.1 cms) 1366x768 Laptop (8 GB/500 GB HDD/Windows/MS Office Pro 2019 /AMD/Black/2.47 Kg), Latitude E5570',\n",
       " 'OMEN by HP 15.6-inch 10th Gen Intel Core i7-10870H Processor FHD Gaming Laptop (16GB/512GB SSD + 32GB Intel Optane/144Hz Refresh Rate/Win 10/NVIDIA RTX 3060 6GB/Shadow Black), 15-ek1017TX',\n",
       " 'Acer Swift 5 14\" (35.56cms) Full HD IPS Display with Touchscreen Ultra Thin and Light Notebook (Intel i7 - 11th Gen/16GB RAM/1TB SSD/Win10/Intel Iris Xe Graphics/1.05 Kg/Mist Green), SF514-55TA']"
      ]
     },
     "execution_count": 1826,
     "metadata": {},
     "output_type": "execute_result"
    }
   ],
   "source": [
    "title"
   ]
  },
  {
   "cell_type": "code",
   "execution_count": 1827,
   "metadata": {},
   "outputs": [
    {
     "ename": "ValueError",
     "evalue": "Length of values (19) does not match length of index (20)",
     "output_type": "error",
     "traceback": [
      "\u001b[1;31m---------------------------------------------------------------------------\u001b[0m",
      "\u001b[1;31mValueError\u001b[0m                                Traceback (most recent call last)",
      "\u001b[1;32m<ipython-input-1827-3919738927b8>\u001b[0m in \u001b[0;36m<module>\u001b[1;34m\u001b[0m\n\u001b[0;32m      2\u001b[0m \u001b[0mNK10\u001b[0m\u001b[1;33m[\u001b[0m\u001b[1;34m'title'\u001b[0m\u001b[1;33m]\u001b[0m\u001b[1;33m=\u001b[0m\u001b[0mtitle\u001b[0m\u001b[1;33m\u001b[0m\u001b[1;33m\u001b[0m\u001b[0m\n\u001b[0;32m      3\u001b[0m \u001b[1;33m\u001b[0m\u001b[0m\n\u001b[1;32m----> 4\u001b[1;33m \u001b[0mNK10\u001b[0m\u001b[1;33m[\u001b[0m\u001b[1;34m'Price'\u001b[0m\u001b[1;33m]\u001b[0m\u001b[1;33m=\u001b[0m\u001b[0mprice\u001b[0m\u001b[1;33m\u001b[0m\u001b[1;33m\u001b[0m\u001b[0m\n\u001b[0m",
      "\u001b[1;32m~\\anaconda3\\lib\\site-packages\\pandas\\core\\frame.py\u001b[0m in \u001b[0;36m__setitem__\u001b[1;34m(self, key, value)\u001b[0m\n\u001b[0;32m   3038\u001b[0m         \u001b[1;32melse\u001b[0m\u001b[1;33m:\u001b[0m\u001b[1;33m\u001b[0m\u001b[1;33m\u001b[0m\u001b[0m\n\u001b[0;32m   3039\u001b[0m             \u001b[1;31m# set column\u001b[0m\u001b[1;33m\u001b[0m\u001b[1;33m\u001b[0m\u001b[1;33m\u001b[0m\u001b[0m\n\u001b[1;32m-> 3040\u001b[1;33m             \u001b[0mself\u001b[0m\u001b[1;33m.\u001b[0m\u001b[0m_set_item\u001b[0m\u001b[1;33m(\u001b[0m\u001b[0mkey\u001b[0m\u001b[1;33m,\u001b[0m \u001b[0mvalue\u001b[0m\u001b[1;33m)\u001b[0m\u001b[1;33m\u001b[0m\u001b[1;33m\u001b[0m\u001b[0m\n\u001b[0m\u001b[0;32m   3041\u001b[0m \u001b[1;33m\u001b[0m\u001b[0m\n\u001b[0;32m   3042\u001b[0m     \u001b[1;32mdef\u001b[0m \u001b[0m_setitem_slice\u001b[0m\u001b[1;33m(\u001b[0m\u001b[0mself\u001b[0m\u001b[1;33m,\u001b[0m \u001b[0mkey\u001b[0m\u001b[1;33m:\u001b[0m \u001b[0mslice\u001b[0m\u001b[1;33m,\u001b[0m \u001b[0mvalue\u001b[0m\u001b[1;33m)\u001b[0m\u001b[1;33m:\u001b[0m\u001b[1;33m\u001b[0m\u001b[1;33m\u001b[0m\u001b[0m\n",
      "\u001b[1;32m~\\anaconda3\\lib\\site-packages\\pandas\\core\\frame.py\u001b[0m in \u001b[0;36m_set_item\u001b[1;34m(self, key, value)\u001b[0m\n\u001b[0;32m   3114\u001b[0m         \"\"\"\n\u001b[0;32m   3115\u001b[0m         \u001b[0mself\u001b[0m\u001b[1;33m.\u001b[0m\u001b[0m_ensure_valid_index\u001b[0m\u001b[1;33m(\u001b[0m\u001b[0mvalue\u001b[0m\u001b[1;33m)\u001b[0m\u001b[1;33m\u001b[0m\u001b[1;33m\u001b[0m\u001b[0m\n\u001b[1;32m-> 3116\u001b[1;33m         \u001b[0mvalue\u001b[0m \u001b[1;33m=\u001b[0m \u001b[0mself\u001b[0m\u001b[1;33m.\u001b[0m\u001b[0m_sanitize_column\u001b[0m\u001b[1;33m(\u001b[0m\u001b[0mkey\u001b[0m\u001b[1;33m,\u001b[0m \u001b[0mvalue\u001b[0m\u001b[1;33m)\u001b[0m\u001b[1;33m\u001b[0m\u001b[1;33m\u001b[0m\u001b[0m\n\u001b[0m\u001b[0;32m   3117\u001b[0m         \u001b[0mNDFrame\u001b[0m\u001b[1;33m.\u001b[0m\u001b[0m_set_item\u001b[0m\u001b[1;33m(\u001b[0m\u001b[0mself\u001b[0m\u001b[1;33m,\u001b[0m \u001b[0mkey\u001b[0m\u001b[1;33m,\u001b[0m \u001b[0mvalue\u001b[0m\u001b[1;33m)\u001b[0m\u001b[1;33m\u001b[0m\u001b[1;33m\u001b[0m\u001b[0m\n\u001b[0;32m   3118\u001b[0m \u001b[1;33m\u001b[0m\u001b[0m\n",
      "\u001b[1;32m~\\anaconda3\\lib\\site-packages\\pandas\\core\\frame.py\u001b[0m in \u001b[0;36m_sanitize_column\u001b[1;34m(self, key, value, broadcast)\u001b[0m\n\u001b[0;32m   3762\u001b[0m \u001b[1;33m\u001b[0m\u001b[0m\n\u001b[0;32m   3763\u001b[0m             \u001b[1;31m# turn me into an ndarray\u001b[0m\u001b[1;33m\u001b[0m\u001b[1;33m\u001b[0m\u001b[1;33m\u001b[0m\u001b[0m\n\u001b[1;32m-> 3764\u001b[1;33m             \u001b[0mvalue\u001b[0m \u001b[1;33m=\u001b[0m \u001b[0msanitize_index\u001b[0m\u001b[1;33m(\u001b[0m\u001b[0mvalue\u001b[0m\u001b[1;33m,\u001b[0m \u001b[0mself\u001b[0m\u001b[1;33m.\u001b[0m\u001b[0mindex\u001b[0m\u001b[1;33m)\u001b[0m\u001b[1;33m\u001b[0m\u001b[1;33m\u001b[0m\u001b[0m\n\u001b[0m\u001b[0;32m   3765\u001b[0m             \u001b[1;32mif\u001b[0m \u001b[1;32mnot\u001b[0m \u001b[0misinstance\u001b[0m\u001b[1;33m(\u001b[0m\u001b[0mvalue\u001b[0m\u001b[1;33m,\u001b[0m \u001b[1;33m(\u001b[0m\u001b[0mnp\u001b[0m\u001b[1;33m.\u001b[0m\u001b[0mndarray\u001b[0m\u001b[1;33m,\u001b[0m \u001b[0mIndex\u001b[0m\u001b[1;33m)\u001b[0m\u001b[1;33m)\u001b[0m\u001b[1;33m:\u001b[0m\u001b[1;33m\u001b[0m\u001b[1;33m\u001b[0m\u001b[0m\n\u001b[0;32m   3766\u001b[0m                 \u001b[1;32mif\u001b[0m \u001b[0misinstance\u001b[0m\u001b[1;33m(\u001b[0m\u001b[0mvalue\u001b[0m\u001b[1;33m,\u001b[0m \u001b[0mlist\u001b[0m\u001b[1;33m)\u001b[0m \u001b[1;32mand\u001b[0m \u001b[0mlen\u001b[0m\u001b[1;33m(\u001b[0m\u001b[0mvalue\u001b[0m\u001b[1;33m)\u001b[0m \u001b[1;33m>\u001b[0m \u001b[1;36m0\u001b[0m\u001b[1;33m:\u001b[0m\u001b[1;33m\u001b[0m\u001b[1;33m\u001b[0m\u001b[0m\n",
      "\u001b[1;32m~\\anaconda3\\lib\\site-packages\\pandas\\core\\internals\\construction.py\u001b[0m in \u001b[0;36msanitize_index\u001b[1;34m(data, index)\u001b[0m\n\u001b[0;32m    745\u001b[0m     \"\"\"\n\u001b[0;32m    746\u001b[0m     \u001b[1;32mif\u001b[0m \u001b[0mlen\u001b[0m\u001b[1;33m(\u001b[0m\u001b[0mdata\u001b[0m\u001b[1;33m)\u001b[0m \u001b[1;33m!=\u001b[0m \u001b[0mlen\u001b[0m\u001b[1;33m(\u001b[0m\u001b[0mindex\u001b[0m\u001b[1;33m)\u001b[0m\u001b[1;33m:\u001b[0m\u001b[1;33m\u001b[0m\u001b[1;33m\u001b[0m\u001b[0m\n\u001b[1;32m--> 747\u001b[1;33m         raise ValueError(\n\u001b[0m\u001b[0;32m    748\u001b[0m             \u001b[1;34m\"Length of values \"\u001b[0m\u001b[1;33m\u001b[0m\u001b[1;33m\u001b[0m\u001b[0m\n\u001b[0;32m    749\u001b[0m             \u001b[1;34mf\"({len(data)}) \"\u001b[0m\u001b[1;33m\u001b[0m\u001b[1;33m\u001b[0m\u001b[0m\n",
      "\u001b[1;31mValueError\u001b[0m: Length of values (19) does not match length of index (20)"
     ]
    }
   ],
   "source": [
    "\n",
    "NK10=pd.DataFrame({})\n",
    "NK10['title']=title\n",
    "\n",
    "NK10['Price']=price"
   ]
  },
  {
   "cell_type": "code",
   "execution_count": null,
   "metadata": {},
   "outputs": [],
   "source": [
    "NK10.head(20)"
   ]
  },
  {
   "cell_type": "code",
   "execution_count": null,
   "metadata": {},
   "outputs": [],
   "source": [
    "NK10.to_csv('Question_10.csv')"
   ]
  }
 ],
 "metadata": {
  "kernelspec": {
   "display_name": "Python 3",
   "language": "python",
   "name": "python3"
  },
  "language_info": {
   "codemirror_mode": {
    "name": "ipython",
    "version": 3
   },
   "file_extension": ".py",
   "mimetype": "text/x-python",
   "name": "python",
   "nbconvert_exporter": "python",
   "pygments_lexer": "ipython3",
   "version": "3.8.5"
  }
 },
 "nbformat": 4,
 "nbformat_minor": 4
}
